{
  "nbformat": 4,
  "nbformat_minor": 0,
  "metadata": {
    "colab": {
      "name": "SAMPLING_SMOKETETipynb",
      "provenance": [],
      "collapsed_sections": []
    },
    "kernelspec": {
      "name": "python3",
      "display_name": "Python 3"
    }
  },
  "cells": [
    {
      "cell_type": "code",
      "metadata": {
        "id": "NzM5hTcCl49T"
      },
      "source": [
        "import pandas as pd\n",
        "import numpy as np"
      ],
      "execution_count": null,
      "outputs": []
    },
    {
      "cell_type": "code",
      "metadata": {
        "id": "oJpueosbmdLE",
        "colab": {
          "base_uri": "https://localhost:8080/",
          "height": 444
        },
        "outputId": "a3939325-6752-4b03-97cd-5135b7f2f57f"
      },
      "source": [
        "data = pd.read_csv(\"/content/creditcard.csv\")\n",
        "data"
      ],
      "execution_count": null,
      "outputs": [
        {
          "output_type": "execute_result",
          "data": {
            "text/html": [
              "<div>\n",
              "<style scoped>\n",
              "    .dataframe tbody tr th:only-of-type {\n",
              "        vertical-align: middle;\n",
              "    }\n",
              "\n",
              "    .dataframe tbody tr th {\n",
              "        vertical-align: top;\n",
              "    }\n",
              "\n",
              "    .dataframe thead th {\n",
              "        text-align: right;\n",
              "    }\n",
              "</style>\n",
              "<table border=\"1\" class=\"dataframe\">\n",
              "  <thead>\n",
              "    <tr style=\"text-align: right;\">\n",
              "      <th></th>\n",
              "      <th>Time</th>\n",
              "      <th>V1</th>\n",
              "      <th>V2</th>\n",
              "      <th>V3</th>\n",
              "      <th>V4</th>\n",
              "      <th>V5</th>\n",
              "      <th>V6</th>\n",
              "      <th>V7</th>\n",
              "      <th>V8</th>\n",
              "      <th>V9</th>\n",
              "      <th>V10</th>\n",
              "      <th>V11</th>\n",
              "      <th>V12</th>\n",
              "      <th>V13</th>\n",
              "      <th>V14</th>\n",
              "      <th>V15</th>\n",
              "      <th>V16</th>\n",
              "      <th>V17</th>\n",
              "      <th>V18</th>\n",
              "      <th>V19</th>\n",
              "      <th>V20</th>\n",
              "      <th>V21</th>\n",
              "      <th>V22</th>\n",
              "      <th>V23</th>\n",
              "      <th>V24</th>\n",
              "      <th>V25</th>\n",
              "      <th>V26</th>\n",
              "      <th>V27</th>\n",
              "      <th>V28</th>\n",
              "      <th>Amount</th>\n",
              "      <th>Class</th>\n",
              "    </tr>\n",
              "  </thead>\n",
              "  <tbody>\n",
              "    <tr>\n",
              "      <th>0</th>\n",
              "      <td>0</td>\n",
              "      <td>-1.359807</td>\n",
              "      <td>-0.072781</td>\n",
              "      <td>2.536347</td>\n",
              "      <td>1.378155</td>\n",
              "      <td>-0.338321</td>\n",
              "      <td>0.462388</td>\n",
              "      <td>0.239599</td>\n",
              "      <td>0.098698</td>\n",
              "      <td>0.363787</td>\n",
              "      <td>0.090794</td>\n",
              "      <td>-0.551600</td>\n",
              "      <td>-0.617801</td>\n",
              "      <td>-0.991390</td>\n",
              "      <td>-0.311169</td>\n",
              "      <td>1.468177</td>\n",
              "      <td>-0.470401</td>\n",
              "      <td>0.207971</td>\n",
              "      <td>0.025791</td>\n",
              "      <td>0.403993</td>\n",
              "      <td>0.251412</td>\n",
              "      <td>-0.018307</td>\n",
              "      <td>0.277838</td>\n",
              "      <td>-0.110474</td>\n",
              "      <td>0.066928</td>\n",
              "      <td>0.128539</td>\n",
              "      <td>-0.189115</td>\n",
              "      <td>0.133558</td>\n",
              "      <td>-0.021053</td>\n",
              "      <td>149.62</td>\n",
              "      <td>0.0</td>\n",
              "    </tr>\n",
              "    <tr>\n",
              "      <th>1</th>\n",
              "      <td>0</td>\n",
              "      <td>1.191857</td>\n",
              "      <td>0.266151</td>\n",
              "      <td>0.166480</td>\n",
              "      <td>0.448154</td>\n",
              "      <td>0.060018</td>\n",
              "      <td>-0.082361</td>\n",
              "      <td>-0.078803</td>\n",
              "      <td>0.085102</td>\n",
              "      <td>-0.255425</td>\n",
              "      <td>-0.166974</td>\n",
              "      <td>1.612727</td>\n",
              "      <td>1.065235</td>\n",
              "      <td>0.489095</td>\n",
              "      <td>-0.143772</td>\n",
              "      <td>0.635558</td>\n",
              "      <td>0.463917</td>\n",
              "      <td>-0.114805</td>\n",
              "      <td>-0.183361</td>\n",
              "      <td>-0.145783</td>\n",
              "      <td>-0.069083</td>\n",
              "      <td>-0.225775</td>\n",
              "      <td>-0.638672</td>\n",
              "      <td>0.101288</td>\n",
              "      <td>-0.339846</td>\n",
              "      <td>0.167170</td>\n",
              "      <td>0.125895</td>\n",
              "      <td>-0.008983</td>\n",
              "      <td>0.014724</td>\n",
              "      <td>2.69</td>\n",
              "      <td>0.0</td>\n",
              "    </tr>\n",
              "    <tr>\n",
              "      <th>2</th>\n",
              "      <td>1</td>\n",
              "      <td>-1.358354</td>\n",
              "      <td>-1.340163</td>\n",
              "      <td>1.773209</td>\n",
              "      <td>0.379780</td>\n",
              "      <td>-0.503198</td>\n",
              "      <td>1.800499</td>\n",
              "      <td>0.791461</td>\n",
              "      <td>0.247676</td>\n",
              "      <td>-1.514654</td>\n",
              "      <td>0.207643</td>\n",
              "      <td>0.624501</td>\n",
              "      <td>0.066084</td>\n",
              "      <td>0.717293</td>\n",
              "      <td>-0.165946</td>\n",
              "      <td>2.345865</td>\n",
              "      <td>-2.890083</td>\n",
              "      <td>1.109969</td>\n",
              "      <td>-0.121359</td>\n",
              "      <td>-2.261857</td>\n",
              "      <td>0.524980</td>\n",
              "      <td>0.247998</td>\n",
              "      <td>0.771679</td>\n",
              "      <td>0.909412</td>\n",
              "      <td>-0.689281</td>\n",
              "      <td>-0.327642</td>\n",
              "      <td>-0.139097</td>\n",
              "      <td>-0.055353</td>\n",
              "      <td>-0.059752</td>\n",
              "      <td>378.66</td>\n",
              "      <td>0.0</td>\n",
              "    </tr>\n",
              "    <tr>\n",
              "      <th>3</th>\n",
              "      <td>1</td>\n",
              "      <td>-0.966272</td>\n",
              "      <td>-0.185226</td>\n",
              "      <td>1.792993</td>\n",
              "      <td>-0.863291</td>\n",
              "      <td>-0.010309</td>\n",
              "      <td>1.247203</td>\n",
              "      <td>0.237609</td>\n",
              "      <td>0.377436</td>\n",
              "      <td>-1.387024</td>\n",
              "      <td>-0.054952</td>\n",
              "      <td>-0.226487</td>\n",
              "      <td>0.178228</td>\n",
              "      <td>0.507757</td>\n",
              "      <td>-0.287924</td>\n",
              "      <td>-0.631418</td>\n",
              "      <td>-1.059647</td>\n",
              "      <td>-0.684093</td>\n",
              "      <td>1.965775</td>\n",
              "      <td>-1.232622</td>\n",
              "      <td>-0.208038</td>\n",
              "      <td>-0.108300</td>\n",
              "      <td>0.005274</td>\n",
              "      <td>-0.190321</td>\n",
              "      <td>-1.175575</td>\n",
              "      <td>0.647376</td>\n",
              "      <td>-0.221929</td>\n",
              "      <td>0.062723</td>\n",
              "      <td>0.061458</td>\n",
              "      <td>123.50</td>\n",
              "      <td>0.0</td>\n",
              "    </tr>\n",
              "    <tr>\n",
              "      <th>4</th>\n",
              "      <td>2</td>\n",
              "      <td>-1.158233</td>\n",
              "      <td>0.877737</td>\n",
              "      <td>1.548718</td>\n",
              "      <td>0.403034</td>\n",
              "      <td>-0.407193</td>\n",
              "      <td>0.095921</td>\n",
              "      <td>0.592941</td>\n",
              "      <td>-0.270533</td>\n",
              "      <td>0.817739</td>\n",
              "      <td>0.753074</td>\n",
              "      <td>-0.822843</td>\n",
              "      <td>0.538196</td>\n",
              "      <td>1.345852</td>\n",
              "      <td>-1.119670</td>\n",
              "      <td>0.175121</td>\n",
              "      <td>-0.451449</td>\n",
              "      <td>-0.237033</td>\n",
              "      <td>-0.038195</td>\n",
              "      <td>0.803487</td>\n",
              "      <td>0.408542</td>\n",
              "      <td>-0.009431</td>\n",
              "      <td>0.798278</td>\n",
              "      <td>-0.137458</td>\n",
              "      <td>0.141267</td>\n",
              "      <td>-0.206010</td>\n",
              "      <td>0.502292</td>\n",
              "      <td>0.219422</td>\n",
              "      <td>0.215153</td>\n",
              "      <td>69.99</td>\n",
              "      <td>0.0</td>\n",
              "    </tr>\n",
              "    <tr>\n",
              "      <th>...</th>\n",
              "      <td>...</td>\n",
              "      <td>...</td>\n",
              "      <td>...</td>\n",
              "      <td>...</td>\n",
              "      <td>...</td>\n",
              "      <td>...</td>\n",
              "      <td>...</td>\n",
              "      <td>...</td>\n",
              "      <td>...</td>\n",
              "      <td>...</td>\n",
              "      <td>...</td>\n",
              "      <td>...</td>\n",
              "      <td>...</td>\n",
              "      <td>...</td>\n",
              "      <td>...</td>\n",
              "      <td>...</td>\n",
              "      <td>...</td>\n",
              "      <td>...</td>\n",
              "      <td>...</td>\n",
              "      <td>...</td>\n",
              "      <td>...</td>\n",
              "      <td>...</td>\n",
              "      <td>...</td>\n",
              "      <td>...</td>\n",
              "      <td>...</td>\n",
              "      <td>...</td>\n",
              "      <td>...</td>\n",
              "      <td>...</td>\n",
              "      <td>...</td>\n",
              "      <td>...</td>\n",
              "      <td>...</td>\n",
              "    </tr>\n",
              "    <tr>\n",
              "      <th>5969</th>\n",
              "      <td>6634</td>\n",
              "      <td>-1.611463</td>\n",
              "      <td>0.190648</td>\n",
              "      <td>0.901715</td>\n",
              "      <td>1.531254</td>\n",
              "      <td>-1.535865</td>\n",
              "      <td>0.799245</td>\n",
              "      <td>1.513786</td>\n",
              "      <td>0.495829</td>\n",
              "      <td>0.200390</td>\n",
              "      <td>-0.813875</td>\n",
              "      <td>2.263961</td>\n",
              "      <td>-2.404267</td>\n",
              "      <td>0.539918</td>\n",
              "      <td>2.515491</td>\n",
              "      <td>0.263140</td>\n",
              "      <td>-0.171599</td>\n",
              "      <td>0.915024</td>\n",
              "      <td>0.726361</td>\n",
              "      <td>0.231064</td>\n",
              "      <td>0.935516</td>\n",
              "      <td>0.211223</td>\n",
              "      <td>0.007477</td>\n",
              "      <td>1.026272</td>\n",
              "      <td>0.057628</td>\n",
              "      <td>-0.024955</td>\n",
              "      <td>-0.368263</td>\n",
              "      <td>0.081684</td>\n",
              "      <td>0.140669</td>\n",
              "      <td>458.92</td>\n",
              "      <td>0.0</td>\n",
              "    </tr>\n",
              "    <tr>\n",
              "      <th>5970</th>\n",
              "      <td>6635</td>\n",
              "      <td>-1.420272</td>\n",
              "      <td>1.449354</td>\n",
              "      <td>1.320110</td>\n",
              "      <td>-1.894320</td>\n",
              "      <td>0.913695</td>\n",
              "      <td>0.454601</td>\n",
              "      <td>0.894179</td>\n",
              "      <td>-0.385450</td>\n",
              "      <td>2.433841</td>\n",
              "      <td>1.193458</td>\n",
              "      <td>1.768046</td>\n",
              "      <td>-2.243744</td>\n",
              "      <td>1.923132</td>\n",
              "      <td>0.508340</td>\n",
              "      <td>-0.461116</td>\n",
              "      <td>0.444660</td>\n",
              "      <td>-0.708002</td>\n",
              "      <td>0.157251</td>\n",
              "      <td>-0.660755</td>\n",
              "      <td>0.884055</td>\n",
              "      <td>-0.529027</td>\n",
              "      <td>-0.368394</td>\n",
              "      <td>-0.247773</td>\n",
              "      <td>-1.189156</td>\n",
              "      <td>-0.126040</td>\n",
              "      <td>0.701487</td>\n",
              "      <td>0.277333</td>\n",
              "      <td>-0.222694</td>\n",
              "      <td>0.77</td>\n",
              "      <td>0.0</td>\n",
              "    </tr>\n",
              "    <tr>\n",
              "      <th>5971</th>\n",
              "      <td>6637</td>\n",
              "      <td>-1.206696</td>\n",
              "      <td>0.284728</td>\n",
              "      <td>2.152053</td>\n",
              "      <td>-2.850437</td>\n",
              "      <td>-0.437285</td>\n",
              "      <td>-0.238376</td>\n",
              "      <td>-0.333341</td>\n",
              "      <td>0.334679</td>\n",
              "      <td>2.870542</td>\n",
              "      <td>-1.597722</td>\n",
              "      <td>1.236858</td>\n",
              "      <td>-2.679822</td>\n",
              "      <td>0.121389</td>\n",
              "      <td>1.488705</td>\n",
              "      <td>0.355190</td>\n",
              "      <td>0.825615</td>\n",
              "      <td>-0.510001</td>\n",
              "      <td>1.853563</td>\n",
              "      <td>-0.140442</td>\n",
              "      <td>0.082038</td>\n",
              "      <td>0.039460</td>\n",
              "      <td>0.464476</td>\n",
              "      <td>-0.457193</td>\n",
              "      <td>-0.556105</td>\n",
              "      <td>0.517579</td>\n",
              "      <td>0.008006</td>\n",
              "      <td>0.366054</td>\n",
              "      <td>0.185008</td>\n",
              "      <td>14.00</td>\n",
              "      <td>0.0</td>\n",
              "    </tr>\n",
              "    <tr>\n",
              "      <th>5972</th>\n",
              "      <td>6644</td>\n",
              "      <td>1.067611</td>\n",
              "      <td>0.091006</td>\n",
              "      <td>-0.153917</td>\n",
              "      <td>0.704233</td>\n",
              "      <td>0.113894</td>\n",
              "      <td>-0.826866</td>\n",
              "      <td>0.567690</td>\n",
              "      <td>-0.464181</td>\n",
              "      <td>0.957295</td>\n",
              "      <td>-0.518488</td>\n",
              "      <td>0.443094</td>\n",
              "      <td>-1.829303</td>\n",
              "      <td>2.852460</td>\n",
              "      <td>1.701912</td>\n",
              "      <td>-0.037339</td>\n",
              "      <td>0.122023</td>\n",
              "      <td>0.230354</td>\n",
              "      <td>-0.535946</td>\n",
              "      <td>0.058243</td>\n",
              "      <td>0.211006</td>\n",
              "      <td>-0.476723</td>\n",
              "      <td>-1.410090</td>\n",
              "      <td>-0.037550</td>\n",
              "      <td>-0.177773</td>\n",
              "      <td>0.321810</td>\n",
              "      <td>0.114930</td>\n",
              "      <td>-0.109640</td>\n",
              "      <td>0.023205</td>\n",
              "      <td>139.90</td>\n",
              "      <td>0.0</td>\n",
              "    </tr>\n",
              "    <tr>\n",
              "      <th>5973</th>\n",
              "      <td>6645</td>\n",
              "      <td>-0.535272</td>\n",
              "      <td>-0.132299</td>\n",
              "      <td>2.180041</td>\n",
              "      <td>1.018303</td>\n",
              "      <td>-1.498819</td>\n",
              "      <td>0.529570</td>\n",
              "      <td>0.420147</td>\n",
              "      <td>0.045445</td>\n",
              "      <td>1.543919</td>\n",
              "      <td>-1.032799</td>\n",
              "      <td>0.894398</td>\n",
              "      <td>-1.841281</td>\n",
              "      <td>2.113023</td>\n",
              "      <td>0.890383</td>\n",
              "      <td>-0.210091</td>\n",
              "      <td>-1.317822</td>\n",
              "      <td>1.000000</td>\n",
              "      <td>NaN</td>\n",
              "      <td>NaN</td>\n",
              "      <td>NaN</td>\n",
              "      <td>NaN</td>\n",
              "      <td>NaN</td>\n",
              "      <td>NaN</td>\n",
              "      <td>NaN</td>\n",
              "      <td>NaN</td>\n",
              "      <td>NaN</td>\n",
              "      <td>NaN</td>\n",
              "      <td>NaN</td>\n",
              "      <td>NaN</td>\n",
              "      <td>NaN</td>\n",
              "    </tr>\n",
              "  </tbody>\n",
              "</table>\n",
              "<p>5974 rows × 31 columns</p>\n",
              "</div>"
            ],
            "text/plain": [
              "      Time        V1        V2        V3  ...       V27       V28  Amount  Class\n",
              "0        0 -1.359807 -0.072781  2.536347  ...  0.133558 -0.021053  149.62    0.0\n",
              "1        0  1.191857  0.266151  0.166480  ... -0.008983  0.014724    2.69    0.0\n",
              "2        1 -1.358354 -1.340163  1.773209  ... -0.055353 -0.059752  378.66    0.0\n",
              "3        1 -0.966272 -0.185226  1.792993  ...  0.062723  0.061458  123.50    0.0\n",
              "4        2 -1.158233  0.877737  1.548718  ...  0.219422  0.215153   69.99    0.0\n",
              "...    ...       ...       ...       ...  ...       ...       ...     ...    ...\n",
              "5969  6634 -1.611463  0.190648  0.901715  ...  0.081684  0.140669  458.92    0.0\n",
              "5970  6635 -1.420272  1.449354  1.320110  ...  0.277333 -0.222694    0.77    0.0\n",
              "5971  6637 -1.206696  0.284728  2.152053  ...  0.366054  0.185008   14.00    0.0\n",
              "5972  6644  1.067611  0.091006 -0.153917  ... -0.109640  0.023205  139.90    0.0\n",
              "5973  6645 -0.535272 -0.132299  2.180041  ...       NaN       NaN     NaN    NaN\n",
              "\n",
              "[5974 rows x 31 columns]"
            ]
          },
          "metadata": {
            "tags": []
          },
          "execution_count": 2
        }
      ]
    },
    {
      "cell_type": "code",
      "metadata": {
        "id": "13gOeeuMjfeK",
        "colab": {
          "base_uri": "https://localhost:8080/",
          "height": 225
        },
        "outputId": "caed0e40-df67-4758-edae-9070ed73b6c2"
      },
      "source": [
        "# data[data.duplicated(keep=True)].head(30)\n",
        "data= data.duplicated(keep=False)\n",
        "data"
      ],
      "execution_count": null,
      "outputs": [
        {
          "output_type": "execute_result",
          "data": {
            "text/plain": [
              "0       False\n",
              "1       False\n",
              "2       False\n",
              "3       False\n",
              "4       False\n",
              "        ...  \n",
              "3968    False\n",
              "3969    False\n",
              "3970    False\n",
              "3971    False\n",
              "3972    False\n",
              "Length: 3973, dtype: bool"
            ]
          },
          "metadata": {
            "tags": []
          },
          "execution_count": 5
        }
      ]
    },
    {
      "cell_type": "code",
      "metadata": {
        "id": "TTLDo8HHBKf4",
        "colab": {
          "base_uri": "https://localhost:8080/",
          "height": 282
        },
        "outputId": "d482ca2c-a8ae-4eb1-8e6b-6c5cb5fb6c4b"
      },
      "source": [
        "# a = pd.value_counts(data[\"Class\"],sort = True)\n",
        "# a.plot(kind = 'bar',rot =0)\n",
        "import seaborn as sns\n",
        "a = pd.value_counts(data['Class'],sort=True)\n",
        "a.plot(kind= 'bar',rot = 0)\n"
      ],
      "execution_count": null,
      "outputs": [
        {
          "output_type": "execute_result",
          "data": {
            "text/plain": [
              "<matplotlib.axes._subplots.AxesSubplot at 0x7f479689e908>"
            ]
          },
          "metadata": {
            "tags": []
          },
          "execution_count": 18
        },
        {
          "output_type": "display_data",
          "data": {
            "image/png": "[encoded data removed]",
            "text/plain": [
              "<Figure size 432x288 with 1 Axes>"
            ]
          },
          "metadata": {
            "tags": [],
            "needs_background": "light"
          }
        }
      ]
    },
    {
      "cell_type": "code",
      "metadata": {
        "id": "KsHEHkuaoBic",
        "colab": {
          "base_uri": "https://localhost:8080/",
          "height": 34
        },
        "outputId": "a6e81275-6bbf-4ac8-c8bb-f9cbd0359e51"
      },
      "source": [
        "fraud = data.loc[data['Class']==1]\n",
        "fraud\n",
        "normal = data.loc[data[\"Class\"]==0]\n",
        "normal\n",
        "len(fraud)\n",
        "len(normal)\n"
      ],
      "execution_count": null,
      "outputs": [
        {
          "output_type": "execute_result",
          "data": {
            "text/plain": [
              "47481"
            ]
          },
          "metadata": {
            "tags": []
          },
          "execution_count": 4
        }
      ]
    },
    {
      "cell_type": "code",
      "metadata": {
        "id": "DkA6GgWHWRSi",
        "colab": {
          "base_uri": "https://localhost:8080/",
          "height": 34
        },
        "outputId": "571be47f-0a63-4f4d-a026-44b4698b2de3"
      },
      "source": [
        "fraud = len(data[data['Class'] == 1])/len(data)*100\n",
        "no_fraud = len(data[data['Class'] == 0])/len(data)*100\n",
        "fraud_percentage = [fraud,no_fraud]\n",
        "fraud_percentage\n",
        "\n"
      ],
      "execution_count": null,
      "outputs": [
        {
          "output_type": "execute_result",
          "data": {
            "text/plain": [
              "[0.05021760964178105, 99.93304318714429]"
            ]
          },
          "metadata": {
            "tags": []
          },
          "execution_count": 3
        }
      ]
    },
    {
      "cell_type": "code",
      "metadata": {
        "id": "mwjWMtvjRdne"
      },
      "source": [
        "data = data.fillna(0)"
      ],
      "execution_count": null,
      "outputs": []
    },
    {
      "cell_type": "code",
      "metadata": {
        "id": "qu-wtmCFm1Pc",
        "colab": {
          "base_uri": "https://localhost:8080/",
          "height": 441
        },
        "outputId": "82f2ef55-315a-4685-8cdb-c050d0208239"
      },
      "source": [
        "import seaborn as sns\n",
        "sns.relplot(x=\"Amount\",y=\"Time\",hue=\"Class\",data=data)"
      ],
      "execution_count": null,
      "outputs": [
        {
          "output_type": "stream",
          "text": [
            "/usr/local/lib/python3.6/dist-packages/statsmodels/tools/_testing.py:19: FutureWarning: pandas.util.testing is deprecated. Use the functions in the public API at pandas.testing instead.\n",
            "  import pandas.util.testing as tm\n"
          ],
          "name": "stderr"
        },
        {
          "output_type": "execute_result",
          "data": {
            "text/plain": [
              "<seaborn.axisgrid.FacetGrid at 0x7f4ebeb0a7b8>"
            ]
          },
          "metadata": {
            "tags": []
          },
          "execution_count": 5
        },
        {
          "output_type": "display_data",
          "data": {
            "image/png": "[encoded data removed]",
            "text/plain": [
              "<Figure size 422.375x360 with 1 Axes>"
            ]
          },
          "metadata": {
            "tags": [],
            "needs_background": "light"
          }
        }
      ]
    },
    {
      "cell_type": "code",
      "metadata": {
        "id": "t9CjvTBaEGrk"
      },
      "source": [
        "from sklearn.linear_model import  LinearRegression\n",
        "from sklearn.model_selection import train_test_split"
      ],
      "execution_count": null,
      "outputs": []
    },
    {
      "cell_type": "code",
      "metadata": {
        "id": "3qZlsOTfFh4d"
      },
      "source": [
        "x = data.iloc[:,:-1]\n",
        "y = data[\"Class\"]\n",
        "# x_train,x_test,y_train,y_test = train_test_split(x,y, test_size = .25)\n",
        "# x_train = x_train.fillna(x_train.mean())\n",
        "# y_train = y_train.fillna(y_train.mean())\n",
        "# x_test = x_test.fillna(x_test.mean())\n",
        "# y_test = y_test.fillna(y_test.mean())\n",
        "\n",
        "# lr = LinearRegression()\n",
        "\n"
      ],
      "execution_count": null,
      "outputs": []
    },
    {
      "cell_type": "code",
      "metadata": {
        "id": "gxyzcJTEGuiO"
      },
      "source": [
        "from imblearn.combine import SMOTETomek\n",
        "SMOTETomek(ratio={1:20, 0:80})\n",
        "# smk = SMOTETomek(0.75)\n",
        "res = smk.fit_resample(x,y)\n",
        "import collections \n",
        "import Counter\n",
        "# print('resamble  da')\n",
        "#  smt = SMOTETomek(random_state=42)\n",
        "# >>> X_res, y_res = smt.fit_resample(X, y)"
      ],
      "execution_count": null,
      "outputs": []
    },
    {
      "cell_type": "code",
      "metadata": {
        "id": "os-oMr3afb9T",
        "colab": {
          "base_uri": "https://localhost:8080/",
          "height": 52
        },
        "outputId": "30a9e81f-ff51-4adb-8f5f-3adf0596e56c"
      },
      "source": [
        "model = lr.fit(x_train,y_train) \n",
        "y_pred = model.predict(x_test)\n",
        "y_pred"
      ],
      "execution_count": null,
      "outputs": [
        {
          "output_type": "execute_result",
          "data": {
            "text/plain": [
              "array([ 0.00341486, -0.00242615, -0.00474922, ...,  0.00154925,\n",
              "       -0.00117325, -0.00040193])"
            ]
          },
          "metadata": {
            "tags": []
          },
          "execution_count": 19
        }
      ]
    },
    {
      "cell_type": "code",
      "metadata": {
        "id": "E3uEwLZugrYm",
        "colab": {
          "base_uri": "https://localhost:8080/",
          "height": 282
        },
        "outputId": "fd60f4d4-ba97-42d5-ed96-5f72604047ca"
      },
      "source": [
        "import seaborn as sns\n",
        "sns.distplot(y_pred)"
      ],
      "execution_count": null,
      "outputs": [
        {
          "output_type": "execute_result",
          "data": {
            "text/plain": [
              "<matplotlib.axes._subplots.AxesSubplot at 0x7fe4b5fddd68>"
            ]
          },
          "metadata": {
            "tags": []
          },
          "execution_count": 21
        },
        {
          "output_type": "display_data",
          "data": {
            "image/png": "[encoded data removed]",
            "text/plain": [
              "<Figure size 432x288 with 1 Axes>"
            ]
          },
          "metadata": {
            "tags": [],
            "needs_background": "light"
          }
        }
      ]
    },
    {
      "cell_type": "code",
      "metadata": {
        "id": "R2H360Gig8lu",
        "colab": {
          "base_uri": "https://localhost:8080/",
          "height": 34
        },
        "outputId": "6cf1c966-52b1-46e0-eb23-1cb9c6115eb7"
      },
      "source": [
        "from sklearn.metrics import confusion_matrix\n",
        "from sklearn.metrics import accuracy_score\n",
        "\n",
        "# confusion_matrix(y_pred,y_test)\n",
        "\n",
        "# accuracy_score(y_pred,y_test.round(),normalize=False)\n",
        "accuracy_score(y_test,y_pred.round())*100"
      ],
      "execution_count": null,
      "outputs": [
        {
          "output_type": "execute_result",
          "data": {
            "text/plain": [
              "99.68925841941714"
            ]
          },
          "metadata": {
            "tags": []
          },
          "execution_count": 47
        }
      ]
    }
  ]
}