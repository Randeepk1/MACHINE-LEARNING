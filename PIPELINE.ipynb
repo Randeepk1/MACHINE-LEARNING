{
  "nbformat": 4,
  "nbformat_minor": 0,
  "metadata": {
    "colab": {
      "name": "PIPELINE.ipynb",
      "provenance": []
    },
    "kernelspec": {
      "name": "python3",
      "display_name": "Python 3"
    }
  },
  "cells": [
    {
      "cell_type": "code",
      "metadata": {
        "id": "XNb53wvBmCWa"
      },
      "source": [
        "import pandas as pd\r\n",
        "import numpy as np\r\n",
        "import seaborn as sns\r\n",
        "import matplotlib.pyplot as plt\r\n",
        "import warnings\r\n",
        "warnings.filterwarnings('ignore')\r\n",
        "from sklearn.decomposition import PCA\r\n",
        "from sklearn.pipeline import Pipeline\r\n",
        "from sklearn.preprocessing import StandardScaler\r\n",
        "from sklearn.model_selection import GridSearchCV,train_test_split\r\n",
        "from sklearn.linear_model import LogisticRegression\r\n",
        "from sklearn.ensemble import RandomForestClassifier\r\n",
        "from sklearn.tree import DecisionTreeClassifier\r\n",
        "from sklearn.metrics import accuracy_score,confusion_matrix,classification_report"
      ],
      "execution_count": 1,
      "outputs": []
    },
    {
      "cell_type": "code",
      "metadata": {
        "colab": {
          "base_uri": "https://localhost:8080/",
          "height": 197
        },
        "id": "adZ8Qdd1qKbA",
        "outputId": "3fc6b453-e4b3-4d28-bda1-7bcba0da146b"
      },
      "source": [
        "data = pd.read_csv(\"/content/HR_comma_sep.csv\")\r\n",
        "data.head()"
      ],
      "execution_count": 2,
      "outputs": [
        {
          "output_type": "execute_result",
          "data": {
            "text/html": [
              "<div>\n",
              "<style scoped>\n",
              "    .dataframe tbody tr th:only-of-type {\n",
              "        vertical-align: middle;\n",
              "    }\n",
              "\n",
              "    .dataframe tbody tr th {\n",
              "        vertical-align: top;\n",
              "    }\n",
              "\n",
              "    .dataframe thead th {\n",
              "        text-align: right;\n",
              "    }\n",
              "</style>\n",
              "<table border=\"1\" class=\"dataframe\">\n",
              "  <thead>\n",
              "    <tr style=\"text-align: right;\">\n",
              "      <th></th>\n",
              "      <th>satisfaction_level</th>\n",
              "      <th>last_evaluation</th>\n",
              "      <th>number_project</th>\n",
              "      <th>average_montly_hours</th>\n",
              "      <th>time_spend_company</th>\n",
              "      <th>Work_accident</th>\n",
              "      <th>left</th>\n",
              "      <th>promotion_last_5years</th>\n",
              "      <th>Department</th>\n",
              "      <th>salary</th>\n",
              "    </tr>\n",
              "  </thead>\n",
              "  <tbody>\n",
              "    <tr>\n",
              "      <th>0</th>\n",
              "      <td>0.38</td>\n",
              "      <td>0.53</td>\n",
              "      <td>2</td>\n",
              "      <td>157</td>\n",
              "      <td>3</td>\n",
              "      <td>0</td>\n",
              "      <td>1</td>\n",
              "      <td>0</td>\n",
              "      <td>sales</td>\n",
              "      <td>low</td>\n",
              "    </tr>\n",
              "    <tr>\n",
              "      <th>1</th>\n",
              "      <td>0.80</td>\n",
              "      <td>0.86</td>\n",
              "      <td>5</td>\n",
              "      <td>262</td>\n",
              "      <td>6</td>\n",
              "      <td>0</td>\n",
              "      <td>1</td>\n",
              "      <td>0</td>\n",
              "      <td>sales</td>\n",
              "      <td>medium</td>\n",
              "    </tr>\n",
              "    <tr>\n",
              "      <th>2</th>\n",
              "      <td>0.11</td>\n",
              "      <td>0.88</td>\n",
              "      <td>7</td>\n",
              "      <td>272</td>\n",
              "      <td>4</td>\n",
              "      <td>0</td>\n",
              "      <td>1</td>\n",
              "      <td>0</td>\n",
              "      <td>sales</td>\n",
              "      <td>medium</td>\n",
              "    </tr>\n",
              "    <tr>\n",
              "      <th>3</th>\n",
              "      <td>0.72</td>\n",
              "      <td>0.87</td>\n",
              "      <td>5</td>\n",
              "      <td>223</td>\n",
              "      <td>5</td>\n",
              "      <td>0</td>\n",
              "      <td>1</td>\n",
              "      <td>0</td>\n",
              "      <td>sales</td>\n",
              "      <td>low</td>\n",
              "    </tr>\n",
              "    <tr>\n",
              "      <th>4</th>\n",
              "      <td>0.37</td>\n",
              "      <td>0.52</td>\n",
              "      <td>2</td>\n",
              "      <td>159</td>\n",
              "      <td>3</td>\n",
              "      <td>0</td>\n",
              "      <td>1</td>\n",
              "      <td>0</td>\n",
              "      <td>sales</td>\n",
              "      <td>low</td>\n",
              "    </tr>\n",
              "  </tbody>\n",
              "</table>\n",
              "</div>"
            ],
            "text/plain": [
              "   satisfaction_level  last_evaluation  ...  Department  salary\n",
              "0                0.38             0.53  ...       sales     low\n",
              "1                0.80             0.86  ...       sales  medium\n",
              "2                0.11             0.88  ...       sales  medium\n",
              "3                0.72             0.87  ...       sales     low\n",
              "4                0.37             0.52  ...       sales     low\n",
              "\n",
              "[5 rows x 10 columns]"
            ]
          },
          "metadata": {
            "tags": []
          },
          "execution_count": 2
        }
      ]
    },
    {
      "cell_type": "code",
      "metadata": {
        "id": "C0UpSe5ItXqm"
      },
      "source": [
        "data= pd.get_dummies(data)"
      ],
      "execution_count": 3,
      "outputs": []
    },
    {
      "cell_type": "code",
      "metadata": {
        "id": "HreOL07_tmGC"
      },
      "source": [
        "x = data.drop('left',axis=1)"
      ],
      "execution_count": 4,
      "outputs": []
    },
    {
      "cell_type": "code",
      "metadata": {
        "id": "Q8JO2-gttqmJ"
      },
      "source": [
        "y =  data['left']"
      ],
      "execution_count": 5,
      "outputs": []
    },
    {
      "cell_type": "code",
      "metadata": {
        "id": "m71z4JZ8tc6d"
      },
      "source": [
        "x_train,x_test,y_train,y_test = train_test_split(x,y,test_size = 0.30,random_state=42,stratify = y)"
      ],
      "execution_count": 6,
      "outputs": []
    },
    {
      "cell_type": "code",
      "metadata": {
        "id": "44pxAAydqYzD"
      },
      "source": [
        "LR_Model = Pipeline([('scalar',StandardScaler()),\r\n",
        "                     ('pca',PCA(n_components=10)),\r\n",
        "                     ('model',LogisticRegression(random_state=2))])\r\n"
      ],
      "execution_count": 7,
      "outputs": []
    },
    {
      "cell_type": "code",
      "metadata": {
        "id": "38uASCvhry-w"
      },
      "source": [
        "DT_Model = Pipeline([('scalar1',StandardScaler()),\r\n",
        "                     ('pca1',PCA(n_components=10)),\r\n",
        "                     ('model',DecisionTreeClassifier(random_state=2))])"
      ],
      "execution_count": 8,
      "outputs": []
    },
    {
      "cell_type": "code",
      "metadata": {
        "id": "S2wzdCzYsJH-"
      },
      "source": [
        "RFC = Pipeline([('scalar2',StandardScaler()),\r\n",
        "                     ('pca2',PCA(n_components=10)),\r\n",
        "                     ('model',RandomForestClassifier(random_state=2))])"
      ],
      "execution_count": 9,
      "outputs": []
    },
    {
      "cell_type": "code",
      "metadata": {
        "id": "8CafS32HsTrr"
      },
      "source": [
        "pipeline = [LR_Model,DT_Model,RFC]"
      ],
      "execution_count": 10,
      "outputs": []
    },
    {
      "cell_type": "code",
      "metadata": {
        "id": "W9nXhDbXsgat"
      },
      "source": [
        "Best_accuracy = 0.0\r\n",
        "Best_classifier = 0\r\n",
        "Best_pipeline = \"\" "
      ],
      "execution_count": 11,
      "outputs": []
    },
    {
      "cell_type": "code",
      "metadata": {
        "id": "nzFsH7GGs2gR"
      },
      "source": [
        "pip_dic = {0:'LogisticRegression',1:'DecisionTreeClassifier',2:'RandomForestClassifier'}"
      ],
      "execution_count": 12,
      "outputs": []
    },
    {
      "cell_type": "code",
      "metadata": {
        "id": "_9P2m1MltGIi"
      },
      "source": [
        "for pipe in pipeline:\r\n",
        "  pipe.fit(x_train,y_train)"
      ],
      "execution_count": 13,
      "outputs": []
    },
    {
      "cell_type": "code",
      "metadata": {
        "colab": {
          "base_uri": "https://localhost:8080/"
        },
        "id": "Lzb3xIlztzYe",
        "outputId": "2ae3c547-e9b1-4075-e2c4-f0b56aca10f2"
      },
      "source": [
        "for i,model in enumerate(pipeline):\r\n",
        "  print(\"{}Test Accuracy : {}\".format(pip_dic[i],model.score(x_train,y_train)))"
      ],
      "execution_count": 14,
      "outputs": [
        {
          "output_type": "stream",
          "text": [
            "LogisticRegressionTest Accuracy : 0.7789313267930279\n",
            "DecisionTreeClassifierTest Accuracy : 1.0\n",
            "RandomForestClassifierTest Accuracy : 1.0\n"
          ],
          "name": "stdout"
        }
      ]
    },
    {
      "cell_type": "code",
      "metadata": {
        "colab": {
          "base_uri": "https://localhost:8080/"
        },
        "id": "ljKsF_qKy8yr",
        "outputId": "7b2f80dd-ada1-42ff-f6cc-5cf5612cfddb"
      },
      "source": [
        "for i,model in enumerate(pipeline):\r\n",
        "  if model.score(x_test,y_test)>Best_accuracy:\r\n",
        "    Best_accuracy=model.score(x_test,y_test)\r\n",
        "    Best_pipeline = model\r\n",
        "    Best_classifier = i\r\n",
        "print('Best Classifier with best accuracy :{}'.format(pip_dic[Best_classifier]))"
      ],
      "execution_count": 15,
      "outputs": [
        {
          "output_type": "stream",
          "text": [
            "Best Classifier with best accuracy :RandomForestClassifier\n"
          ],
          "name": "stdout"
        }
      ]
    },
    {
      "cell_type": "code",
      "metadata": {
        "id": "LePUsJNdVQ2f"
      },
      "source": [
        "pipe_new = Pipeline([('classifier',RandomForestClassifier())])"
      ],
      "execution_count": 16,
      "outputs": []
    },
    {
      "cell_type": "code",
      "metadata": {
        "id": "lq9Ain7AV-ug"
      },
      "source": [
        "Get_param = [{'classifier':[LogisticRegression()],\r\n",
        "              'classifier__penalty':['L1,L2','elasticnet', 'none'],\r\n",
        "              'classifier__C':np.logspace(0,4,10)},\r\n",
        "             \r\n",
        "            {'classifier':[LogisticRegression()],\r\n",
        "              'classifier__penalty':['L2'],\r\n",
        "              'classifier__C':np.logspace(0,4,10),\r\n",
        "               'classifier__solver':['newton-cg','saga','sag','liblinear']}]\r\n",
        "\r\n",
        "              # {'classifier':[RandomForestClassifier()],\r\n",
        "              # 'classifier_n_estimators' : [24,50,75,100],\r\n",
        "              # 'classifier_criterion' :['gini','entropy'],\r\n",
        "              # 'classifier_max_depth' :[3,5,10]}]\r\n",
        "\r\n",
        "             \r\n",
        "            #  {'classifier':[RandomForestClassifier()],\r\n",
        "            #  'classifier__estimators': [4, 6, 9], \r\n",
        "            #   'classifier__criterion': ['entropy', 'gini'], 'classifier__max_depth': [2, 3, 5, 10], \r\n",
        "            #   'classifier__min_samples_split': [2, 3, 5],'classifier__min_samples_leaf': [1,5,8]}]\r\n",
        "\r\n",
        "             \r\n",
        "            #  {'classifier':[RandomForestClassifier()],\r\n",
        "            #   'classifier_n_estimator':[10,100,200],\r\n",
        "            #   'classifier_max_depth':[5,8,10,15,25,30,50,100,200,210,None],\r\n",
        "            #   'classifier_minimum_sample_leafs':[1,2,5,10,15,50,100,200,210,230],\r\n",
        "            #   'classifier_maximum_leafs_node':[2,5,10]}]"
      ],
      "execution_count": 19,
      "outputs": []
    },
    {
      "cell_type": "code",
      "metadata": {
        "id": "ajef_uR2aiL3"
      },
      "source": [
        "grid = GridSearchCV(pipe_new,Get_param,cv=5,verbose=0,n_jobs=-1)\r\n",
        "best_model =grid.fit(x_train,y_train)"
      ],
      "execution_count": 20,
      "outputs": []
    },
    {
      "cell_type": "code",
      "metadata": {
        "colab": {
          "base_uri": "https://localhost:8080/"
        },
        "id": "fA4qP686dVQV",
        "outputId": "4e61c2a3-4dfa-46c6-dcc7-116558ddd1f7"
      },
      "source": [
        "best_model.best_params_"
      ],
      "execution_count": 21,
      "outputs": [
        {
          "output_type": "execute_result",
          "data": {
            "text/plain": [
              "{'classifier': LogisticRegression(C=1.0, class_weight=None, dual=False, fit_intercept=True,\n",
              "                    intercept_scaling=1, l1_ratio=None, max_iter=100,\n",
              "                    multi_class='auto', n_jobs=None, penalty='none',\n",
              "                    random_state=None, solver='lbfgs', tol=0.0001, verbose=0,\n",
              "                    warm_start=False),\n",
              " 'classifier__C': 1.0,\n",
              " 'classifier__penalty': 'none'}"
            ]
          },
          "metadata": {
            "tags": []
          },
          "execution_count": 21
        }
      ]
    },
    {
      "cell_type": "code",
      "metadata": {
        "id": "gr3FXF9kdcFd"
      },
      "source": [
        "LR_model = LogisticRegression(solver='saga',C=1.0)"
      ],
      "execution_count": 27,
      "outputs": []
    },
    {
      "cell_type": "code",
      "metadata": {
        "colab": {
          "base_uri": "https://localhost:8080/"
        },
        "id": "9C90KoxHetb-",
        "outputId": "d89dea05-9ddd-43a7-b2e2-c30129edd765"
      },
      "source": [
        "LR_model.fit(x_train,y_train)"
      ],
      "execution_count": 28,
      "outputs": [
        {
          "output_type": "execute_result",
          "data": {
            "text/plain": [
              "LogisticRegression(C=1.0, class_weight=None, dual=False, fit_intercept=True,\n",
              "                   intercept_scaling=1, l1_ratio=None, max_iter=100,\n",
              "                   multi_class='auto', n_jobs=None, penalty='l2',\n",
              "                   random_state=None, solver='saga', tol=0.0001, verbose=0,\n",
              "                   warm_start=False)"
            ]
          },
          "metadata": {
            "tags": []
          },
          "execution_count": 28
        }
      ]
    },
    {
      "cell_type": "code",
      "metadata": {
        "id": "L2XECem0exUO"
      },
      "source": [
        "y_pred = LR_Model.predict(x_test)"
      ],
      "execution_count": 29,
      "outputs": []
    },
    {
      "cell_type": "code",
      "metadata": {
        "colab": {
          "base_uri": "https://localhost:8080/"
        },
        "id": "rMzovXWgfFrX",
        "outputId": "9d180cf5-e63e-4bd9-e35d-ee2025d20d50"
      },
      "source": [
        "accuracy_score(y_test,y_pred)"
      ],
      "execution_count": 30,
      "outputs": [
        {
          "output_type": "execute_result",
          "data": {
            "text/plain": [
              "0.7826666666666666"
            ]
          },
          "metadata": {
            "tags": []
          },
          "execution_count": 30
        }
      ]
    }
  ]
}