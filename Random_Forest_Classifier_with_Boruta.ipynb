{
  "nbformat": 4,
  "nbformat_minor": 0,
  "metadata": {
    "accelerator": "TPU",
    "colab": {
      "name": "Random_Forest_Classifier_with_Boruta.ipynb",
      "provenance": [],
      "collapsed_sections": []
    },
    "kernelspec": {
      "display_name": "Python 3",
      "name": "python3"
    }
  },
  "cells": [
    {
      "cell_type": "code",
      "metadata": {
        "id": "7Cywx7D7k14X"
      },
      "source": [
        "import pandas as pd\r\n",
        "import numpy as np\r\n",
        "import seaborn as sns\r\n",
        "import warnings\r\n",
        "warnings.filterwarnings('ignore')\r\n",
        "import matplotlib.pyplot as plt\r\n",
        "from sklearn.model_selection import train_test_split,GridSearchCV\r\n",
        "from sklearn.metrics import classification_report,accuracy_score,confusion_matrix,f1_score\r\n",
        "from sklearn.ensemble import RandomForestClassifier\r\n",
        "from boruta import BorutaPy\r\n",
        "from imblearn.combine import SMOTETomek\r\n"
      ],
      "execution_count": 87,
      "outputs": []
    },
    {
      "cell_type": "code",
      "metadata": {
        "colab": {
          "base_uri": "https://localhost:8080/"
        },
        "id": "oGLG--90RQHK",
        "outputId": "c37a3416-3219-4e53-b4f5-448aa178ef4f"
      },
      "source": [
        "pip install Boruta"
      ],
      "execution_count": 2,
      "outputs": [
        {
          "output_type": "stream",
          "text": [
            "Requirement already satisfied: Boruta in /usr/local/lib/python3.6/dist-packages (0.3)\n",
            "Requirement already satisfied: numpy>=1.10.4 in /usr/local/lib/python3.6/dist-packages (from Boruta) (1.19.5)\n",
            "Requirement already satisfied: scipy>=0.17.0 in /usr/local/lib/python3.6/dist-packages (from Boruta) (1.4.1)\n",
            "Requirement already satisfied: scikit-learn>=0.17.1 in /usr/local/lib/python3.6/dist-packages (from Boruta) (0.22.2.post1)\n",
            "Requirement already satisfied: joblib>=0.11 in /usr/local/lib/python3.6/dist-packages (from scikit-learn>=0.17.1->Boruta) (1.0.0)\n"
          ],
          "name": "stdout"
        }
      ]
    },
    {
      "cell_type": "code",
      "metadata": {
        "id": "bAJFecSvPjzM"
      },
      "source": [
        "data = pd.read_csv('/content/Predict if a Patient will Survive after 1 year of Treatment.csv')"
      ],
      "execution_count": 3,
      "outputs": []
    },
    {
      "cell_type": "code",
      "metadata": {
        "colab": {
          "base_uri": "https://localhost:8080/",
          "height": 224
        },
        "id": "NaSlz3A9PpQK",
        "outputId": "bdfece9c-272e-4e04-b2c9-6fb552b8cb3a"
      },
      "source": [
        "data.head()"
      ],
      "execution_count": 4,
      "outputs": [
        {
          "output_type": "execute_result",
          "data": {
            "text/html": [
              "<div>\n",
              "<style scoped>\n",
              "    .dataframe tbody tr th:only-of-type {\n",
              "        vertical-align: middle;\n",
              "    }\n",
              "\n",
              "    .dataframe tbody tr th {\n",
              "        vertical-align: top;\n",
              "    }\n",
              "\n",
              "    .dataframe thead th {\n",
              "        text-align: right;\n",
              "    }\n",
              "</style>\n",
              "<table border=\"1\" class=\"dataframe\">\n",
              "  <thead>\n",
              "    <tr style=\"text-align: right;\">\n",
              "      <th></th>\n",
              "      <th>ID_Patient_Care_Situation</th>\n",
              "      <th>Diagnosed_Condition</th>\n",
              "      <th>Patient_ID</th>\n",
              "      <th>Treated_with_drugs</th>\n",
              "      <th>Patient_Age</th>\n",
              "      <th>Patient_Body_Mass_Index</th>\n",
              "      <th>Patient_Smoker</th>\n",
              "      <th>Patient_Rural_Urban</th>\n",
              "      <th>Patient_mental_condition</th>\n",
              "      <th>A</th>\n",
              "      <th>B</th>\n",
              "      <th>C</th>\n",
              "      <th>D</th>\n",
              "      <th>E</th>\n",
              "      <th>F</th>\n",
              "      <th>Z</th>\n",
              "      <th>Number_of_prev_cond</th>\n",
              "      <th>Survived_1_year</th>\n",
              "    </tr>\n",
              "  </thead>\n",
              "  <tbody>\n",
              "    <tr>\n",
              "      <th>0</th>\n",
              "      <td>22374</td>\n",
              "      <td>8</td>\n",
              "      <td>3333</td>\n",
              "      <td>DX6</td>\n",
              "      <td>56</td>\n",
              "      <td>18.479385</td>\n",
              "      <td>YES</td>\n",
              "      <td>URBAN</td>\n",
              "      <td>Stable</td>\n",
              "      <td>1.0</td>\n",
              "      <td>0.0</td>\n",
              "      <td>0.0</td>\n",
              "      <td>0.0</td>\n",
              "      <td>1.0</td>\n",
              "      <td>0.0</td>\n",
              "      <td>0.0</td>\n",
              "      <td>2.0</td>\n",
              "      <td>0</td>\n",
              "    </tr>\n",
              "    <tr>\n",
              "      <th>1</th>\n",
              "      <td>18164</td>\n",
              "      <td>5</td>\n",
              "      <td>5740</td>\n",
              "      <td>DX2</td>\n",
              "      <td>36</td>\n",
              "      <td>22.945566</td>\n",
              "      <td>YES</td>\n",
              "      <td>RURAL</td>\n",
              "      <td>Stable</td>\n",
              "      <td>1.0</td>\n",
              "      <td>0.0</td>\n",
              "      <td>0.0</td>\n",
              "      <td>0.0</td>\n",
              "      <td>0.0</td>\n",
              "      <td>0.0</td>\n",
              "      <td>0.0</td>\n",
              "      <td>1.0</td>\n",
              "      <td>1</td>\n",
              "    </tr>\n",
              "    <tr>\n",
              "      <th>2</th>\n",
              "      <td>6283</td>\n",
              "      <td>23</td>\n",
              "      <td>10446</td>\n",
              "      <td>DX6</td>\n",
              "      <td>48</td>\n",
              "      <td>27.510027</td>\n",
              "      <td>YES</td>\n",
              "      <td>RURAL</td>\n",
              "      <td>Stable</td>\n",
              "      <td>1.0</td>\n",
              "      <td>0.0</td>\n",
              "      <td>0.0</td>\n",
              "      <td>0.0</td>\n",
              "      <td>0.0</td>\n",
              "      <td>0.0</td>\n",
              "      <td>0.0</td>\n",
              "      <td>1.0</td>\n",
              "      <td>0</td>\n",
              "    </tr>\n",
              "    <tr>\n",
              "      <th>3</th>\n",
              "      <td>5339</td>\n",
              "      <td>51</td>\n",
              "      <td>12011</td>\n",
              "      <td>DX1</td>\n",
              "      <td>5</td>\n",
              "      <td>19.130976</td>\n",
              "      <td>NO</td>\n",
              "      <td>URBAN</td>\n",
              "      <td>Stable</td>\n",
              "      <td>1.0</td>\n",
              "      <td>0.0</td>\n",
              "      <td>0.0</td>\n",
              "      <td>0.0</td>\n",
              "      <td>0.0</td>\n",
              "      <td>0.0</td>\n",
              "      <td>0.0</td>\n",
              "      <td>1.0</td>\n",
              "      <td>1</td>\n",
              "    </tr>\n",
              "    <tr>\n",
              "      <th>4</th>\n",
              "      <td>33012</td>\n",
              "      <td>0</td>\n",
              "      <td>12513</td>\n",
              "      <td>NaN</td>\n",
              "      <td>128</td>\n",
              "      <td>1.348400</td>\n",
              "      <td>Cannot say</td>\n",
              "      <td>RURAL</td>\n",
              "      <td>Stable</td>\n",
              "      <td>0.0</td>\n",
              "      <td>0.0</td>\n",
              "      <td>0.0</td>\n",
              "      <td>0.0</td>\n",
              "      <td>0.0</td>\n",
              "      <td>0.0</td>\n",
              "      <td>1.0</td>\n",
              "      <td>1.0</td>\n",
              "      <td>1</td>\n",
              "    </tr>\n",
              "  </tbody>\n",
              "</table>\n",
              "</div>"
            ],
            "text/plain": [
              "   ID_Patient_Care_Situation  ...  Survived_1_year\n",
              "0                      22374  ...                0\n",
              "1                      18164  ...                1\n",
              "2                       6283  ...                0\n",
              "3                       5339  ...                1\n",
              "4                      33012  ...                1\n",
              "\n",
              "[5 rows x 18 columns]"
            ]
          },
          "metadata": {
            "tags": []
          },
          "execution_count": 4
        }
      ]
    },
    {
      "cell_type": "code",
      "metadata": {
        "colab": {
          "base_uri": "https://localhost:8080/"
        },
        "id": "5GpNl5ZkCfo3",
        "outputId": "d2a1ee6a-634c-4b32-b438-faa9a896c5ad"
      },
      "source": [
        "data.Survived_1_year.value_counts()"
      ],
      "execution_count": 5,
      "outputs": [
        {
          "output_type": "execute_result",
          "data": {
            "text/plain": [
              "1    14603\n",
              "0     8494\n",
              "Name: Survived_1_year, dtype: int64"
            ]
          },
          "metadata": {
            "tags": []
          },
          "execution_count": 5
        }
      ]
    },
    {
      "cell_type": "code",
      "metadata": {
        "colab": {
          "base_uri": "https://localhost:8080/"
        },
        "id": "UtVAZLdgDJYR",
        "outputId": "5d81f628-fc95-484b-f767-72ca20440746"
      },
      "source": [
        "data.Survived_1_year.isnull().sum()"
      ],
      "execution_count": 6,
      "outputs": [
        {
          "output_type": "execute_result",
          "data": {
            "text/plain": [
              "0"
            ]
          },
          "metadata": {
            "tags": []
          },
          "execution_count": 6
        }
      ]
    },
    {
      "cell_type": "code",
      "metadata": {
        "colab": {
          "base_uri": "https://localhost:8080/"
        },
        "id": "oM-YWfSnDhvc",
        "outputId": "3f2b722e-7677-4606-b65f-0ac0cac9e64d"
      },
      "source": [
        "data.Survived_1_year.value_counts()"
      ],
      "execution_count": 7,
      "outputs": [
        {
          "output_type": "execute_result",
          "data": {
            "text/plain": [
              "1    14603\n",
              "0     8494\n",
              "Name: Survived_1_year, dtype: int64"
            ]
          },
          "metadata": {
            "tags": []
          },
          "execution_count": 7
        }
      ]
    },
    {
      "cell_type": "code",
      "metadata": {
        "colab": {
          "base_uri": "https://localhost:8080/"
        },
        "id": "D4vH8KC-Pq9V",
        "outputId": "d615d971-cfba-4f50-c661-48abc1082324"
      },
      "source": [
        "data.shape"
      ],
      "execution_count": 8,
      "outputs": [
        {
          "output_type": "execute_result",
          "data": {
            "text/plain": [
              "(23097, 18)"
            ]
          },
          "metadata": {
            "tags": []
          },
          "execution_count": 8
        }
      ]
    },
    {
      "cell_type": "code",
      "metadata": {
        "colab": {
          "base_uri": "https://localhost:8080/"
        },
        "id": "dYzetagUP_ZE",
        "outputId": "b4626404-6ef8-4248-8f12-e627474748f5"
      },
      "source": [
        "data.isnull().sum().sum()"
      ],
      "execution_count": 9,
      "outputs": [
        {
          "output_type": "execute_result",
          "data": {
            "text/plain": [
              "9893"
            ]
          },
          "metadata": {
            "tags": []
          },
          "execution_count": 9
        }
      ]
    },
    {
      "cell_type": "code",
      "metadata": {
        "colab": {
          "base_uri": "https://localhost:8080/"
        },
        "id": "c5yWzrYdh1aS",
        "outputId": "108f7f53-8b05-4cc8-f091-1ea7f4cc5837"
      },
      "source": [
        " data.isna().sum()[data.isna().sum()!=0]*100/len(data)\r\n"
      ],
      "execution_count": 10,
      "outputs": [
        {
          "output_type": "execute_result",
          "data": {
            "text/plain": [
              "Treated_with_drugs     0.056284\n",
              "A                      5.347015\n",
              "B                      5.347015\n",
              "C                      5.347015\n",
              "D                      5.347015\n",
              "E                      5.347015\n",
              "F                      5.347015\n",
              "Z                      5.347015\n",
              "Number_of_prev_cond    5.347015\n",
              "dtype: float64"
            ]
          },
          "metadata": {
            "tags": []
          },
          "execution_count": 10
        }
      ]
    },
    {
      "cell_type": "code",
      "metadata": {
        "colab": {
          "base_uri": "https://localhost:8080/"
        },
        "id": "GclFljbPiKtm",
        "outputId": "670f4638-2d65-47e9-ec94-d560d4057725"
      },
      "source": [
        "[i for i in data.columns if data[i].dtypes=='O']"
      ],
      "execution_count": 11,
      "outputs": [
        {
          "output_type": "execute_result",
          "data": {
            "text/plain": [
              "['Treated_with_drugs',\n",
              " 'Patient_Smoker',\n",
              " 'Patient_Rural_Urban',\n",
              " 'Patient_mental_condition']"
            ]
          },
          "metadata": {
            "tags": []
          },
          "execution_count": 11
        }
      ]
    },
    {
      "cell_type": "code",
      "metadata": {
        "colab": {
          "base_uri": "https://localhost:8080/"
        },
        "id": "9UtM79w0xw6v",
        "outputId": "57ccfd38-0c75-4c74-c8be-a244e794b235"
      },
      "source": [
        "data.info()"
      ],
      "execution_count": 12,
      "outputs": [
        {
          "output_type": "stream",
          "text": [
            "<class 'pandas.core.frame.DataFrame'>\n",
            "RangeIndex: 23097 entries, 0 to 23096\n",
            "Data columns (total 18 columns):\n",
            " #   Column                     Non-Null Count  Dtype  \n",
            "---  ------                     --------------  -----  \n",
            " 0   ID_Patient_Care_Situation  23097 non-null  int64  \n",
            " 1   Diagnosed_Condition        23097 non-null  int64  \n",
            " 2   Patient_ID                 23097 non-null  int64  \n",
            " 3   Treated_with_drugs         23084 non-null  object \n",
            " 4   Patient_Age                23097 non-null  int64  \n",
            " 5   Patient_Body_Mass_Index    23097 non-null  float64\n",
            " 6   Patient_Smoker             23097 non-null  object \n",
            " 7   Patient_Rural_Urban        23097 non-null  object \n",
            " 8   Patient_mental_condition   23097 non-null  object \n",
            " 9   A                          21862 non-null  float64\n",
            " 10  B                          21862 non-null  float64\n",
            " 11  C                          21862 non-null  float64\n",
            " 12  D                          21862 non-null  float64\n",
            " 13  E                          21862 non-null  float64\n",
            " 14  F                          21862 non-null  float64\n",
            " 15  Z                          21862 non-null  float64\n",
            " 16  Number_of_prev_cond        21862 non-null  float64\n",
            " 17  Survived_1_year            23097 non-null  int64  \n",
            "dtypes: float64(9), int64(5), object(4)\n",
            "memory usage: 3.2+ MB\n"
          ],
          "name": "stdout"
        }
      ]
    },
    {
      "cell_type": "code",
      "metadata": {
        "colab": {
          "base_uri": "https://localhost:8080/",
          "height": 400
        },
        "id": "bHQTjkmXi49U",
        "outputId": "1416db06-7f56-478e-b726-3647fc5ff5fe"
      },
      "source": [
        "sns.heatmap(data.isnull(),yticklabels=False,cbar=False,cmap='viridis')"
      ],
      "execution_count": 13,
      "outputs": [
        {
          "output_type": "execute_result",
          "data": {
            "text/plain": [
              "<matplotlib.axes._subplots.AxesSubplot at 0x7fb8876656d8>"
            ]
          },
          "metadata": {
            "tags": []
          },
          "execution_count": 13
        },
        {
          "output_type": "display_data",
          "data": {
            "image/png": "[encoded data removed]",
            "text/plain": [
              "<Figure size 432x288 with 1 Axes>"
            ]
          },
          "metadata": {
            "tags": [],
            "needs_background": "light"
          }
        }
      ]
    },
    {
      "cell_type": "code",
      "metadata": {
        "colab": {
          "base_uri": "https://localhost:8080/"
        },
        "id": "QH2Zo7cOjHof",
        "outputId": "b63d934c-2c00-4ff9-cd4d-9c1b42d37c8c"
      },
      "source": [
        "data.isna().sum()[data.isna().sum()!=0]*100/data.shape[0]>50"
      ],
      "execution_count": 14,
      "outputs": [
        {
          "output_type": "execute_result",
          "data": {
            "text/plain": [
              "Treated_with_drugs     False\n",
              "A                      False\n",
              "B                      False\n",
              "C                      False\n",
              "D                      False\n",
              "E                      False\n",
              "F                      False\n",
              "Z                      False\n",
              "Number_of_prev_cond    False\n",
              "dtype: bool"
            ]
          },
          "metadata": {
            "tags": []
          },
          "execution_count": 14
        }
      ]
    },
    {
      "cell_type": "code",
      "metadata": {
        "colab": {
          "base_uri": "https://localhost:8080/",
          "height": 211
        },
        "id": "fvGoWl4JjZ6y",
        "outputId": "85b2474e-aaf2-4ce0-8692-1f3bc975c7b4"
      },
      "source": [
        "data.Survived_1_year.value_counts().plot(kind=\"pie\", autopct='%.1f%%', figsize=(3,3))"
      ],
      "execution_count": 15,
      "outputs": [
        {
          "output_type": "execute_result",
          "data": {
            "text/plain": [
              "<matplotlib.axes._subplots.AxesSubplot at 0x7fb87de99128>"
            ]
          },
          "metadata": {
            "tags": []
          },
          "execution_count": 15
        },
        {
          "output_type": "display_data",
          "data": {
            "image/png": "[encoded data removed]",
            "text/plain": [
              "<Figure size 216x216 with 1 Axes>"
            ]
          },
          "metadata": {
            "tags": []
          }
        }
      ]
    },
    {
      "cell_type": "code",
      "metadata": {
        "colab": {
          "base_uri": "https://localhost:8080/"
        },
        "id": "4J5wexk5xiBK",
        "outputId": "85966fb7-d305-46fd-8323-53b4747e2860"
      },
      "source": [
        "data.isnull().sum().sum()"
      ],
      "execution_count": 16,
      "outputs": [
        {
          "output_type": "execute_result",
          "data": {
            "text/plain": [
              "9893"
            ]
          },
          "metadata": {
            "tags": []
          },
          "execution_count": 16
        }
      ]
    },
    {
      "cell_type": "code",
      "metadata": {
        "colab": {
          "base_uri": "https://localhost:8080/"
        },
        "id": "uqjBNO6nyVM3",
        "outputId": "92c6aeb8-be18-4824-a945-19fc96b5c885"
      },
      "source": [
        "data.info()"
      ],
      "execution_count": 17,
      "outputs": [
        {
          "output_type": "stream",
          "text": [
            "<class 'pandas.core.frame.DataFrame'>\n",
            "RangeIndex: 23097 entries, 0 to 23096\n",
            "Data columns (total 18 columns):\n",
            " #   Column                     Non-Null Count  Dtype  \n",
            "---  ------                     --------------  -----  \n",
            " 0   ID_Patient_Care_Situation  23097 non-null  int64  \n",
            " 1   Diagnosed_Condition        23097 non-null  int64  \n",
            " 2   Patient_ID                 23097 non-null  int64  \n",
            " 3   Treated_with_drugs         23084 non-null  object \n",
            " 4   Patient_Age                23097 non-null  int64  \n",
            " 5   Patient_Body_Mass_Index    23097 non-null  float64\n",
            " 6   Patient_Smoker             23097 non-null  object \n",
            " 7   Patient_Rural_Urban        23097 non-null  object \n",
            " 8   Patient_mental_condition   23097 non-null  object \n",
            " 9   A                          21862 non-null  float64\n",
            " 10  B                          21862 non-null  float64\n",
            " 11  C                          21862 non-null  float64\n",
            " 12  D                          21862 non-null  float64\n",
            " 13  E                          21862 non-null  float64\n",
            " 14  F                          21862 non-null  float64\n",
            " 15  Z                          21862 non-null  float64\n",
            " 16  Number_of_prev_cond        21862 non-null  float64\n",
            " 17  Survived_1_year            23097 non-null  int64  \n",
            "dtypes: float64(9), int64(5), object(4)\n",
            "memory usage: 3.2+ MB\n"
          ],
          "name": "stdout"
        }
      ]
    },
    {
      "cell_type": "code",
      "metadata": {
        "colab": {
          "base_uri": "https://localhost:8080/",
          "height": 131
        },
        "id": "tim02qppz1hd",
        "outputId": "6a96f26b-aa8e-476c-ecfb-717c65e6e971"
      },
      "source": [
        "data.head(2)"
      ],
      "execution_count": 18,
      "outputs": [
        {
          "output_type": "execute_result",
          "data": {
            "text/html": [
              "<div>\n",
              "<style scoped>\n",
              "    .dataframe tbody tr th:only-of-type {\n",
              "        vertical-align: middle;\n",
              "    }\n",
              "\n",
              "    .dataframe tbody tr th {\n",
              "        vertical-align: top;\n",
              "    }\n",
              "\n",
              "    .dataframe thead th {\n",
              "        text-align: right;\n",
              "    }\n",
              "</style>\n",
              "<table border=\"1\" class=\"dataframe\">\n",
              "  <thead>\n",
              "    <tr style=\"text-align: right;\">\n",
              "      <th></th>\n",
              "      <th>ID_Patient_Care_Situation</th>\n",
              "      <th>Diagnosed_Condition</th>\n",
              "      <th>Patient_ID</th>\n",
              "      <th>Treated_with_drugs</th>\n",
              "      <th>Patient_Age</th>\n",
              "      <th>Patient_Body_Mass_Index</th>\n",
              "      <th>Patient_Smoker</th>\n",
              "      <th>Patient_Rural_Urban</th>\n",
              "      <th>Patient_mental_condition</th>\n",
              "      <th>A</th>\n",
              "      <th>B</th>\n",
              "      <th>C</th>\n",
              "      <th>D</th>\n",
              "      <th>E</th>\n",
              "      <th>F</th>\n",
              "      <th>Z</th>\n",
              "      <th>Number_of_prev_cond</th>\n",
              "      <th>Survived_1_year</th>\n",
              "    </tr>\n",
              "  </thead>\n",
              "  <tbody>\n",
              "    <tr>\n",
              "      <th>0</th>\n",
              "      <td>22374</td>\n",
              "      <td>8</td>\n",
              "      <td>3333</td>\n",
              "      <td>DX6</td>\n",
              "      <td>56</td>\n",
              "      <td>18.479385</td>\n",
              "      <td>YES</td>\n",
              "      <td>URBAN</td>\n",
              "      <td>Stable</td>\n",
              "      <td>1.0</td>\n",
              "      <td>0.0</td>\n",
              "      <td>0.0</td>\n",
              "      <td>0.0</td>\n",
              "      <td>1.0</td>\n",
              "      <td>0.0</td>\n",
              "      <td>0.0</td>\n",
              "      <td>2.0</td>\n",
              "      <td>0</td>\n",
              "    </tr>\n",
              "    <tr>\n",
              "      <th>1</th>\n",
              "      <td>18164</td>\n",
              "      <td>5</td>\n",
              "      <td>5740</td>\n",
              "      <td>DX2</td>\n",
              "      <td>36</td>\n",
              "      <td>22.945566</td>\n",
              "      <td>YES</td>\n",
              "      <td>RURAL</td>\n",
              "      <td>Stable</td>\n",
              "      <td>1.0</td>\n",
              "      <td>0.0</td>\n",
              "      <td>0.0</td>\n",
              "      <td>0.0</td>\n",
              "      <td>0.0</td>\n",
              "      <td>0.0</td>\n",
              "      <td>0.0</td>\n",
              "      <td>1.0</td>\n",
              "      <td>1</td>\n",
              "    </tr>\n",
              "  </tbody>\n",
              "</table>\n",
              "</div>"
            ],
            "text/plain": [
              "   ID_Patient_Care_Situation  ...  Survived_1_year\n",
              "0                      22374  ...                0\n",
              "1                      18164  ...                1\n",
              "\n",
              "[2 rows x 18 columns]"
            ]
          },
          "metadata": {
            "tags": []
          },
          "execution_count": 18
        }
      ]
    },
    {
      "cell_type": "code",
      "metadata": {
        "colab": {
          "base_uri": "https://localhost:8080/"
        },
        "id": "SeJhQDym02Ku",
        "outputId": "ac952449-5871-4d01-86cd-2b159deff0ed"
      },
      "source": [
        "data.isna().sum().sum()"
      ],
      "execution_count": 19,
      "outputs": [
        {
          "output_type": "execute_result",
          "data": {
            "text/plain": [
              "9893"
            ]
          },
          "metadata": {
            "tags": []
          },
          "execution_count": 19
        }
      ]
    },
    {
      "cell_type": "code",
      "metadata": {
        "id": "mSjRco4n1ggv"
      },
      "source": [
        "data['A'].fillna(data['A'].mode()[0],inplace=True)"
      ],
      "execution_count": 20,
      "outputs": []
    },
    {
      "cell_type": "code",
      "metadata": {
        "id": "shO7pAhd2voA"
      },
      "source": [
        "data['B'].fillna(data['B'].mode()[0],inplace=True)"
      ],
      "execution_count": 21,
      "outputs": []
    },
    {
      "cell_type": "code",
      "metadata": {
        "id": "cbZNBnUQ1xVj"
      },
      "source": [
        "data['C'].fillna(data['C'].mode()[0],inplace=True)"
      ],
      "execution_count": 22,
      "outputs": []
    },
    {
      "cell_type": "code",
      "metadata": {
        "id": "JJyU1WK22yqc"
      },
      "source": [
        "data['D'].fillna(data['D'].mode()[0],inplace=True)"
      ],
      "execution_count": 23,
      "outputs": []
    },
    {
      "cell_type": "code",
      "metadata": {
        "id": "pOx-vlIk2zMU"
      },
      "source": [
        "data['E'].fillna(data['E'].mode()[0],inplace=True)"
      ],
      "execution_count": 24,
      "outputs": []
    },
    {
      "cell_type": "code",
      "metadata": {
        "id": "qycQnb8q28SN"
      },
      "source": [
        "data['F'].fillna(data['F'].mode()[0],inplace=True)"
      ],
      "execution_count": 25,
      "outputs": []
    },
    {
      "cell_type": "code",
      "metadata": {
        "id": "RNTombNL2841"
      },
      "source": [
        "data['Z'].fillna(data['Z'].mode()[0],inplace=True)"
      ],
      "execution_count": 26,
      "outputs": []
    },
    {
      "cell_type": "code",
      "metadata": {
        "id": "1NffioUR3YcA"
      },
      "source": [
        "data['Treated_with_drugs'].fillna(data['Treated_with_drugs'].mode()[0],inplace=True)"
      ],
      "execution_count": 27,
      "outputs": []
    },
    {
      "cell_type": "code",
      "metadata": {
        "colab": {
          "base_uri": "https://localhost:8080/"
        },
        "id": "SMjkhszQ3DK1",
        "outputId": "2cc6420c-284d-4136-ba16-fff1ca1c7e01"
      },
      "source": [
        "data.isnull().sum().sum()"
      ],
      "execution_count": 28,
      "outputs": [
        {
          "output_type": "execute_result",
          "data": {
            "text/plain": [
              "1235"
            ]
          },
          "metadata": {
            "tags": []
          },
          "execution_count": 28
        }
      ]
    },
    {
      "cell_type": "code",
      "metadata": {
        "colab": {
          "base_uri": "https://localhost:8080/"
        },
        "id": "8MMpiRMN30-0",
        "outputId": "265a9f7d-74e1-446f-b948-76f74ca4a851"
      },
      "source": [
        "data.Number_of_prev_cond.isnull().sum()"
      ],
      "execution_count": 29,
      "outputs": [
        {
          "output_type": "execute_result",
          "data": {
            "text/plain": [
              "1235"
            ]
          },
          "metadata": {
            "tags": []
          },
          "execution_count": 29
        }
      ]
    },
    {
      "cell_type": "code",
      "metadata": {
        "id": "aTmsj_oc38sJ"
      },
      "source": [
        "data['Number_of_prev_cond'].fillna(data['Number_of_prev_cond'].mean(),inplace=True)"
      ],
      "execution_count": 30,
      "outputs": []
    },
    {
      "cell_type": "code",
      "metadata": {
        "colab": {
          "base_uri": "https://localhost:8080/"
        },
        "id": "WdQuBSLN4FRT",
        "outputId": "b2ac16ca-f201-4f08-c189-26400dfabec7"
      },
      "source": [
        "data.isnull().sum().sum()"
      ],
      "execution_count": 31,
      "outputs": [
        {
          "output_type": "execute_result",
          "data": {
            "text/plain": [
              "0"
            ]
          },
          "metadata": {
            "tags": []
          },
          "execution_count": 31
        }
      ]
    },
    {
      "cell_type": "code",
      "metadata": {
        "colab": {
          "base_uri": "https://localhost:8080/"
        },
        "id": "L-rguUcS3uq2",
        "outputId": "2acf83f2-226c-4dd0-f435-d79e5aded562"
      },
      "source": [
        "data.info()"
      ],
      "execution_count": 32,
      "outputs": [
        {
          "output_type": "stream",
          "text": [
            "<class 'pandas.core.frame.DataFrame'>\n",
            "RangeIndex: 23097 entries, 0 to 23096\n",
            "Data columns (total 18 columns):\n",
            " #   Column                     Non-Null Count  Dtype  \n",
            "---  ------                     --------------  -----  \n",
            " 0   ID_Patient_Care_Situation  23097 non-null  int64  \n",
            " 1   Diagnosed_Condition        23097 non-null  int64  \n",
            " 2   Patient_ID                 23097 non-null  int64  \n",
            " 3   Treated_with_drugs         23097 non-null  object \n",
            " 4   Patient_Age                23097 non-null  int64  \n",
            " 5   Patient_Body_Mass_Index    23097 non-null  float64\n",
            " 6   Patient_Smoker             23097 non-null  object \n",
            " 7   Patient_Rural_Urban        23097 non-null  object \n",
            " 8   Patient_mental_condition   23097 non-null  object \n",
            " 9   A                          23097 non-null  float64\n",
            " 10  B                          23097 non-null  float64\n",
            " 11  C                          23097 non-null  float64\n",
            " 12  D                          23097 non-null  float64\n",
            " 13  E                          23097 non-null  float64\n",
            " 14  F                          23097 non-null  float64\n",
            " 15  Z                          23097 non-null  float64\n",
            " 16  Number_of_prev_cond        23097 non-null  float64\n",
            " 17  Survived_1_year            23097 non-null  int64  \n",
            "dtypes: float64(9), int64(5), object(4)\n",
            "memory usage: 3.2+ MB\n"
          ],
          "name": "stdout"
        }
      ]
    },
    {
      "cell_type": "code",
      "metadata": {
        "colab": {
          "base_uri": "https://localhost:8080/"
        },
        "id": "55dXfVtx5KYq",
        "outputId": "57648c66-e434-488a-dac7-6c5b1a31c4b1"
      },
      "source": [
        "data.nunique()"
      ],
      "execution_count": 33,
      "outputs": [
        {
          "output_type": "execute_result",
          "data": {
            "text/plain": [
              "ID_Patient_Care_Situation    23097\n",
              "Diagnosed_Condition             53\n",
              "Patient_ID                   10570\n",
              "Treated_with_drugs              32\n",
              "Patient_Age                     78\n",
              "Patient_Body_Mass_Index      10570\n",
              "Patient_Smoker                   3\n",
              "Patient_Rural_Urban              2\n",
              "Patient_mental_condition         1\n",
              "A                                2\n",
              "B                                2\n",
              "C                                2\n",
              "D                                2\n",
              "E                                2\n",
              "F                                2\n",
              "Z                                2\n",
              "Number_of_prev_cond              6\n",
              "Survived_1_year                  2\n",
              "dtype: int64"
            ]
          },
          "metadata": {
            "tags": []
          },
          "execution_count": 33
        }
      ]
    },
    {
      "cell_type": "code",
      "metadata": {
        "colab": {
          "base_uri": "https://localhost:8080/"
        },
        "id": "w38cRF-35nFF",
        "outputId": "6381a503-5592-4dcf-9ceb-1715e004930c"
      },
      "source": [
        "data.Treated_with_drugs.value_counts()"
      ],
      "execution_count": 34,
      "outputs": [
        {
          "output_type": "execute_result",
          "data": {
            "text/plain": [
              "DX6                     8619\n",
              "DX5                     1909\n",
              "DX2                     1904\n",
              "DX1                     1835\n",
              "DX3                     1830\n",
              "DX4                     1792\n",
              "DX1 DX2                  448\n",
              "DX3 DX4                  448\n",
              "DX1 DX3                  424\n",
              "DX4 DX5                  423\n",
              "DX2 DX4                  419\n",
              "DX1 DX4                  408\n",
              "DX3 DX5                  407\n",
              "DX1 DX5                  402\n",
              "DX2 DX5                  400\n",
              "DX2 DX3                  398\n",
              "DX1 DX2 DX5              103\n",
              "DX1 DX3 DX5              101\n",
              "DX1 DX2 DX4               99\n",
              "DX3 DX4 DX5               96\n",
              "DX1 DX2 DX3               95\n",
              "DX2 DX3 DX5               91\n",
              "DX1 DX3 DX4               90\n",
              "DX2 DX3 DX4               87\n",
              "DX2 DX4 DX5               84\n",
              "DX1 DX4 DX5               80\n",
              "DX1 DX2 DX3 DX4           24\n",
              "DX1 DX3 DX4 DX5           24\n",
              "DX2 DX3 DX4 DX5           22\n",
              "DX1 DX2 DX4 DX5           18\n",
              "DX1 DX2 DX3 DX5           14\n",
              "DX1 DX2 DX3 DX4 DX5        3\n",
              "Name: Treated_with_drugs, dtype: int64"
            ]
          },
          "metadata": {
            "tags": []
          },
          "execution_count": 34
        }
      ]
    },
    {
      "cell_type": "code",
      "metadata": {
        "id": "R7mxhtQw7rb4"
      },
      "source": [
        "numeric_column = (data.dtypes[data.dtypes !='object'])"
      ],
      "execution_count": 35,
      "outputs": []
    },
    {
      "cell_type": "code",
      "metadata": {
        "colab": {
          "base_uri": "https://localhost:8080/"
        },
        "id": "aBjG2MNF7uNd",
        "outputId": "6f15b220-945f-40ea-be6e-0083a077ffe0"
      },
      "source": [
        "numeric_column"
      ],
      "execution_count": 36,
      "outputs": [
        {
          "output_type": "execute_result",
          "data": {
            "text/plain": [
              "ID_Patient_Care_Situation      int64\n",
              "Diagnosed_Condition            int64\n",
              "Patient_ID                     int64\n",
              "Patient_Age                    int64\n",
              "Patient_Body_Mass_Index      float64\n",
              "A                            float64\n",
              "B                            float64\n",
              "C                            float64\n",
              "D                            float64\n",
              "E                            float64\n",
              "F                            float64\n",
              "Z                            float64\n",
              "Number_of_prev_cond          float64\n",
              "Survived_1_year                int64\n",
              "dtype: object"
            ]
          },
          "metadata": {
            "tags": []
          },
          "execution_count": 36
        }
      ]
    },
    {
      "cell_type": "code",
      "metadata": {
        "colab": {
          "base_uri": "https://localhost:8080/",
          "height": 1000
        },
        "id": "K3EA4srz8Q5I",
        "outputId": "ca0ff83b-0f42-4983-d204-3522c1418a1a"
      },
      "source": [
        "float_column = data.dtypes[data.dtypes=='float64'].index\r\n",
        "for x in float_column:\r\n",
        "  plt.figure()\r\n",
        "  data.boxplot([x])\r\n",
        "\r\n",
        "\r\n"
      ],
      "execution_count": 37,
      "outputs": [
        {
          "output_type": "display_data",
          "data": {
            "image/png": "[encoded data removed]",
            "text/plain": [
              "<Figure size 432x288 with 1 Axes>"
            ]
          },
          "metadata": {
            "tags": [],
            "needs_background": "light"
          }
        },
        {
          "output_type": "display_data",
          "data": {
            "image/png": "[encoded data removed]",
            "text/plain": [
              "<Figure size 432x288 with 1 Axes>"
            ]
          },
          "metadata": {
            "tags": [],
            "needs_background": "light"
          }
        },
        {
          "output_type": "display_data",
          "data": {
            "image/png": "[encoded data removed]",
            "text/plain": [
              "<Figure size 432x288 with 1 Axes>"
            ]
          },
          "metadata": {
            "tags": [],
            "needs_background": "light"
          }
        },
        {
          "output_type": "display_data",
          "data": {
            "image/png": "[encoded data removed]",
            "text/plain": [
              "<Figure size 432x288 with 1 Axes>"
            ]
          },
          "metadata": {
            "tags": [],
            "needs_background": "light"
          }
        },
        {
          "output_type": "display_data",
          "data": {
            "image/png": "[encoded data removed]",
            "text/plain": [
              "<Figure size 432x288 with 1 Axes>"
            ]
          },
          "metadata": {
            "tags": [],
            "needs_background": "light"
          }
        },
        {
          "output_type": "display_data",
          "data": {
            "image/png": "[encoded data removed]",
            "text/plain": [
              "<Figure size 432x288 with 1 Axes>"
            ]
          },
          "metadata": {
            "tags": [],
            "needs_background": "light"
          }
        },
        {
          "output_type": "display_data",
          "data": {
            "image/png": "[encoded data removed]",
            "text/plain": [
              "<Figure size 432x288 with 1 Axes>"
            ]
          },
          "metadata": {
            "tags": [],
            "needs_background": "light"
          }
        },
        {
          "output_type": "display_data",
          "data": {
            "image/png": "[encoded data removed]",
            "text/plain": [
              "<Figure size 432x288 with 1 Axes>"
            ]
          },
          "metadata": {
            "tags": [],
            "needs_background": "light"
          }
        },
        {
          "output_type": "display_data",
          "data": {
            "image/png": "[encoded data removed]",
            "text/plain": [
              "<Figure size 432x288 with 1 Axes>"
            ]
          },
          "metadata": {
            "tags": [],
            "needs_background": "light"
          }
        }
      ]
    },
    {
      "cell_type": "code",
      "metadata": {
        "colab": {
          "base_uri": "https://localhost:8080/",
          "height": 1000
        },
        "id": "l0osQU1P8cSA",
        "outputId": "624403c4-7405-4991-f921-74a7a6500638"
      },
      "source": [
        "int_column = data.dtypes[data.dtypes=='int64'].index\r\n",
        "for x in float_column:\r\n",
        "  plt.figure()\r\n",
        "  data.boxplot([x])"
      ],
      "execution_count": 38,
      "outputs": [
        {
          "output_type": "display_data",
          "data": {
            "image/png": "[encoded data removed]",
            "text/plain": [
              "<Figure size 432x288 with 1 Axes>"
            ]
          },
          "metadata": {
            "tags": [],
            "needs_background": "light"
          }
        },
        {
          "output_type": "display_data",
          "data": {
            "image/png": "[encoded data removed]",
            "text/plain": [
              "<Figure size 432x288 with 1 Axes>"
            ]
          },
          "metadata": {
            "tags": [],
            "needs_background": "light"
          }
        },
        {
          "output_type": "display_data",
          "data": {
            "image/png": "[encoded data removed]",
            "text/plain": [
              "<Figure size 432x288 with 1 Axes>"
            ]
          },
          "metadata": {
            "tags": [],
            "needs_background": "light"
          }
        },
        {
          "output_type": "display_data",
          "data": {
            "image/png": "[encoded data removed]",
            "text/plain": [
              "<Figure size 432x288 with 1 Axes>"
            ]
          },
          "metadata": {
            "tags": [],
            "needs_background": "light"
          }
        },
        {
          "output_type": "display_data",
          "data": {
            "image/png": "[encoded data removed]",
            "text/plain": [
              "<Figure size 432x288 with 1 Axes>"
            ]
          },
          "metadata": {
            "tags": [],
            "needs_background": "light"
          }
        },
        {
          "output_type": "display_data",
          "data": {
            "image/png": "[encoded data removed]",
            "text/plain": [
              "<Figure size 432x288 with 1 Axes>"
            ]
          },
          "metadata": {
            "tags": [],
            "needs_background": "light"
          }
        },
        {
          "output_type": "display_data",
          "data": {
            "image/png": "[encoded data removed]",
            "text/plain": [
              "<Figure size 432x288 with 1 Axes>"
            ]
          },
          "metadata": {
            "tags": [],
            "needs_background": "light"
          }
        },
        {
          "output_type": "display_data",
          "data": {
            "image/png": "[encoded data removed]",
            "text/plain": [
              "<Figure size 432x288 with 1 Axes>"
            ]
          },
          "metadata": {
            "tags": [],
            "needs_background": "light"
          }
        },
        {
          "output_type": "display_data",
          "data": {
            "image/png": "[encoded data removed]",
            "text/plain": [
              "<Figure size 432x288 with 1 Axes>"
            ]
          },
          "metadata": {
            "tags": [],
            "needs_background": "light"
          }
        }
      ]
    },
    {
      "cell_type": "code",
      "metadata": {
        "id": "UVtqQ3rg8wwS"
      },
      "source": [
        "# for x in float_column:\r\n",
        "#   desc = data[x].describe()\r\n",
        "#   IQR = desc['75%']- desc['25%']\r\n",
        "#   UT = desc['75%']+1.5*IQR\r\n",
        "#   LT = desc['25%']-1.5*IQR\r\n",
        "#   data[x][data[x]>UT] = UT"
      ],
      "execution_count": 39,
      "outputs": []
    },
    {
      "cell_type": "code",
      "metadata": {
        "id": "VUktxcs-89D1"
      },
      "source": [
        "# float_column = data.dtypes[data.dtypes=='float64'].index\r\n",
        "# for x in float_column:\r\n",
        "#   plt.figure()\r\n",
        "#   data.boxplot([x])"
      ],
      "execution_count": 40,
      "outputs": []
    },
    {
      "cell_type": "code",
      "metadata": {
        "id": "aH1NvEhd9HZD"
      },
      "source": [
        "# for x in float_column:\r\n",
        "#   desc = data[x].describe()\r\n",
        "#   IQR = desc['75%']- desc['25%']\r\n",
        "#   UT = desc['75%']+1.5*IQR\r\n",
        "#   LT = desc['25%']-1.5*IQR\r\n",
        "#   data[x][data[x]>UT] = UT"
      ],
      "execution_count": 41,
      "outputs": []
    },
    {
      "cell_type": "code",
      "metadata": {
        "id": "k8pKqJWo9R75"
      },
      "source": [
        "# for x in int_column:\r\n",
        "#   desc = data[x].describe()\r\n",
        "#   IQR = desc['75%']- desc['25%']\r\n",
        "#   UT = desc['75%']+1.5*IQR\r\n",
        "#   LT = desc['25%']-1.5*IQR\r\n",
        "#   data[x][data[x]>UT] = UT"
      ],
      "execution_count": 42,
      "outputs": []
    },
    {
      "cell_type": "code",
      "metadata": {
        "id": "4lfFohz_9nXJ"
      },
      "source": [
        "# int_column = data.dtypes[data.dtypes=='int64'].index\r\n",
        "# for x in float_column:\r\n",
        "#   plt.figure()\r\n",
        "#   data.boxplot([x])"
      ],
      "execution_count": 43,
      "outputs": []
    },
    {
      "cell_type": "code",
      "metadata": {
        "id": "Rd_HiCpOMzFM"
      },
      "source": [
        "\r\n",
        "# for i in float_column:\r\n",
        "#   if 0 in data[i].unique():\r\n",
        "#     pass\r\n",
        "#   else:\r\n",
        "#     data[i]=np.log(data[i])\r\n",
        "#     data.boxplot(column=i)\r\n",
        "#     plt.ylabel(i)\r\n",
        "#     plt.title(i)\r\n",
        "#     plt.show()\r\n"
      ],
      "execution_count": 44,
      "outputs": []
    },
    {
      "cell_type": "code",
      "metadata": {
        "id": "zbCWeCCHNYKZ"
      },
      "source": [
        "# for x in float_column:\r\n",
        "#   desc = data['Patient_Body_Mass_Index'].describe()\r\n",
        "#   IQR = desc['75%']- desc['25%']\r\n",
        "#   UT = desc['75%']+1.5*IQR\r\n",
        "#   LT = desc['25%']-1.5*IQR\r\n",
        "#   data[x][data[x]<UT] = UT"
      ],
      "execution_count": 45,
      "outputs": []
    },
    {
      "cell_type": "code",
      "metadata": {
        "colab": {
          "base_uri": "https://localhost:8080/"
        },
        "id": "NL0iskDr-AXM",
        "outputId": "fcb59e7b-5c39-45d7-9adf-c6cc7cbc34af"
      },
      "source": [
        "def correlation(data, threshold):\r\n",
        "  col_corr = set()\r\n",
        "  corr_matrix = data.corr()\r\n",
        "  for i in range(len(corr_matrix.columns)):\r\n",
        "    for j in range(i):\r\n",
        "      if abs(corr_matrix.iloc[i,j]>threshold):\r\n",
        "        col_name = corr_matrix.columns[i]\r\n",
        "        col_corr.add(col_name)\r\n",
        "  return col_corr\r\n",
        "\r\n",
        "corr_features = correlation(data,0.90)\r\n",
        "len(set(corr_features))\r\n",
        "corr_features \r\n"
      ],
      "execution_count": 46,
      "outputs": [
        {
          "output_type": "execute_result",
          "data": {
            "text/plain": [
              "set()"
            ]
          },
          "metadata": {
            "tags": []
          },
          "execution_count": 46
        }
      ]
    },
    {
      "cell_type": "code",
      "metadata": {
        "id": "LtIYQjH460F0"
      },
      "source": [
        "data.drop(['A', 'B', 'C', 'D', 'E', 'F', 'Number_of_prev_cond','Z'],axis=1,inplace=True)"
      ],
      "execution_count": 47,
      "outputs": []
    },
    {
      "cell_type": "code",
      "metadata": {
        "colab": {
          "base_uri": "https://localhost:8080/",
          "height": 404
        },
        "id": "q9_i7U9A_vjj",
        "outputId": "d3bfda2a-1ff3-41e7-f4f1-e7108984a247"
      },
      "source": [
        "corr = data.corr()\r\n",
        "sns.heatmap(corr, \r\n",
        "            xticklabels=corr.columns.values,\r\n",
        "            yticklabels=corr.columns.values)\r\n"
      ],
      "execution_count": 48,
      "outputs": [
        {
          "output_type": "execute_result",
          "data": {
            "text/plain": [
              "<matplotlib.axes._subplots.AxesSubplot at 0x7fb87d853cc0>"
            ]
          },
          "metadata": {
            "tags": []
          },
          "execution_count": 48
        },
        {
          "output_type": "display_data",
          "data": {
            "image/png": "[encoded data removed]",
            "text/plain": [
              "<Figure size 432x288 with 2 Axes>"
            ]
          },
          "metadata": {
            "tags": [],
            "needs_background": "light"
          }
        }
      ]
    },
    {
      "cell_type": "code",
      "metadata": {
        "id": "hkhw7Ym2ADtH"
      },
      "source": [
        "x = data.drop('Survived_1_year',axis=1)"
      ],
      "execution_count": 49,
      "outputs": []
    },
    {
      "cell_type": "code",
      "metadata": {
        "id": "NKfa6YOy8qic"
      },
      "source": [
        "data['Survived_1_year'].fillna(data['Survived_1_year'].mean(),inplace=True)"
      ],
      "execution_count": 50,
      "outputs": []
    },
    {
      "cell_type": "code",
      "metadata": {
        "id": "0YS62Q7ZIWkx"
      },
      "source": [
        "data['Survived_1_year'] = data['Survived_1_year'].astype(int)"
      ],
      "execution_count": 51,
      "outputs": []
    },
    {
      "cell_type": "code",
      "metadata": {
        "id": "viMPZTFBApsu"
      },
      "source": [
        "y=data['Survived_1_year']"
      ],
      "execution_count": 52,
      "outputs": []
    },
    {
      "cell_type": "code",
      "metadata": {
        "colab": {
          "base_uri": "https://localhost:8080/"
        },
        "id": "8q0rMo-28LuC",
        "outputId": "8939d272-34c5-4e57-cfa3-2c1a9539bfe5"
      },
      "source": [
        "y"
      ],
      "execution_count": 53,
      "outputs": [
        {
          "output_type": "execute_result",
          "data": {
            "text/plain": [
              "0        0\n",
              "1        1\n",
              "2        0\n",
              "3        1\n",
              "4        1\n",
              "        ..\n",
              "23092    0\n",
              "23093    1\n",
              "23094    0\n",
              "23095    1\n",
              "23096    0\n",
              "Name: Survived_1_year, Length: 23097, dtype: int64"
            ]
          },
          "metadata": {
            "tags": []
          },
          "execution_count": 53
        }
      ]
    },
    {
      "cell_type": "code",
      "metadata": {
        "colab": {
          "base_uri": "https://localhost:8080/",
          "height": 439
        },
        "id": "6Je0ugN17doD",
        "outputId": "596edc31-cfe7-4b4b-958a-4cc6258def9e"
      },
      "source": [
        "x"
      ],
      "execution_count": 54,
      "outputs": [
        {
          "output_type": "execute_result",
          "data": {
            "text/html": [
              "<div>\n",
              "<style scoped>\n",
              "    .dataframe tbody tr th:only-of-type {\n",
              "        vertical-align: middle;\n",
              "    }\n",
              "\n",
              "    .dataframe tbody tr th {\n",
              "        vertical-align: top;\n",
              "    }\n",
              "\n",
              "    .dataframe thead th {\n",
              "        text-align: right;\n",
              "    }\n",
              "</style>\n",
              "<table border=\"1\" class=\"dataframe\">\n",
              "  <thead>\n",
              "    <tr style=\"text-align: right;\">\n",
              "      <th></th>\n",
              "      <th>ID_Patient_Care_Situation</th>\n",
              "      <th>Diagnosed_Condition</th>\n",
              "      <th>Patient_ID</th>\n",
              "      <th>Treated_with_drugs</th>\n",
              "      <th>Patient_Age</th>\n",
              "      <th>Patient_Body_Mass_Index</th>\n",
              "      <th>Patient_Smoker</th>\n",
              "      <th>Patient_Rural_Urban</th>\n",
              "      <th>Patient_mental_condition</th>\n",
              "    </tr>\n",
              "  </thead>\n",
              "  <tbody>\n",
              "    <tr>\n",
              "      <th>0</th>\n",
              "      <td>22374</td>\n",
              "      <td>8</td>\n",
              "      <td>3333</td>\n",
              "      <td>DX6</td>\n",
              "      <td>56</td>\n",
              "      <td>18.479385</td>\n",
              "      <td>YES</td>\n",
              "      <td>URBAN</td>\n",
              "      <td>Stable</td>\n",
              "    </tr>\n",
              "    <tr>\n",
              "      <th>1</th>\n",
              "      <td>18164</td>\n",
              "      <td>5</td>\n",
              "      <td>5740</td>\n",
              "      <td>DX2</td>\n",
              "      <td>36</td>\n",
              "      <td>22.945566</td>\n",
              "      <td>YES</td>\n",
              "      <td>RURAL</td>\n",
              "      <td>Stable</td>\n",
              "    </tr>\n",
              "    <tr>\n",
              "      <th>2</th>\n",
              "      <td>6283</td>\n",
              "      <td>23</td>\n",
              "      <td>10446</td>\n",
              "      <td>DX6</td>\n",
              "      <td>48</td>\n",
              "      <td>27.510027</td>\n",
              "      <td>YES</td>\n",
              "      <td>RURAL</td>\n",
              "      <td>Stable</td>\n",
              "    </tr>\n",
              "    <tr>\n",
              "      <th>3</th>\n",
              "      <td>5339</td>\n",
              "      <td>51</td>\n",
              "      <td>12011</td>\n",
              "      <td>DX1</td>\n",
              "      <td>5</td>\n",
              "      <td>19.130976</td>\n",
              "      <td>NO</td>\n",
              "      <td>URBAN</td>\n",
              "      <td>Stable</td>\n",
              "    </tr>\n",
              "    <tr>\n",
              "      <th>4</th>\n",
              "      <td>33012</td>\n",
              "      <td>0</td>\n",
              "      <td>12513</td>\n",
              "      <td>DX6</td>\n",
              "      <td>128</td>\n",
              "      <td>1.348400</td>\n",
              "      <td>Cannot say</td>\n",
              "      <td>RURAL</td>\n",
              "      <td>Stable</td>\n",
              "    </tr>\n",
              "    <tr>\n",
              "      <th>...</th>\n",
              "      <td>...</td>\n",
              "      <td>...</td>\n",
              "      <td>...</td>\n",
              "      <td>...</td>\n",
              "      <td>...</td>\n",
              "      <td>...</td>\n",
              "      <td>...</td>\n",
              "      <td>...</td>\n",
              "      <td>...</td>\n",
              "    </tr>\n",
              "    <tr>\n",
              "      <th>23092</th>\n",
              "      <td>15613</td>\n",
              "      <td>3</td>\n",
              "      <td>1548</td>\n",
              "      <td>DX2 DX4</td>\n",
              "      <td>14</td>\n",
              "      <td>18.643448</td>\n",
              "      <td>NO</td>\n",
              "      <td>RURAL</td>\n",
              "      <td>Stable</td>\n",
              "    </tr>\n",
              "    <tr>\n",
              "      <th>23093</th>\n",
              "      <td>15503</td>\n",
              "      <td>41</td>\n",
              "      <td>2769</td>\n",
              "      <td>DX6</td>\n",
              "      <td>55</td>\n",
              "      <td>23.684585</td>\n",
              "      <td>NO</td>\n",
              "      <td>RURAL</td>\n",
              "      <td>Stable</td>\n",
              "    </tr>\n",
              "    <tr>\n",
              "      <th>23094</th>\n",
              "      <td>2167</td>\n",
              "      <td>24</td>\n",
              "      <td>7671</td>\n",
              "      <td>DX6</td>\n",
              "      <td>63</td>\n",
              "      <td>27.500039</td>\n",
              "      <td>YES</td>\n",
              "      <td>RURAL</td>\n",
              "      <td>Stable</td>\n",
              "    </tr>\n",
              "    <tr>\n",
              "      <th>23095</th>\n",
              "      <td>31646</td>\n",
              "      <td>11</td>\n",
              "      <td>5764</td>\n",
              "      <td>DX3</td>\n",
              "      <td>25</td>\n",
              "      <td>23.719125</td>\n",
              "      <td>YES</td>\n",
              "      <td>RURAL</td>\n",
              "      <td>Stable</td>\n",
              "    </tr>\n",
              "    <tr>\n",
              "      <th>23096</th>\n",
              "      <td>3947</td>\n",
              "      <td>21</td>\n",
              "      <td>6266</td>\n",
              "      <td>DX6</td>\n",
              "      <td>50</td>\n",
              "      <td>18.391156</td>\n",
              "      <td>YES</td>\n",
              "      <td>RURAL</td>\n",
              "      <td>Stable</td>\n",
              "    </tr>\n",
              "  </tbody>\n",
              "</table>\n",
              "<p>23097 rows × 9 columns</p>\n",
              "</div>"
            ],
            "text/plain": [
              "       ID_Patient_Care_Situation  ...  Patient_mental_condition\n",
              "0                          22374  ...                    Stable\n",
              "1                          18164  ...                    Stable\n",
              "2                           6283  ...                    Stable\n",
              "3                           5339  ...                    Stable\n",
              "4                          33012  ...                    Stable\n",
              "...                          ...  ...                       ...\n",
              "23092                      15613  ...                    Stable\n",
              "23093                      15503  ...                    Stable\n",
              "23094                       2167  ...                    Stable\n",
              "23095                      31646  ...                    Stable\n",
              "23096                       3947  ...                    Stable\n",
              "\n",
              "[23097 rows x 9 columns]"
            ]
          },
          "metadata": {
            "tags": []
          },
          "execution_count": 54
        }
      ]
    },
    {
      "cell_type": "code",
      "metadata": {
        "colab": {
          "base_uri": "https://localhost:8080/",
          "height": 224
        },
        "id": "zwjjzz8MAuUi",
        "outputId": "ee090f0c-6787-49c6-f36e-03e29bccc2c8"
      },
      "source": [
        "x.head()"
      ],
      "execution_count": 55,
      "outputs": [
        {
          "output_type": "execute_result",
          "data": {
            "text/html": [
              "<div>\n",
              "<style scoped>\n",
              "    .dataframe tbody tr th:only-of-type {\n",
              "        vertical-align: middle;\n",
              "    }\n",
              "\n",
              "    .dataframe tbody tr th {\n",
              "        vertical-align: top;\n",
              "    }\n",
              "\n",
              "    .dataframe thead th {\n",
              "        text-align: right;\n",
              "    }\n",
              "</style>\n",
              "<table border=\"1\" class=\"dataframe\">\n",
              "  <thead>\n",
              "    <tr style=\"text-align: right;\">\n",
              "      <th></th>\n",
              "      <th>ID_Patient_Care_Situation</th>\n",
              "      <th>Diagnosed_Condition</th>\n",
              "      <th>Patient_ID</th>\n",
              "      <th>Treated_with_drugs</th>\n",
              "      <th>Patient_Age</th>\n",
              "      <th>Patient_Body_Mass_Index</th>\n",
              "      <th>Patient_Smoker</th>\n",
              "      <th>Patient_Rural_Urban</th>\n",
              "      <th>Patient_mental_condition</th>\n",
              "    </tr>\n",
              "  </thead>\n",
              "  <tbody>\n",
              "    <tr>\n",
              "      <th>0</th>\n",
              "      <td>22374</td>\n",
              "      <td>8</td>\n",
              "      <td>3333</td>\n",
              "      <td>DX6</td>\n",
              "      <td>56</td>\n",
              "      <td>18.479385</td>\n",
              "      <td>YES</td>\n",
              "      <td>URBAN</td>\n",
              "      <td>Stable</td>\n",
              "    </tr>\n",
              "    <tr>\n",
              "      <th>1</th>\n",
              "      <td>18164</td>\n",
              "      <td>5</td>\n",
              "      <td>5740</td>\n",
              "      <td>DX2</td>\n",
              "      <td>36</td>\n",
              "      <td>22.945566</td>\n",
              "      <td>YES</td>\n",
              "      <td>RURAL</td>\n",
              "      <td>Stable</td>\n",
              "    </tr>\n",
              "    <tr>\n",
              "      <th>2</th>\n",
              "      <td>6283</td>\n",
              "      <td>23</td>\n",
              "      <td>10446</td>\n",
              "      <td>DX6</td>\n",
              "      <td>48</td>\n",
              "      <td>27.510027</td>\n",
              "      <td>YES</td>\n",
              "      <td>RURAL</td>\n",
              "      <td>Stable</td>\n",
              "    </tr>\n",
              "    <tr>\n",
              "      <th>3</th>\n",
              "      <td>5339</td>\n",
              "      <td>51</td>\n",
              "      <td>12011</td>\n",
              "      <td>DX1</td>\n",
              "      <td>5</td>\n",
              "      <td>19.130976</td>\n",
              "      <td>NO</td>\n",
              "      <td>URBAN</td>\n",
              "      <td>Stable</td>\n",
              "    </tr>\n",
              "    <tr>\n",
              "      <th>4</th>\n",
              "      <td>33012</td>\n",
              "      <td>0</td>\n",
              "      <td>12513</td>\n",
              "      <td>DX6</td>\n",
              "      <td>128</td>\n",
              "      <td>1.348400</td>\n",
              "      <td>Cannot say</td>\n",
              "      <td>RURAL</td>\n",
              "      <td>Stable</td>\n",
              "    </tr>\n",
              "  </tbody>\n",
              "</table>\n",
              "</div>"
            ],
            "text/plain": [
              "   ID_Patient_Care_Situation  ...  Patient_mental_condition\n",
              "0                      22374  ...                    Stable\n",
              "1                      18164  ...                    Stable\n",
              "2                       6283  ...                    Stable\n",
              "3                       5339  ...                    Stable\n",
              "4                      33012  ...                    Stable\n",
              "\n",
              "[5 rows x 9 columns]"
            ]
          },
          "metadata": {
            "tags": []
          },
          "execution_count": 55
        }
      ]
    },
    {
      "cell_type": "code",
      "metadata": {
        "id": "vJBypmCuAxh2"
      },
      "source": [
        "x = pd.get_dummies(x)"
      ],
      "execution_count": 56,
      "outputs": []
    },
    {
      "cell_type": "code",
      "metadata": {
        "colab": {
          "base_uri": "https://localhost:8080/",
          "height": 456
        },
        "id": "2B34HlRZBcp6",
        "outputId": "ddaff054-ed77-48d3-d921-a947fb0236f1"
      },
      "source": [
        "x"
      ],
      "execution_count": 57,
      "outputs": [
        {
          "output_type": "execute_result",
          "data": {
            "text/html": [
              "<div>\n",
              "<style scoped>\n",
              "    .dataframe tbody tr th:only-of-type {\n",
              "        vertical-align: middle;\n",
              "    }\n",
              "\n",
              "    .dataframe tbody tr th {\n",
              "        vertical-align: top;\n",
              "    }\n",
              "\n",
              "    .dataframe thead th {\n",
              "        text-align: right;\n",
              "    }\n",
              "</style>\n",
              "<table border=\"1\" class=\"dataframe\">\n",
              "  <thead>\n",
              "    <tr style=\"text-align: right;\">\n",
              "      <th></th>\n",
              "      <th>ID_Patient_Care_Situation</th>\n",
              "      <th>Diagnosed_Condition</th>\n",
              "      <th>Patient_ID</th>\n",
              "      <th>Patient_Age</th>\n",
              "      <th>Patient_Body_Mass_Index</th>\n",
              "      <th>Treated_with_drugs_DX1</th>\n",
              "      <th>Treated_with_drugs_DX1 DX2</th>\n",
              "      <th>Treated_with_drugs_DX1 DX2 DX3</th>\n",
              "      <th>Treated_with_drugs_DX1 DX2 DX3 DX4</th>\n",
              "      <th>Treated_with_drugs_DX1 DX2 DX3 DX4 DX5</th>\n",
              "      <th>Treated_with_drugs_DX1 DX2 DX3 DX5</th>\n",
              "      <th>Treated_with_drugs_DX1 DX2 DX4</th>\n",
              "      <th>Treated_with_drugs_DX1 DX2 DX4 DX5</th>\n",
              "      <th>Treated_with_drugs_DX1 DX2 DX5</th>\n",
              "      <th>Treated_with_drugs_DX1 DX3</th>\n",
              "      <th>Treated_with_drugs_DX1 DX3 DX4</th>\n",
              "      <th>Treated_with_drugs_DX1 DX3 DX4 DX5</th>\n",
              "      <th>Treated_with_drugs_DX1 DX3 DX5</th>\n",
              "      <th>Treated_with_drugs_DX1 DX4</th>\n",
              "      <th>Treated_with_drugs_DX1 DX4 DX5</th>\n",
              "      <th>Treated_with_drugs_DX1 DX5</th>\n",
              "      <th>Treated_with_drugs_DX2</th>\n",
              "      <th>Treated_with_drugs_DX2 DX3</th>\n",
              "      <th>Treated_with_drugs_DX2 DX3 DX4</th>\n",
              "      <th>Treated_with_drugs_DX2 DX3 DX4 DX5</th>\n",
              "      <th>Treated_with_drugs_DX2 DX3 DX5</th>\n",
              "      <th>Treated_with_drugs_DX2 DX4</th>\n",
              "      <th>Treated_with_drugs_DX2 DX4 DX5</th>\n",
              "      <th>Treated_with_drugs_DX2 DX5</th>\n",
              "      <th>Treated_with_drugs_DX3</th>\n",
              "      <th>Treated_with_drugs_DX3 DX4</th>\n",
              "      <th>Treated_with_drugs_DX3 DX4 DX5</th>\n",
              "      <th>Treated_with_drugs_DX3 DX5</th>\n",
              "      <th>Treated_with_drugs_DX4</th>\n",
              "      <th>Treated_with_drugs_DX4 DX5</th>\n",
              "      <th>Treated_with_drugs_DX5</th>\n",
              "      <th>Treated_with_drugs_DX6</th>\n",
              "      <th>Patient_Smoker_Cannot say</th>\n",
              "      <th>Patient_Smoker_NO</th>\n",
              "      <th>Patient_Smoker_YES</th>\n",
              "      <th>Patient_Rural_Urban_RURAL</th>\n",
              "      <th>Patient_Rural_Urban_URBAN</th>\n",
              "      <th>Patient_mental_condition_Stable</th>\n",
              "    </tr>\n",
              "  </thead>\n",
              "  <tbody>\n",
              "    <tr>\n",
              "      <th>0</th>\n",
              "      <td>22374</td>\n",
              "      <td>8</td>\n",
              "      <td>3333</td>\n",
              "      <td>56</td>\n",
              "      <td>18.479385</td>\n",
              "      <td>0</td>\n",
              "      <td>0</td>\n",
              "      <td>0</td>\n",
              "      <td>0</td>\n",
              "      <td>0</td>\n",
              "      <td>0</td>\n",
              "      <td>0</td>\n",
              "      <td>0</td>\n",
              "      <td>0</td>\n",
              "      <td>0</td>\n",
              "      <td>0</td>\n",
              "      <td>0</td>\n",
              "      <td>0</td>\n",
              "      <td>0</td>\n",
              "      <td>0</td>\n",
              "      <td>0</td>\n",
              "      <td>0</td>\n",
              "      <td>0</td>\n",
              "      <td>0</td>\n",
              "      <td>0</td>\n",
              "      <td>0</td>\n",
              "      <td>0</td>\n",
              "      <td>0</td>\n",
              "      <td>0</td>\n",
              "      <td>0</td>\n",
              "      <td>0</td>\n",
              "      <td>0</td>\n",
              "      <td>0</td>\n",
              "      <td>0</td>\n",
              "      <td>0</td>\n",
              "      <td>0</td>\n",
              "      <td>1</td>\n",
              "      <td>0</td>\n",
              "      <td>0</td>\n",
              "      <td>1</td>\n",
              "      <td>0</td>\n",
              "      <td>1</td>\n",
              "      <td>1</td>\n",
              "    </tr>\n",
              "    <tr>\n",
              "      <th>1</th>\n",
              "      <td>18164</td>\n",
              "      <td>5</td>\n",
              "      <td>5740</td>\n",
              "      <td>36</td>\n",
              "      <td>22.945566</td>\n",
              "      <td>0</td>\n",
              "      <td>0</td>\n",
              "      <td>0</td>\n",
              "      <td>0</td>\n",
              "      <td>0</td>\n",
              "      <td>0</td>\n",
              "      <td>0</td>\n",
              "      <td>0</td>\n",
              "      <td>0</td>\n",
              "      <td>0</td>\n",
              "      <td>0</td>\n",
              "      <td>0</td>\n",
              "      <td>0</td>\n",
              "      <td>0</td>\n",
              "      <td>0</td>\n",
              "      <td>0</td>\n",
              "      <td>1</td>\n",
              "      <td>0</td>\n",
              "      <td>0</td>\n",
              "      <td>0</td>\n",
              "      <td>0</td>\n",
              "      <td>0</td>\n",
              "      <td>0</td>\n",
              "      <td>0</td>\n",
              "      <td>0</td>\n",
              "      <td>0</td>\n",
              "      <td>0</td>\n",
              "      <td>0</td>\n",
              "      <td>0</td>\n",
              "      <td>0</td>\n",
              "      <td>0</td>\n",
              "      <td>0</td>\n",
              "      <td>0</td>\n",
              "      <td>0</td>\n",
              "      <td>1</td>\n",
              "      <td>1</td>\n",
              "      <td>0</td>\n",
              "      <td>1</td>\n",
              "    </tr>\n",
              "    <tr>\n",
              "      <th>2</th>\n",
              "      <td>6283</td>\n",
              "      <td>23</td>\n",
              "      <td>10446</td>\n",
              "      <td>48</td>\n",
              "      <td>27.510027</td>\n",
              "      <td>0</td>\n",
              "      <td>0</td>\n",
              "      <td>0</td>\n",
              "      <td>0</td>\n",
              "      <td>0</td>\n",
              "      <td>0</td>\n",
              "      <td>0</td>\n",
              "      <td>0</td>\n",
              "      <td>0</td>\n",
              "      <td>0</td>\n",
              "      <td>0</td>\n",
              "      <td>0</td>\n",
              "      <td>0</td>\n",
              "      <td>0</td>\n",
              "      <td>0</td>\n",
              "      <td>0</td>\n",
              "      <td>0</td>\n",
              "      <td>0</td>\n",
              "      <td>0</td>\n",
              "      <td>0</td>\n",
              "      <td>0</td>\n",
              "      <td>0</td>\n",
              "      <td>0</td>\n",
              "      <td>0</td>\n",
              "      <td>0</td>\n",
              "      <td>0</td>\n",
              "      <td>0</td>\n",
              "      <td>0</td>\n",
              "      <td>0</td>\n",
              "      <td>0</td>\n",
              "      <td>0</td>\n",
              "      <td>1</td>\n",
              "      <td>0</td>\n",
              "      <td>0</td>\n",
              "      <td>1</td>\n",
              "      <td>1</td>\n",
              "      <td>0</td>\n",
              "      <td>1</td>\n",
              "    </tr>\n",
              "    <tr>\n",
              "      <th>3</th>\n",
              "      <td>5339</td>\n",
              "      <td>51</td>\n",
              "      <td>12011</td>\n",
              "      <td>5</td>\n",
              "      <td>19.130976</td>\n",
              "      <td>1</td>\n",
              "      <td>0</td>\n",
              "      <td>0</td>\n",
              "      <td>0</td>\n",
              "      <td>0</td>\n",
              "      <td>0</td>\n",
              "      <td>0</td>\n",
              "      <td>0</td>\n",
              "      <td>0</td>\n",
              "      <td>0</td>\n",
              "      <td>0</td>\n",
              "      <td>0</td>\n",
              "      <td>0</td>\n",
              "      <td>0</td>\n",
              "      <td>0</td>\n",
              "      <td>0</td>\n",
              "      <td>0</td>\n",
              "      <td>0</td>\n",
              "      <td>0</td>\n",
              "      <td>0</td>\n",
              "      <td>0</td>\n",
              "      <td>0</td>\n",
              "      <td>0</td>\n",
              "      <td>0</td>\n",
              "      <td>0</td>\n",
              "      <td>0</td>\n",
              "      <td>0</td>\n",
              "      <td>0</td>\n",
              "      <td>0</td>\n",
              "      <td>0</td>\n",
              "      <td>0</td>\n",
              "      <td>0</td>\n",
              "      <td>0</td>\n",
              "      <td>1</td>\n",
              "      <td>0</td>\n",
              "      <td>0</td>\n",
              "      <td>1</td>\n",
              "      <td>1</td>\n",
              "    </tr>\n",
              "    <tr>\n",
              "      <th>4</th>\n",
              "      <td>33012</td>\n",
              "      <td>0</td>\n",
              "      <td>12513</td>\n",
              "      <td>128</td>\n",
              "      <td>1.348400</td>\n",
              "      <td>0</td>\n",
              "      <td>0</td>\n",
              "      <td>0</td>\n",
              "      <td>0</td>\n",
              "      <td>0</td>\n",
              "      <td>0</td>\n",
              "      <td>0</td>\n",
              "      <td>0</td>\n",
              "      <td>0</td>\n",
              "      <td>0</td>\n",
              "      <td>0</td>\n",
              "      <td>0</td>\n",
              "      <td>0</td>\n",
              "      <td>0</td>\n",
              "      <td>0</td>\n",
              "      <td>0</td>\n",
              "      <td>0</td>\n",
              "      <td>0</td>\n",
              "      <td>0</td>\n",
              "      <td>0</td>\n",
              "      <td>0</td>\n",
              "      <td>0</td>\n",
              "      <td>0</td>\n",
              "      <td>0</td>\n",
              "      <td>0</td>\n",
              "      <td>0</td>\n",
              "      <td>0</td>\n",
              "      <td>0</td>\n",
              "      <td>0</td>\n",
              "      <td>0</td>\n",
              "      <td>0</td>\n",
              "      <td>1</td>\n",
              "      <td>1</td>\n",
              "      <td>0</td>\n",
              "      <td>0</td>\n",
              "      <td>1</td>\n",
              "      <td>0</td>\n",
              "      <td>1</td>\n",
              "    </tr>\n",
              "    <tr>\n",
              "      <th>...</th>\n",
              "      <td>...</td>\n",
              "      <td>...</td>\n",
              "      <td>...</td>\n",
              "      <td>...</td>\n",
              "      <td>...</td>\n",
              "      <td>...</td>\n",
              "      <td>...</td>\n",
              "      <td>...</td>\n",
              "      <td>...</td>\n",
              "      <td>...</td>\n",
              "      <td>...</td>\n",
              "      <td>...</td>\n",
              "      <td>...</td>\n",
              "      <td>...</td>\n",
              "      <td>...</td>\n",
              "      <td>...</td>\n",
              "      <td>...</td>\n",
              "      <td>...</td>\n",
              "      <td>...</td>\n",
              "      <td>...</td>\n",
              "      <td>...</td>\n",
              "      <td>...</td>\n",
              "      <td>...</td>\n",
              "      <td>...</td>\n",
              "      <td>...</td>\n",
              "      <td>...</td>\n",
              "      <td>...</td>\n",
              "      <td>...</td>\n",
              "      <td>...</td>\n",
              "      <td>...</td>\n",
              "      <td>...</td>\n",
              "      <td>...</td>\n",
              "      <td>...</td>\n",
              "      <td>...</td>\n",
              "      <td>...</td>\n",
              "      <td>...</td>\n",
              "      <td>...</td>\n",
              "      <td>...</td>\n",
              "      <td>...</td>\n",
              "      <td>...</td>\n",
              "      <td>...</td>\n",
              "      <td>...</td>\n",
              "      <td>...</td>\n",
              "    </tr>\n",
              "    <tr>\n",
              "      <th>23092</th>\n",
              "      <td>15613</td>\n",
              "      <td>3</td>\n",
              "      <td>1548</td>\n",
              "      <td>14</td>\n",
              "      <td>18.643448</td>\n",
              "      <td>0</td>\n",
              "      <td>0</td>\n",
              "      <td>0</td>\n",
              "      <td>0</td>\n",
              "      <td>0</td>\n",
              "      <td>0</td>\n",
              "      <td>0</td>\n",
              "      <td>0</td>\n",
              "      <td>0</td>\n",
              "      <td>0</td>\n",
              "      <td>0</td>\n",
              "      <td>0</td>\n",
              "      <td>0</td>\n",
              "      <td>0</td>\n",
              "      <td>0</td>\n",
              "      <td>0</td>\n",
              "      <td>0</td>\n",
              "      <td>0</td>\n",
              "      <td>0</td>\n",
              "      <td>0</td>\n",
              "      <td>0</td>\n",
              "      <td>1</td>\n",
              "      <td>0</td>\n",
              "      <td>0</td>\n",
              "      <td>0</td>\n",
              "      <td>0</td>\n",
              "      <td>0</td>\n",
              "      <td>0</td>\n",
              "      <td>0</td>\n",
              "      <td>0</td>\n",
              "      <td>0</td>\n",
              "      <td>0</td>\n",
              "      <td>0</td>\n",
              "      <td>1</td>\n",
              "      <td>0</td>\n",
              "      <td>1</td>\n",
              "      <td>0</td>\n",
              "      <td>1</td>\n",
              "    </tr>\n",
              "    <tr>\n",
              "      <th>23093</th>\n",
              "      <td>15503</td>\n",
              "      <td>41</td>\n",
              "      <td>2769</td>\n",
              "      <td>55</td>\n",
              "      <td>23.684585</td>\n",
              "      <td>0</td>\n",
              "      <td>0</td>\n",
              "      <td>0</td>\n",
              "      <td>0</td>\n",
              "      <td>0</td>\n",
              "      <td>0</td>\n",
              "      <td>0</td>\n",
              "      <td>0</td>\n",
              "      <td>0</td>\n",
              "      <td>0</td>\n",
              "      <td>0</td>\n",
              "      <td>0</td>\n",
              "      <td>0</td>\n",
              "      <td>0</td>\n",
              "      <td>0</td>\n",
              "      <td>0</td>\n",
              "      <td>0</td>\n",
              "      <td>0</td>\n",
              "      <td>0</td>\n",
              "      <td>0</td>\n",
              "      <td>0</td>\n",
              "      <td>0</td>\n",
              "      <td>0</td>\n",
              "      <td>0</td>\n",
              "      <td>0</td>\n",
              "      <td>0</td>\n",
              "      <td>0</td>\n",
              "      <td>0</td>\n",
              "      <td>0</td>\n",
              "      <td>0</td>\n",
              "      <td>0</td>\n",
              "      <td>1</td>\n",
              "      <td>0</td>\n",
              "      <td>1</td>\n",
              "      <td>0</td>\n",
              "      <td>1</td>\n",
              "      <td>0</td>\n",
              "      <td>1</td>\n",
              "    </tr>\n",
              "    <tr>\n",
              "      <th>23094</th>\n",
              "      <td>2167</td>\n",
              "      <td>24</td>\n",
              "      <td>7671</td>\n",
              "      <td>63</td>\n",
              "      <td>27.500039</td>\n",
              "      <td>0</td>\n",
              "      <td>0</td>\n",
              "      <td>0</td>\n",
              "      <td>0</td>\n",
              "      <td>0</td>\n",
              "      <td>0</td>\n",
              "      <td>0</td>\n",
              "      <td>0</td>\n",
              "      <td>0</td>\n",
              "      <td>0</td>\n",
              "      <td>0</td>\n",
              "      <td>0</td>\n",
              "      <td>0</td>\n",
              "      <td>0</td>\n",
              "      <td>0</td>\n",
              "      <td>0</td>\n",
              "      <td>0</td>\n",
              "      <td>0</td>\n",
              "      <td>0</td>\n",
              "      <td>0</td>\n",
              "      <td>0</td>\n",
              "      <td>0</td>\n",
              "      <td>0</td>\n",
              "      <td>0</td>\n",
              "      <td>0</td>\n",
              "      <td>0</td>\n",
              "      <td>0</td>\n",
              "      <td>0</td>\n",
              "      <td>0</td>\n",
              "      <td>0</td>\n",
              "      <td>0</td>\n",
              "      <td>1</td>\n",
              "      <td>0</td>\n",
              "      <td>0</td>\n",
              "      <td>1</td>\n",
              "      <td>1</td>\n",
              "      <td>0</td>\n",
              "      <td>1</td>\n",
              "    </tr>\n",
              "    <tr>\n",
              "      <th>23095</th>\n",
              "      <td>31646</td>\n",
              "      <td>11</td>\n",
              "      <td>5764</td>\n",
              "      <td>25</td>\n",
              "      <td>23.719125</td>\n",
              "      <td>0</td>\n",
              "      <td>0</td>\n",
              "      <td>0</td>\n",
              "      <td>0</td>\n",
              "      <td>0</td>\n",
              "      <td>0</td>\n",
              "      <td>0</td>\n",
              "      <td>0</td>\n",
              "      <td>0</td>\n",
              "      <td>0</td>\n",
              "      <td>0</td>\n",
              "      <td>0</td>\n",
              "      <td>0</td>\n",
              "      <td>0</td>\n",
              "      <td>0</td>\n",
              "      <td>0</td>\n",
              "      <td>0</td>\n",
              "      <td>0</td>\n",
              "      <td>0</td>\n",
              "      <td>0</td>\n",
              "      <td>0</td>\n",
              "      <td>0</td>\n",
              "      <td>0</td>\n",
              "      <td>0</td>\n",
              "      <td>1</td>\n",
              "      <td>0</td>\n",
              "      <td>0</td>\n",
              "      <td>0</td>\n",
              "      <td>0</td>\n",
              "      <td>0</td>\n",
              "      <td>0</td>\n",
              "      <td>0</td>\n",
              "      <td>0</td>\n",
              "      <td>0</td>\n",
              "      <td>1</td>\n",
              "      <td>1</td>\n",
              "      <td>0</td>\n",
              "      <td>1</td>\n",
              "    </tr>\n",
              "    <tr>\n",
              "      <th>23096</th>\n",
              "      <td>3947</td>\n",
              "      <td>21</td>\n",
              "      <td>6266</td>\n",
              "      <td>50</td>\n",
              "      <td>18.391156</td>\n",
              "      <td>0</td>\n",
              "      <td>0</td>\n",
              "      <td>0</td>\n",
              "      <td>0</td>\n",
              "      <td>0</td>\n",
              "      <td>0</td>\n",
              "      <td>0</td>\n",
              "      <td>0</td>\n",
              "      <td>0</td>\n",
              "      <td>0</td>\n",
              "      <td>0</td>\n",
              "      <td>0</td>\n",
              "      <td>0</td>\n",
              "      <td>0</td>\n",
              "      <td>0</td>\n",
              "      <td>0</td>\n",
              "      <td>0</td>\n",
              "      <td>0</td>\n",
              "      <td>0</td>\n",
              "      <td>0</td>\n",
              "      <td>0</td>\n",
              "      <td>0</td>\n",
              "      <td>0</td>\n",
              "      <td>0</td>\n",
              "      <td>0</td>\n",
              "      <td>0</td>\n",
              "      <td>0</td>\n",
              "      <td>0</td>\n",
              "      <td>0</td>\n",
              "      <td>0</td>\n",
              "      <td>0</td>\n",
              "      <td>1</td>\n",
              "      <td>0</td>\n",
              "      <td>0</td>\n",
              "      <td>1</td>\n",
              "      <td>1</td>\n",
              "      <td>0</td>\n",
              "      <td>1</td>\n",
              "    </tr>\n",
              "  </tbody>\n",
              "</table>\n",
              "<p>23097 rows × 43 columns</p>\n",
              "</div>"
            ],
            "text/plain": [
              "       ID_Patient_Care_Situation  ...  Patient_mental_condition_Stable\n",
              "0                          22374  ...                                1\n",
              "1                          18164  ...                                1\n",
              "2                           6283  ...                                1\n",
              "3                           5339  ...                                1\n",
              "4                          33012  ...                                1\n",
              "...                          ...  ...                              ...\n",
              "23092                      15613  ...                                1\n",
              "23093                      15503  ...                                1\n",
              "23094                       2167  ...                                1\n",
              "23095                      31646  ...                                1\n",
              "23096                       3947  ...                                1\n",
              "\n",
              "[23097 rows x 43 columns]"
            ]
          },
          "metadata": {
            "tags": []
          },
          "execution_count": 57
        }
      ]
    },
    {
      "cell_type": "code",
      "metadata": {
        "colab": {
          "base_uri": "https://localhost:8080/"
        },
        "id": "KNlR_IZnBqOL",
        "outputId": "574ef7db-7c43-49d3-faa3-e2fd52d56fc6"
      },
      "source": [
        "data.info()"
      ],
      "execution_count": 58,
      "outputs": [
        {
          "output_type": "stream",
          "text": [
            "<class 'pandas.core.frame.DataFrame'>\n",
            "RangeIndex: 23097 entries, 0 to 23096\n",
            "Data columns (total 10 columns):\n",
            " #   Column                     Non-Null Count  Dtype  \n",
            "---  ------                     --------------  -----  \n",
            " 0   ID_Patient_Care_Situation  23097 non-null  int64  \n",
            " 1   Diagnosed_Condition        23097 non-null  int64  \n",
            " 2   Patient_ID                 23097 non-null  int64  \n",
            " 3   Treated_with_drugs         23097 non-null  object \n",
            " 4   Patient_Age                23097 non-null  int64  \n",
            " 5   Patient_Body_Mass_Index    23097 non-null  float64\n",
            " 6   Patient_Smoker             23097 non-null  object \n",
            " 7   Patient_Rural_Urban        23097 non-null  object \n",
            " 8   Patient_mental_condition   23097 non-null  object \n",
            " 9   Survived_1_year            23097 non-null  int64  \n",
            "dtypes: float64(1), int64(5), object(4)\n",
            "memory usage: 1.8+ MB\n"
          ],
          "name": "stdout"
        }
      ]
    },
    {
      "cell_type": "code",
      "metadata": {
        "colab": {
          "base_uri": "https://localhost:8080/"
        },
        "id": "jXa_UGvQD1MB",
        "outputId": "6efba64d-3dd1-42e2-f57b-55bdea1a11fa"
      },
      "source": [
        "x.info()"
      ],
      "execution_count": 59,
      "outputs": [
        {
          "output_type": "stream",
          "text": [
            "<class 'pandas.core.frame.DataFrame'>\n",
            "RangeIndex: 23097 entries, 0 to 23096\n",
            "Data columns (total 43 columns):\n",
            " #   Column                                   Non-Null Count  Dtype  \n",
            "---  ------                                   --------------  -----  \n",
            " 0   ID_Patient_Care_Situation                23097 non-null  int64  \n",
            " 1   Diagnosed_Condition                      23097 non-null  int64  \n",
            " 2   Patient_ID                               23097 non-null  int64  \n",
            " 3   Patient_Age                              23097 non-null  int64  \n",
            " 4   Patient_Body_Mass_Index                  23097 non-null  float64\n",
            " 5   Treated_with_drugs_DX1                   23097 non-null  uint8  \n",
            " 6   Treated_with_drugs_DX1 DX2               23097 non-null  uint8  \n",
            " 7   Treated_with_drugs_DX1 DX2 DX3           23097 non-null  uint8  \n",
            " 8   Treated_with_drugs_DX1 DX2 DX3 DX4       23097 non-null  uint8  \n",
            " 9   Treated_with_drugs_DX1 DX2 DX3 DX4 DX5   23097 non-null  uint8  \n",
            " 10  Treated_with_drugs_DX1 DX2 DX3 DX5       23097 non-null  uint8  \n",
            " 11  Treated_with_drugs_DX1 DX2 DX4           23097 non-null  uint8  \n",
            " 12  Treated_with_drugs_DX1 DX2 DX4 DX5       23097 non-null  uint8  \n",
            " 13  Treated_with_drugs_DX1 DX2 DX5           23097 non-null  uint8  \n",
            " 14  Treated_with_drugs_DX1 DX3               23097 non-null  uint8  \n",
            " 15  Treated_with_drugs_DX1 DX3 DX4           23097 non-null  uint8  \n",
            " 16  Treated_with_drugs_DX1 DX3 DX4 DX5       23097 non-null  uint8  \n",
            " 17  Treated_with_drugs_DX1 DX3 DX5           23097 non-null  uint8  \n",
            " 18  Treated_with_drugs_DX1 DX4               23097 non-null  uint8  \n",
            " 19  Treated_with_drugs_DX1 DX4 DX5           23097 non-null  uint8  \n",
            " 20  Treated_with_drugs_DX1 DX5               23097 non-null  uint8  \n",
            " 21  Treated_with_drugs_DX2                   23097 non-null  uint8  \n",
            " 22  Treated_with_drugs_DX2 DX3               23097 non-null  uint8  \n",
            " 23  Treated_with_drugs_DX2 DX3 DX4           23097 non-null  uint8  \n",
            " 24  Treated_with_drugs_DX2 DX3 DX4 DX5       23097 non-null  uint8  \n",
            " 25  Treated_with_drugs_DX2 DX3 DX5           23097 non-null  uint8  \n",
            " 26  Treated_with_drugs_DX2 DX4               23097 non-null  uint8  \n",
            " 27  Treated_with_drugs_DX2 DX4 DX5           23097 non-null  uint8  \n",
            " 28  Treated_with_drugs_DX2 DX5               23097 non-null  uint8  \n",
            " 29  Treated_with_drugs_DX3                   23097 non-null  uint8  \n",
            " 30  Treated_with_drugs_DX3 DX4               23097 non-null  uint8  \n",
            " 31  Treated_with_drugs_DX3 DX4 DX5           23097 non-null  uint8  \n",
            " 32  Treated_with_drugs_DX3 DX5               23097 non-null  uint8  \n",
            " 33  Treated_with_drugs_DX4                   23097 non-null  uint8  \n",
            " 34  Treated_with_drugs_DX4 DX5               23097 non-null  uint8  \n",
            " 35  Treated_with_drugs_DX5                   23097 non-null  uint8  \n",
            " 36  Treated_with_drugs_DX6                   23097 non-null  uint8  \n",
            " 37  Patient_Smoker_Cannot say                23097 non-null  uint8  \n",
            " 38  Patient_Smoker_NO                        23097 non-null  uint8  \n",
            " 39  Patient_Smoker_YES                       23097 non-null  uint8  \n",
            " 40  Patient_Rural_Urban_RURAL                23097 non-null  uint8  \n",
            " 41  Patient_Rural_Urban_URBAN                23097 non-null  uint8  \n",
            " 42  Patient_mental_condition_Stable          23097 non-null  uint8  \n",
            "dtypes: float64(1), int64(4), uint8(38)\n",
            "memory usage: 1.7 MB\n"
          ],
          "name": "stdout"
        }
      ]
    },
    {
      "cell_type": "code",
      "metadata": {
        "colab": {
          "base_uri": "https://localhost:8080/"
        },
        "id": "bqte8DL0_ASA",
        "outputId": "8455a78e-680f-48c0-c21b-b7e7a31c9b0b"
      },
      "source": [
        "y.value_counts()"
      ],
      "execution_count": 60,
      "outputs": [
        {
          "output_type": "execute_result",
          "data": {
            "text/plain": [
              "1    14603\n",
              "0     8494\n",
              "Name: Survived_1_year, dtype: int64"
            ]
          },
          "metadata": {
            "tags": []
          },
          "execution_count": 60
        }
      ]
    },
    {
      "cell_type": "code",
      "metadata": {
        "colab": {
          "base_uri": "https://localhost:8080/"
        },
        "id": "_WGz5w2hAoVd",
        "outputId": "21abed73-d592-4f38-d50e-65d2bca96acc"
      },
      "source": [
        "y"
      ],
      "execution_count": 61,
      "outputs": [
        {
          "output_type": "execute_result",
          "data": {
            "text/plain": [
              "0        0\n",
              "1        1\n",
              "2        0\n",
              "3        1\n",
              "4        1\n",
              "        ..\n",
              "23092    0\n",
              "23093    1\n",
              "23094    0\n",
              "23095    1\n",
              "23096    0\n",
              "Name: Survived_1_year, Length: 23097, dtype: int64"
            ]
          },
          "metadata": {
            "tags": []
          },
          "execution_count": 61
        }
      ]
    },
    {
      "cell_type": "code",
      "metadata": {
        "id": "hm_7_7Lj4pia"
      },
      "source": [
        "smk = SMOTETomek(random_state=20)\r\n",
        "X_res,Y_res = smk.fit_sample(x,y)"
      ],
      "execution_count": 62,
      "outputs": []
    },
    {
      "cell_type": "code",
      "metadata": {
        "id": "ZGs67BitGz3X"
      },
      "source": [
        "x_train,x_test,y_train,y_test = train_test_split(X_res,Y_res,test_size = 0.30,random_state = 42)"
      ],
      "execution_count": 63,
      "outputs": []
    },
    {
      "cell_type": "code",
      "metadata": {
        "id": "ATutAKbjEJhO"
      },
      "source": [
        "RFC = RandomForestClassifier(random_state=42,n_estimators=1000,max_depth=5)"
      ],
      "execution_count": 64,
      "outputs": []
    },
    {
      "cell_type": "code",
      "metadata": {
        "colab": {
          "base_uri": "https://localhost:8080/"
        },
        "id": "ypHzZurbE6s_",
        "outputId": "b63e923e-6398-4aeb-f74a-b1690ed82f4b"
      },
      "source": [
        "RFC.fit(x_train,y_train)"
      ],
      "execution_count": 65,
      "outputs": [
        {
          "output_type": "execute_result",
          "data": {
            "text/plain": [
              "RandomForestClassifier(bootstrap=True, ccp_alpha=0.0, class_weight=None,\n",
              "                       criterion='gini', max_depth=5, max_features='auto',\n",
              "                       max_leaf_nodes=None, max_samples=None,\n",
              "                       min_impurity_decrease=0.0, min_impurity_split=None,\n",
              "                       min_samples_leaf=1, min_samples_split=2,\n",
              "                       min_weight_fraction_leaf=0.0, n_estimators=1000,\n",
              "                       n_jobs=None, oob_score=False, random_state=42, verbose=0,\n",
              "                       warm_start=False)"
            ]
          },
          "metadata": {
            "tags": []
          },
          "execution_count": 65
        }
      ]
    },
    {
      "cell_type": "code",
      "metadata": {
        "colab": {
          "base_uri": "https://localhost:8080/"
        },
        "id": "_IGIrva-3Er_",
        "outputId": "eb448b99-ed0f-4c5c-c9e8-1413ddadfc97"
      },
      "source": [
        "y.isnull().sum().sum()"
      ],
      "execution_count": 66,
      "outputs": [
        {
          "output_type": "execute_result",
          "data": {
            "text/plain": [
              "0"
            ]
          },
          "metadata": {
            "tags": []
          },
          "execution_count": 66
        }
      ]
    },
    {
      "cell_type": "code",
      "metadata": {
        "id": "7-WkRLthHO-1"
      },
      "source": [
        "y_pred = RFC.predict(x_test)"
      ],
      "execution_count": 67,
      "outputs": []
    },
    {
      "cell_type": "code",
      "metadata": {
        "colab": {
          "base_uri": "https://localhost:8080/"
        },
        "id": "WdN5it4pHnPJ",
        "outputId": "e565ddb4-eb09-4729-d66d-0f3ec9f32933"
      },
      "source": [
        "accuracy_score(y_pred,y_test)"
      ],
      "execution_count": 68,
      "outputs": [
        {
          "output_type": "execute_result",
          "data": {
            "text/plain": [
              "0.7937673130193906"
            ]
          },
          "metadata": {
            "tags": []
          },
          "execution_count": 68
        }
      ]
    },
    {
      "cell_type": "code",
      "metadata": {
        "colab": {
          "base_uri": "https://localhost:8080/"
        },
        "id": "FiIuHCCDH7mq",
        "outputId": "d438a255-f014-4da0-e857-5e146c147a87"
      },
      "source": [
        "confusion_matrix(y_test,y_pred)"
      ],
      "execution_count": 69,
      "outputs": [
        {
          "output_type": "execute_result",
          "data": {
            "text/plain": [
              "array([[2789,  863],\n",
              "       [ 626, 2942]])"
            ]
          },
          "metadata": {
            "tags": []
          },
          "execution_count": 69
        }
      ]
    },
    {
      "cell_type": "code",
      "metadata": {
        "colab": {
          "base_uri": "https://localhost:8080/",
          "height": 69
        },
        "id": "G_VpYDUZIWxJ",
        "outputId": "aa0f51cc-2906-422c-e4a1-9f2ef230bea4"
      },
      "source": [
        "classification_report(y_test,y_pred)"
      ],
      "execution_count": 70,
      "outputs": [
        {
          "output_type": "execute_result",
          "data": {
            "application/vnd.google.colaboratory.intrinsic+json": {
              "type": "string"
            },
            "text/plain": [
              "'              precision    recall  f1-score   support\\n\\n           0       0.82      0.76      0.79      3652\\n           1       0.77      0.82      0.80      3568\\n\\n    accuracy                           0.79      7220\\n   macro avg       0.79      0.79      0.79      7220\\nweighted avg       0.80      0.79      0.79      7220\\n'"
            ]
          },
          "metadata": {
            "tags": []
          },
          "execution_count": 70
        }
      ]
    },
    {
      "cell_type": "code",
      "metadata": {
        "id": "eAipZuhOR3vB"
      },
      "source": [
        "rfc = RandomForestClassifier(random_state=42,n_estimators=1000,max_depth=5)"
      ],
      "execution_count": 71,
      "outputs": []
    },
    {
      "cell_type": "code",
      "metadata": {
        "id": "JzfSTY85N-Bx"
      },
      "source": [
        "feature = BorutaPy(rfc,n_estimators='auto',verbose=3,random_state=1)"
      ],
      "execution_count": 72,
      "outputs": []
    },
    {
      "cell_type": "code",
      "metadata": {
        "colab": {
          "base_uri": "https://localhost:8080/"
        },
        "id": "-tbuIVlmSWZZ",
        "outputId": "a8dd341b-c6af-4ca9-f370-5d69a162ec02"
      },
      "source": [
        "feature.fit(np.array(x_train),np.array(y_train))"
      ],
      "execution_count": 73,
      "outputs": [
        {
          "output_type": "stream",
          "text": [
            "Iteration: \t1 / 100\n",
            "Confirmed: \t0\n",
            "Tentative: \t43\n",
            "Rejected: \t0\n",
            "Iteration: \t2 / 100\n",
            "Confirmed: \t0\n",
            "Tentative: \t43\n",
            "Rejected: \t0\n",
            "Iteration: \t3 / 100\n",
            "Confirmed: \t0\n",
            "Tentative: \t43\n",
            "Rejected: \t0\n",
            "Iteration: \t4 / 100\n",
            "Confirmed: \t0\n",
            "Tentative: \t43\n",
            "Rejected: \t0\n",
            "Iteration: \t5 / 100\n",
            "Confirmed: \t0\n",
            "Tentative: \t43\n",
            "Rejected: \t0\n",
            "Iteration: \t6 / 100\n",
            "Confirmed: \t0\n",
            "Tentative: \t43\n",
            "Rejected: \t0\n",
            "Iteration: \t7 / 100\n",
            "Confirmed: \t0\n",
            "Tentative: \t43\n",
            "Rejected: \t0\n",
            "Iteration: \t8 / 100\n",
            "Confirmed: \t17\n",
            "Tentative: \t5\n",
            "Rejected: \t21\n",
            "Iteration: \t9 / 100\n",
            "Confirmed: \t17\n",
            "Tentative: \t5\n",
            "Rejected: \t21\n",
            "Iteration: \t10 / 100\n",
            "Confirmed: \t17\n",
            "Tentative: \t5\n",
            "Rejected: \t21\n",
            "Iteration: \t11 / 100\n",
            "Confirmed: \t17\n",
            "Tentative: \t5\n",
            "Rejected: \t21\n",
            "Iteration: \t12 / 100\n",
            "Confirmed: \t17\n",
            "Tentative: \t5\n",
            "Rejected: \t21\n",
            "Iteration: \t13 / 100\n",
            "Confirmed: \t17\n",
            "Tentative: \t5\n",
            "Rejected: \t21\n",
            "Iteration: \t14 / 100\n",
            "Confirmed: \t17\n",
            "Tentative: \t5\n",
            "Rejected: \t21\n",
            "Iteration: \t15 / 100\n",
            "Confirmed: \t17\n",
            "Tentative: \t5\n",
            "Rejected: \t21\n",
            "Iteration: \t16 / 100\n",
            "Confirmed: \t17\n",
            "Tentative: \t4\n",
            "Rejected: \t22\n",
            "Iteration: \t17 / 100\n",
            "Confirmed: \t17\n",
            "Tentative: \t4\n",
            "Rejected: \t22\n",
            "Iteration: \t18 / 100\n",
            "Confirmed: \t17\n",
            "Tentative: \t4\n",
            "Rejected: \t22\n",
            "Iteration: \t19 / 100\n",
            "Confirmed: \t17\n",
            "Tentative: \t3\n",
            "Rejected: \t23\n",
            "Iteration: \t20 / 100\n",
            "Confirmed: \t17\n",
            "Tentative: \t3\n",
            "Rejected: \t23\n",
            "Iteration: \t21 / 100\n",
            "Confirmed: \t17\n",
            "Tentative: \t3\n",
            "Rejected: \t23\n",
            "Iteration: \t22 / 100\n",
            "Confirmed: \t17\n",
            "Tentative: \t3\n",
            "Rejected: \t23\n",
            "Iteration: \t23 / 100\n",
            "Confirmed: \t17\n",
            "Tentative: \t3\n",
            "Rejected: \t23\n",
            "Iteration: \t24 / 100\n",
            "Confirmed: \t17\n",
            "Tentative: \t3\n",
            "Rejected: \t23\n",
            "Iteration: \t25 / 100\n",
            "Confirmed: \t17\n",
            "Tentative: \t3\n",
            "Rejected: \t23\n",
            "Iteration: \t26 / 100\n",
            "Confirmed: \t18\n",
            "Tentative: \t2\n",
            "Rejected: \t23\n",
            "Iteration: \t27 / 100\n",
            "Confirmed: \t18\n",
            "Tentative: \t2\n",
            "Rejected: \t23\n",
            "Iteration: \t28 / 100\n",
            "Confirmed: \t18\n",
            "Tentative: \t2\n",
            "Rejected: \t23\n",
            "Iteration: \t29 / 100\n",
            "Confirmed: \t18\n",
            "Tentative: \t2\n",
            "Rejected: \t23\n",
            "Iteration: \t30 / 100\n",
            "Confirmed: \t18\n",
            "Tentative: \t2\n",
            "Rejected: \t23\n",
            "Iteration: \t31 / 100\n",
            "Confirmed: \t18\n",
            "Tentative: \t2\n",
            "Rejected: \t23\n",
            "Iteration: \t32 / 100\n",
            "Confirmed: \t18\n",
            "Tentative: \t1\n",
            "Rejected: \t24\n",
            "Iteration: \t33 / 100\n",
            "Confirmed: \t18\n",
            "Tentative: \t1\n",
            "Rejected: \t24\n",
            "Iteration: \t34 / 100\n",
            "Confirmed: \t18\n",
            "Tentative: \t1\n",
            "Rejected: \t24\n",
            "Iteration: \t35 / 100\n",
            "Confirmed: \t18\n",
            "Tentative: \t1\n",
            "Rejected: \t24\n",
            "Iteration: \t36 / 100\n",
            "Confirmed: \t18\n",
            "Tentative: \t1\n",
            "Rejected: \t24\n",
            "Iteration: \t37 / 100\n",
            "Confirmed: \t18\n",
            "Tentative: \t1\n",
            "Rejected: \t24\n",
            "Iteration: \t38 / 100\n",
            "Confirmed: \t18\n",
            "Tentative: \t1\n",
            "Rejected: \t24\n",
            "Iteration: \t39 / 100\n",
            "Confirmed: \t18\n",
            "Tentative: \t1\n",
            "Rejected: \t24\n",
            "Iteration: \t40 / 100\n",
            "Confirmed: \t18\n",
            "Tentative: \t1\n",
            "Rejected: \t24\n",
            "Iteration: \t41 / 100\n",
            "Confirmed: \t18\n",
            "Tentative: \t1\n",
            "Rejected: \t24\n",
            "Iteration: \t42 / 100\n",
            "Confirmed: \t18\n",
            "Tentative: \t1\n",
            "Rejected: \t24\n",
            "Iteration: \t43 / 100\n",
            "Confirmed: \t18\n",
            "Tentative: \t1\n",
            "Rejected: \t24\n",
            "Iteration: \t44 / 100\n",
            "Confirmed: \t18\n",
            "Tentative: \t1\n",
            "Rejected: \t24\n",
            "Iteration: \t45 / 100\n",
            "Confirmed: \t18\n",
            "Tentative: \t1\n",
            "Rejected: \t24\n",
            "Iteration: \t46 / 100\n",
            "Confirmed: \t18\n",
            "Tentative: \t1\n",
            "Rejected: \t24\n",
            "Iteration: \t47 / 100\n",
            "Confirmed: \t18\n",
            "Tentative: \t1\n",
            "Rejected: \t24\n",
            "Iteration: \t48 / 100\n",
            "Confirmed: \t18\n",
            "Tentative: \t1\n",
            "Rejected: \t24\n",
            "Iteration: \t49 / 100\n",
            "Confirmed: \t18\n",
            "Tentative: \t1\n",
            "Rejected: \t24\n",
            "Iteration: \t50 / 100\n",
            "Confirmed: \t18\n",
            "Tentative: \t1\n",
            "Rejected: \t24\n",
            "Iteration: \t51 / 100\n",
            "Confirmed: \t18\n",
            "Tentative: \t1\n",
            "Rejected: \t24\n",
            "Iteration: \t52 / 100\n",
            "Confirmed: \t18\n",
            "Tentative: \t1\n",
            "Rejected: \t24\n",
            "Iteration: \t53 / 100\n",
            "Confirmed: \t18\n",
            "Tentative: \t1\n",
            "Rejected: \t24\n",
            "Iteration: \t54 / 100\n",
            "Confirmed: \t18\n",
            "Tentative: \t1\n",
            "Rejected: \t24\n",
            "Iteration: \t55 / 100\n",
            "Confirmed: \t18\n",
            "Tentative: \t1\n",
            "Rejected: \t24\n",
            "Iteration: \t56 / 100\n",
            "Confirmed: \t18\n",
            "Tentative: \t1\n",
            "Rejected: \t24\n",
            "Iteration: \t57 / 100\n",
            "Confirmed: \t18\n",
            "Tentative: \t1\n",
            "Rejected: \t24\n",
            "Iteration: \t58 / 100\n",
            "Confirmed: \t18\n",
            "Tentative: \t1\n",
            "Rejected: \t24\n",
            "Iteration: \t59 / 100\n",
            "Confirmed: \t18\n",
            "Tentative: \t1\n",
            "Rejected: \t24\n",
            "Iteration: \t60 / 100\n",
            "Confirmed: \t18\n",
            "Tentative: \t1\n",
            "Rejected: \t24\n",
            "Iteration: \t61 / 100\n",
            "Confirmed: \t18\n",
            "Tentative: \t1\n",
            "Rejected: \t24\n",
            "Iteration: \t62 / 100\n",
            "Confirmed: \t18\n",
            "Tentative: \t1\n",
            "Rejected: \t24\n",
            "Iteration: \t63 / 100\n",
            "Confirmed: \t18\n",
            "Tentative: \t1\n",
            "Rejected: \t24\n",
            "Iteration: \t64 / 100\n",
            "Confirmed: \t18\n",
            "Tentative: \t1\n",
            "Rejected: \t24\n",
            "Iteration: \t65 / 100\n",
            "Confirmed: \t18\n",
            "Tentative: \t1\n",
            "Rejected: \t24\n",
            "Iteration: \t66 / 100\n",
            "Confirmed: \t18\n",
            "Tentative: \t1\n",
            "Rejected: \t24\n",
            "Iteration: \t67 / 100\n",
            "Confirmed: \t18\n",
            "Tentative: \t1\n",
            "Rejected: \t24\n",
            "Iteration: \t68 / 100\n",
            "Confirmed: \t18\n",
            "Tentative: \t1\n",
            "Rejected: \t24\n",
            "Iteration: \t69 / 100\n",
            "Confirmed: \t18\n",
            "Tentative: \t1\n",
            "Rejected: \t24\n",
            "Iteration: \t70 / 100\n",
            "Confirmed: \t18\n",
            "Tentative: \t1\n",
            "Rejected: \t24\n",
            "Iteration: \t71 / 100\n",
            "Confirmed: \t18\n",
            "Tentative: \t1\n",
            "Rejected: \t24\n",
            "Iteration: \t72 / 100\n",
            "Confirmed: \t18\n",
            "Tentative: \t1\n",
            "Rejected: \t24\n",
            "Iteration: \t73 / 100\n",
            "Confirmed: \t18\n",
            "Tentative: \t1\n",
            "Rejected: \t24\n",
            "Iteration: \t74 / 100\n",
            "Confirmed: \t18\n",
            "Tentative: \t1\n",
            "Rejected: \t24\n",
            "Iteration: \t75 / 100\n",
            "Confirmed: \t18\n",
            "Tentative: \t1\n",
            "Rejected: \t24\n",
            "Iteration: \t76 / 100\n",
            "Confirmed: \t18\n",
            "Tentative: \t1\n",
            "Rejected: \t24\n",
            "Iteration: \t77 / 100\n",
            "Confirmed: \t18\n",
            "Tentative: \t1\n",
            "Rejected: \t24\n",
            "Iteration: \t78 / 100\n",
            "Confirmed: \t18\n",
            "Tentative: \t1\n",
            "Rejected: \t24\n",
            "Iteration: \t79 / 100\n",
            "Confirmed: \t18\n",
            "Tentative: \t1\n",
            "Rejected: \t24\n",
            "Iteration: \t80 / 100\n",
            "Confirmed: \t18\n",
            "Tentative: \t1\n",
            "Rejected: \t24\n",
            "Iteration: \t81 / 100\n",
            "Confirmed: \t18\n",
            "Tentative: \t1\n",
            "Rejected: \t24\n",
            "Iteration: \t82 / 100\n",
            "Confirmed: \t18\n",
            "Tentative: \t1\n",
            "Rejected: \t24\n",
            "Iteration: \t83 / 100\n",
            "Confirmed: \t18\n",
            "Tentative: \t1\n",
            "Rejected: \t24\n",
            "Iteration: \t84 / 100\n",
            "Confirmed: \t18\n",
            "Tentative: \t1\n",
            "Rejected: \t24\n",
            "Iteration: \t85 / 100\n",
            "Confirmed: \t18\n",
            "Tentative: \t1\n",
            "Rejected: \t24\n",
            "Iteration: \t86 / 100\n",
            "Confirmed: \t18\n",
            "Tentative: \t1\n",
            "Rejected: \t24\n",
            "Iteration: \t87 / 100\n",
            "Confirmed: \t18\n",
            "Tentative: \t1\n",
            "Rejected: \t24\n",
            "Iteration: \t88 / 100\n",
            "Confirmed: \t18\n",
            "Tentative: \t1\n",
            "Rejected: \t24\n",
            "Iteration: \t89 / 100\n",
            "Confirmed: \t18\n",
            "Tentative: \t1\n",
            "Rejected: \t24\n",
            "Iteration: \t90 / 100\n",
            "Confirmed: \t18\n",
            "Tentative: \t1\n",
            "Rejected: \t24\n",
            "Iteration: \t91 / 100\n",
            "Confirmed: \t18\n",
            "Tentative: \t1\n",
            "Rejected: \t24\n",
            "Iteration: \t92 / 100\n",
            "Confirmed: \t18\n",
            "Tentative: \t1\n",
            "Rejected: \t24\n",
            "Iteration: \t93 / 100\n",
            "Confirmed: \t18\n",
            "Tentative: \t1\n",
            "Rejected: \t24\n",
            "Iteration: \t94 / 100\n",
            "Confirmed: \t18\n",
            "Tentative: \t1\n",
            "Rejected: \t24\n",
            "Iteration: \t95 / 100\n",
            "Confirmed: \t18\n",
            "Tentative: \t1\n",
            "Rejected: \t24\n",
            "Iteration: \t96 / 100\n",
            "Confirmed: \t18\n",
            "Tentative: \t1\n",
            "Rejected: \t24\n",
            "Iteration: \t97 / 100\n",
            "Confirmed: \t18\n",
            "Tentative: \t1\n",
            "Rejected: \t24\n",
            "Iteration: \t98 / 100\n",
            "Confirmed: \t18\n",
            "Tentative: \t1\n",
            "Rejected: \t24\n",
            "Iteration: \t99 / 100\n",
            "Confirmed: \t18\n",
            "Tentative: \t1\n",
            "Rejected: \t24\n",
            "\n",
            "\n",
            "BorutaPy finished running.\n",
            "\n",
            "Iteration: \t100 / 100\n",
            "Confirmed: \t18\n",
            "Tentative: \t0\n",
            "Rejected: \t24\n"
          ],
          "name": "stdout"
        },
        {
          "output_type": "execute_result",
          "data": {
            "text/plain": [
              "BorutaPy(alpha=0.05,\n",
              "         estimator=RandomForestClassifier(bootstrap=True, ccp_alpha=0.0,\n",
              "                                          class_weight=None, criterion='gini',\n",
              "                                          max_depth=5, max_features='auto',\n",
              "                                          max_leaf_nodes=None, max_samples=None,\n",
              "                                          min_impurity_decrease=0.0,\n",
              "                                          min_impurity_split=None,\n",
              "                                          min_samples_leaf=1,\n",
              "                                          min_samples_split=2,\n",
              "                                          min_weight_fraction_leaf=0.0,\n",
              "                                          n_estimators=123, n_jobs=None,\n",
              "                                          oob_score=False,\n",
              "                                          random_state=RandomState(MT19937) at 0x7FB888874BA0,\n",
              "                                          verbose=0, warm_start=False),\n",
              "         max_iter=100, n_estimators='auto', perc=100,\n",
              "         random_state=RandomState(MT19937) at 0x7FB888874BA0, two_step=True,\n",
              "         verbose=3)"
            ]
          },
          "metadata": {
            "tags": []
          },
          "execution_count": 73
        }
      ]
    },
    {
      "cell_type": "code",
      "metadata": {
        "colab": {
          "base_uri": "https://localhost:8080/"
        },
        "id": "20ZOphhuTaP6",
        "outputId": "b1d1ebbe-f2ea-4b56-eee1-866587879297"
      },
      "source": [
        "feature.support_"
      ],
      "execution_count": 74,
      "outputs": [
        {
          "output_type": "execute_result",
          "data": {
            "text/plain": [
              "array([False,  True,  True,  True,  True,  True, False, False, False,\n",
              "       False, False, False, False, False,  True, False, False, False,\n",
              "       False, False,  True,  True, False, False, False, False, False,\n",
              "       False, False,  True, False, False,  True,  True,  True,  True,\n",
              "        True, False,  True,  True,  True,  True, False])"
            ]
          },
          "metadata": {
            "tags": []
          },
          "execution_count": 74
        }
      ]
    },
    {
      "cell_type": "code",
      "metadata": {
        "colab": {
          "base_uri": "https://localhost:8080/"
        },
        "id": "EnnGM6dMT6nx",
        "outputId": "7e5385a4-8290-4a3f-d7a5-eed105b81d04"
      },
      "source": [
        "feature.ranking_"
      ],
      "execution_count": 75,
      "outputs": [
        {
          "output_type": "execute_result",
          "data": {
            "text/plain": [
              "array([ 2,  1,  1,  1,  1,  1,  6, 17, 22, 25, 25, 18, 22, 14,  1, 13, 20,\n",
              "       10,  4, 10,  1,  1,  8, 19, 21, 16,  6, 10,  3,  1,  5, 12,  1,  1,\n",
              "        1,  1,  1, 15,  1,  1,  1,  1, 25])"
            ]
          },
          "metadata": {
            "tags": []
          },
          "execution_count": 75
        }
      ]
    },
    {
      "cell_type": "code",
      "metadata": {
        "colab": {
          "base_uri": "https://localhost:8080/"
        },
        "id": "pjjgrrLtUCO6",
        "outputId": "df4e34c0-c267-403b-dbe5-d80f630a6b5b"
      },
      "source": [
        "feature.n_features_"
      ],
      "execution_count": 76,
      "outputs": [
        {
          "output_type": "execute_result",
          "data": {
            "text/plain": [
              "18"
            ]
          },
          "metadata": {
            "tags": []
          },
          "execution_count": 76
        }
      ]
    },
    {
      "cell_type": "code",
      "metadata": {
        "colab": {
          "base_uri": "https://localhost:8080/",
          "height": 1000
        },
        "id": "pPPOlBORUfXD",
        "outputId": "98ab7d31-8767-4e73-9b95-fb6991d7a8cd"
      },
      "source": [
        "selected_features  = pd.DataFrame({\"Feature\":list(x.columns),\"Ranking\":feature.ranking_})\r\n",
        "selected_features.sort_values(by=\"Ranking\")"
      ],
      "execution_count": 80,
      "outputs": [
        {
          "output_type": "execute_result",
          "data": {
            "text/html": [
              "<div>\n",
              "<style scoped>\n",
              "    .dataframe tbody tr th:only-of-type {\n",
              "        vertical-align: middle;\n",
              "    }\n",
              "\n",
              "    .dataframe tbody tr th {\n",
              "        vertical-align: top;\n",
              "    }\n",
              "\n",
              "    .dataframe thead th {\n",
              "        text-align: right;\n",
              "    }\n",
              "</style>\n",
              "<table border=\"1\" class=\"dataframe\">\n",
              "  <thead>\n",
              "    <tr style=\"text-align: right;\">\n",
              "      <th></th>\n",
              "      <th>Feature</th>\n",
              "      <th>Ranking</th>\n",
              "    </tr>\n",
              "  </thead>\n",
              "  <tbody>\n",
              "    <tr>\n",
              "      <th>21</th>\n",
              "      <td>Treated_with_drugs_DX2</td>\n",
              "      <td>1</td>\n",
              "    </tr>\n",
              "    <tr>\n",
              "      <th>29</th>\n",
              "      <td>Treated_with_drugs_DX3</td>\n",
              "      <td>1</td>\n",
              "    </tr>\n",
              "    <tr>\n",
              "      <th>14</th>\n",
              "      <td>Treated_with_drugs_DX1 DX3</td>\n",
              "      <td>1</td>\n",
              "    </tr>\n",
              "    <tr>\n",
              "      <th>32</th>\n",
              "      <td>Treated_with_drugs_DX3 DX5</td>\n",
              "      <td>1</td>\n",
              "    </tr>\n",
              "    <tr>\n",
              "      <th>33</th>\n",
              "      <td>Treated_with_drugs_DX4</td>\n",
              "      <td>1</td>\n",
              "    </tr>\n",
              "    <tr>\n",
              "      <th>34</th>\n",
              "      <td>Treated_with_drugs_DX4 DX5</td>\n",
              "      <td>1</td>\n",
              "    </tr>\n",
              "    <tr>\n",
              "      <th>35</th>\n",
              "      <td>Treated_with_drugs_DX5</td>\n",
              "      <td>1</td>\n",
              "    </tr>\n",
              "    <tr>\n",
              "      <th>36</th>\n",
              "      <td>Treated_with_drugs_DX6</td>\n",
              "      <td>1</td>\n",
              "    </tr>\n",
              "    <tr>\n",
              "      <th>38</th>\n",
              "      <td>Patient_Smoker_NO</td>\n",
              "      <td>1</td>\n",
              "    </tr>\n",
              "    <tr>\n",
              "      <th>39</th>\n",
              "      <td>Patient_Smoker_YES</td>\n",
              "      <td>1</td>\n",
              "    </tr>\n",
              "    <tr>\n",
              "      <th>40</th>\n",
              "      <td>Patient_Rural_Urban_RURAL</td>\n",
              "      <td>1</td>\n",
              "    </tr>\n",
              "    <tr>\n",
              "      <th>5</th>\n",
              "      <td>Treated_with_drugs_DX1</td>\n",
              "      <td>1</td>\n",
              "    </tr>\n",
              "    <tr>\n",
              "      <th>4</th>\n",
              "      <td>Patient_Body_Mass_Index</td>\n",
              "      <td>1</td>\n",
              "    </tr>\n",
              "    <tr>\n",
              "      <th>3</th>\n",
              "      <td>Patient_Age</td>\n",
              "      <td>1</td>\n",
              "    </tr>\n",
              "    <tr>\n",
              "      <th>2</th>\n",
              "      <td>Patient_ID</td>\n",
              "      <td>1</td>\n",
              "    </tr>\n",
              "    <tr>\n",
              "      <th>1</th>\n",
              "      <td>Diagnosed_Condition</td>\n",
              "      <td>1</td>\n",
              "    </tr>\n",
              "    <tr>\n",
              "      <th>41</th>\n",
              "      <td>Patient_Rural_Urban_URBAN</td>\n",
              "      <td>1</td>\n",
              "    </tr>\n",
              "    <tr>\n",
              "      <th>20</th>\n",
              "      <td>Treated_with_drugs_DX1 DX5</td>\n",
              "      <td>1</td>\n",
              "    </tr>\n",
              "    <tr>\n",
              "      <th>0</th>\n",
              "      <td>ID_Patient_Care_Situation</td>\n",
              "      <td>2</td>\n",
              "    </tr>\n",
              "    <tr>\n",
              "      <th>28</th>\n",
              "      <td>Treated_with_drugs_DX2 DX5</td>\n",
              "      <td>3</td>\n",
              "    </tr>\n",
              "    <tr>\n",
              "      <th>18</th>\n",
              "      <td>Treated_with_drugs_DX1 DX4</td>\n",
              "      <td>4</td>\n",
              "    </tr>\n",
              "    <tr>\n",
              "      <th>30</th>\n",
              "      <td>Treated_with_drugs_DX3 DX4</td>\n",
              "      <td>5</td>\n",
              "    </tr>\n",
              "    <tr>\n",
              "      <th>6</th>\n",
              "      <td>Treated_with_drugs_DX1 DX2</td>\n",
              "      <td>6</td>\n",
              "    </tr>\n",
              "    <tr>\n",
              "      <th>26</th>\n",
              "      <td>Treated_with_drugs_DX2 DX4</td>\n",
              "      <td>6</td>\n",
              "    </tr>\n",
              "    <tr>\n",
              "      <th>22</th>\n",
              "      <td>Treated_with_drugs_DX2 DX3</td>\n",
              "      <td>8</td>\n",
              "    </tr>\n",
              "    <tr>\n",
              "      <th>27</th>\n",
              "      <td>Treated_with_drugs_DX2 DX4 DX5</td>\n",
              "      <td>10</td>\n",
              "    </tr>\n",
              "    <tr>\n",
              "      <th>19</th>\n",
              "      <td>Treated_with_drugs_DX1 DX4 DX5</td>\n",
              "      <td>10</td>\n",
              "    </tr>\n",
              "    <tr>\n",
              "      <th>17</th>\n",
              "      <td>Treated_with_drugs_DX1 DX3 DX5</td>\n",
              "      <td>10</td>\n",
              "    </tr>\n",
              "    <tr>\n",
              "      <th>31</th>\n",
              "      <td>Treated_with_drugs_DX3 DX4 DX5</td>\n",
              "      <td>12</td>\n",
              "    </tr>\n",
              "    <tr>\n",
              "      <th>15</th>\n",
              "      <td>Treated_with_drugs_DX1 DX3 DX4</td>\n",
              "      <td>13</td>\n",
              "    </tr>\n",
              "    <tr>\n",
              "      <th>13</th>\n",
              "      <td>Treated_with_drugs_DX1 DX2 DX5</td>\n",
              "      <td>14</td>\n",
              "    </tr>\n",
              "    <tr>\n",
              "      <th>37</th>\n",
              "      <td>Patient_Smoker_Cannot say</td>\n",
              "      <td>15</td>\n",
              "    </tr>\n",
              "    <tr>\n",
              "      <th>25</th>\n",
              "      <td>Treated_with_drugs_DX2 DX3 DX5</td>\n",
              "      <td>16</td>\n",
              "    </tr>\n",
              "    <tr>\n",
              "      <th>7</th>\n",
              "      <td>Treated_with_drugs_DX1 DX2 DX3</td>\n",
              "      <td>17</td>\n",
              "    </tr>\n",
              "    <tr>\n",
              "      <th>11</th>\n",
              "      <td>Treated_with_drugs_DX1 DX2 DX4</td>\n",
              "      <td>18</td>\n",
              "    </tr>\n",
              "    <tr>\n",
              "      <th>23</th>\n",
              "      <td>Treated_with_drugs_DX2 DX3 DX4</td>\n",
              "      <td>19</td>\n",
              "    </tr>\n",
              "    <tr>\n",
              "      <th>16</th>\n",
              "      <td>Treated_with_drugs_DX1 DX3 DX4 DX5</td>\n",
              "      <td>20</td>\n",
              "    </tr>\n",
              "    <tr>\n",
              "      <th>24</th>\n",
              "      <td>Treated_with_drugs_DX2 DX3 DX4 DX5</td>\n",
              "      <td>21</td>\n",
              "    </tr>\n",
              "    <tr>\n",
              "      <th>12</th>\n",
              "      <td>Treated_with_drugs_DX1 DX2 DX4 DX5</td>\n",
              "      <td>22</td>\n",
              "    </tr>\n",
              "    <tr>\n",
              "      <th>8</th>\n",
              "      <td>Treated_with_drugs_DX1 DX2 DX3 DX4</td>\n",
              "      <td>22</td>\n",
              "    </tr>\n",
              "    <tr>\n",
              "      <th>10</th>\n",
              "      <td>Treated_with_drugs_DX1 DX2 DX3 DX5</td>\n",
              "      <td>25</td>\n",
              "    </tr>\n",
              "    <tr>\n",
              "      <th>9</th>\n",
              "      <td>Treated_with_drugs_DX1 DX2 DX3 DX4 DX5</td>\n",
              "      <td>25</td>\n",
              "    </tr>\n",
              "    <tr>\n",
              "      <th>42</th>\n",
              "      <td>Patient_mental_condition_Stable</td>\n",
              "      <td>25</td>\n",
              "    </tr>\n",
              "  </tbody>\n",
              "</table>\n",
              "</div>"
            ],
            "text/plain": [
              "                                    Feature  Ranking\n",
              "21                  Treated_with_drugs_DX2         1\n",
              "29                  Treated_with_drugs_DX3         1\n",
              "14              Treated_with_drugs_DX1 DX3         1\n",
              "32              Treated_with_drugs_DX3 DX5         1\n",
              "33                  Treated_with_drugs_DX4         1\n",
              "34              Treated_with_drugs_DX4 DX5         1\n",
              "35                  Treated_with_drugs_DX5         1\n",
              "36                   Treated_with_drugs_DX6        1\n",
              "38                        Patient_Smoker_NO        1\n",
              "39                       Patient_Smoker_YES        1\n",
              "40                Patient_Rural_Urban_RURAL        1\n",
              "5                   Treated_with_drugs_DX1         1\n",
              "4                   Patient_Body_Mass_Index        1\n",
              "3                               Patient_Age        1\n",
              "2                                Patient_ID        1\n",
              "1                       Diagnosed_Condition        1\n",
              "41                Patient_Rural_Urban_URBAN        1\n",
              "20              Treated_with_drugs_DX1 DX5         1\n",
              "0                 ID_Patient_Care_Situation        2\n",
              "28              Treated_with_drugs_DX2 DX5         3\n",
              "18              Treated_with_drugs_DX1 DX4         4\n",
              "30              Treated_with_drugs_DX3 DX4         5\n",
              "6               Treated_with_drugs_DX1 DX2         6\n",
              "26              Treated_with_drugs_DX2 DX4         6\n",
              "22              Treated_with_drugs_DX2 DX3         8\n",
              "27          Treated_with_drugs_DX2 DX4 DX5        10\n",
              "19          Treated_with_drugs_DX1 DX4 DX5        10\n",
              "17          Treated_with_drugs_DX1 DX3 DX5        10\n",
              "31          Treated_with_drugs_DX3 DX4 DX5        12\n",
              "15          Treated_with_drugs_DX1 DX3 DX4        13\n",
              "13          Treated_with_drugs_DX1 DX2 DX5        14\n",
              "37                Patient_Smoker_Cannot say       15\n",
              "25          Treated_with_drugs_DX2 DX3 DX5        16\n",
              "7           Treated_with_drugs_DX1 DX2 DX3        17\n",
              "11          Treated_with_drugs_DX1 DX2 DX4        18\n",
              "23          Treated_with_drugs_DX2 DX3 DX4        19\n",
              "16      Treated_with_drugs_DX1 DX3 DX4 DX5        20\n",
              "24      Treated_with_drugs_DX2 DX3 DX4 DX5        21\n",
              "12      Treated_with_drugs_DX1 DX2 DX4 DX5        22\n",
              "8       Treated_with_drugs_DX1 DX2 DX3 DX4        22\n",
              "10      Treated_with_drugs_DX1 DX2 DX3 DX5        25\n",
              "9   Treated_with_drugs_DX1 DX2 DX3 DX4 DX5        25\n",
              "42          Patient_mental_condition_Stable       25"
            ]
          },
          "metadata": {
            "tags": []
          },
          "execution_count": 80
        }
      ]
    },
    {
      "cell_type": "code",
      "metadata": {
        "colab": {
          "base_uri": "https://localhost:8080/"
        },
        "id": "y4bjjGJAVoKP",
        "outputId": "5ea82c12-3376-4a4b-e25e-b65624dc2e7f"
      },
      "source": [
        "len(selected_features)"
      ],
      "execution_count": 81,
      "outputs": [
        {
          "output_type": "execute_result",
          "data": {
            "text/plain": [
              "43"
            ]
          },
          "metadata": {
            "tags": []
          },
          "execution_count": 81
        }
      ]
    },
    {
      "cell_type": "code",
      "metadata": {
        "id": "XohcnfKpWGfa"
      },
      "source": [
        "x_importtrain = feature.transform(np.array(x_train))"
      ],
      "execution_count": 82,
      "outputs": []
    },
    {
      "cell_type": "code",
      "metadata": {
        "id": "yQdteHVEy-3R"
      },
      "source": [
        "x_importtest =  feature.transform(np.array(x_test))"
      ],
      "execution_count": 83,
      "outputs": []
    },
    {
      "cell_type": "code",
      "metadata": {
        "id": "9w-agM4-2PZM"
      },
      "source": [
        "random_forest_clf = RandomForestClassifier(random_state=11,n_estimators=1000,n_jobs=-1)"
      ],
      "execution_count": 84,
      "outputs": []
    },
    {
      "cell_type": "code",
      "metadata": {
        "colab": {
          "base_uri": "https://localhost:8080/"
        },
        "id": "P9Wmq6yA2dAv",
        "outputId": "5e045b8c-2dda-4919-a2c3-eac17885f475"
      },
      "source": [
        "random_forest_clf.fit(x_importtrain,y_train)"
      ],
      "execution_count": 85,
      "outputs": [
        {
          "output_type": "execute_result",
          "data": {
            "text/plain": [
              "RandomForestClassifier(bootstrap=True, ccp_alpha=0.0, class_weight=None,\n",
              "                       criterion='gini', max_depth=None, max_features='auto',\n",
              "                       max_leaf_nodes=None, max_samples=None,\n",
              "                       min_impurity_decrease=0.0, min_impurity_split=None,\n",
              "                       min_samples_leaf=1, min_samples_split=2,\n",
              "                       min_weight_fraction_leaf=0.0, n_estimators=1000,\n",
              "                       n_jobs=-1, oob_score=False, random_state=11, verbose=0,\n",
              "                       warm_start=False)"
            ]
          },
          "metadata": {
            "tags": []
          },
          "execution_count": 85
        }
      ]
    },
    {
      "cell_type": "code",
      "metadata": {
        "id": "Pkw1lfUCwrLE"
      },
      "source": [
        "y_pred_new = random_forest_clf.predict(x_importtest)"
      ],
      "execution_count": 89,
      "outputs": []
    },
    {
      "cell_type": "code",
      "metadata": {
        "colab": {
          "base_uri": "https://localhost:8080/"
        },
        "id": "-Kq7eHPpw2J1",
        "outputId": "c468e519-041f-4681-93bb-a1de9206498f"
      },
      "source": [
        "accuracy_score(y_test,y_pred_new)"
      ],
      "execution_count": 90,
      "outputs": [
        {
          "output_type": "execute_result",
          "data": {
            "text/plain": [
              "0.8225761772853185"
            ]
          },
          "metadata": {
            "tags": []
          },
          "execution_count": 90
        }
      ]
    },
    {
      "cell_type": "code",
      "metadata": {
        "colab": {
          "base_uri": "https://localhost:8080/",
          "height": 69
        },
        "id": "i2AfDUqnw6pk",
        "outputId": "e71b642c-8411-4ae3-8c3e-35d2e4014443"
      },
      "source": [
        "classification_report(y_test,y_pred_new)"
      ],
      "execution_count": 91,
      "outputs": [
        {
          "output_type": "execute_result",
          "data": {
            "application/vnd.google.colaboratory.intrinsic+json": {
              "type": "string"
            },
            "text/plain": [
              "'              precision    recall  f1-score   support\\n\\n           0       0.85      0.79      0.82      3652\\n           1       0.80      0.85      0.83      3568\\n\\n    accuracy                           0.82      7220\\n   macro avg       0.82      0.82      0.82      7220\\nweighted avg       0.82      0.82      0.82      7220\\n'"
            ]
          },
          "metadata": {
            "tags": []
          },
          "execution_count": 91
        }
      ]
    },
    {
      "cell_type": "code",
      "metadata": {
        "colab": {
          "base_uri": "https://localhost:8080/"
        },
        "id": "srCKgr20wZUW",
        "outputId": "5b3f3afa-a9d3-4daa-8d3e-39144212911e"
      },
      "source": [
        "f1_score(y_test,random_forest_clf.predict(x_importtest))"
      ],
      "execution_count": 88,
      "outputs": [
        {
          "output_type": "execute_result",
          "data": {
            "text/plain": [
              "0.8262579682625797"
            ]
          },
          "metadata": {
            "tags": []
          },
          "execution_count": 88
        }
      ]
    },
    {
      "cell_type": "code",
      "metadata": {
        "colab": {
          "base_uri": "https://localhost:8080/",
          "height": 419
        },
        "id": "_z4yLD7GyTJQ",
        "outputId": "e979fd9f-f08b-4e23-db7f-e31cb066d882"
      },
      "source": [
        "Result = pd.DataFrame({'Actual':y_test,\"predicted\":y_pred_new})\r\n",
        "Result"
      ],
      "execution_count": 92,
      "outputs": [
        {
          "output_type": "execute_result",
          "data": {
            "text/html": [
              "<div>\n",
              "<style scoped>\n",
              "    .dataframe tbody tr th:only-of-type {\n",
              "        vertical-align: middle;\n",
              "    }\n",
              "\n",
              "    .dataframe tbody tr th {\n",
              "        vertical-align: top;\n",
              "    }\n",
              "\n",
              "    .dataframe thead th {\n",
              "        text-align: right;\n",
              "    }\n",
              "</style>\n",
              "<table border=\"1\" class=\"dataframe\">\n",
              "  <thead>\n",
              "    <tr style=\"text-align: right;\">\n",
              "      <th></th>\n",
              "      <th>Actual</th>\n",
              "      <th>predicted</th>\n",
              "    </tr>\n",
              "  </thead>\n",
              "  <tbody>\n",
              "    <tr>\n",
              "      <th>0</th>\n",
              "      <td>1</td>\n",
              "      <td>1</td>\n",
              "    </tr>\n",
              "    <tr>\n",
              "      <th>1</th>\n",
              "      <td>1</td>\n",
              "      <td>1</td>\n",
              "    </tr>\n",
              "    <tr>\n",
              "      <th>2</th>\n",
              "      <td>1</td>\n",
              "      <td>1</td>\n",
              "    </tr>\n",
              "    <tr>\n",
              "      <th>3</th>\n",
              "      <td>0</td>\n",
              "      <td>0</td>\n",
              "    </tr>\n",
              "    <tr>\n",
              "      <th>4</th>\n",
              "      <td>0</td>\n",
              "      <td>0</td>\n",
              "    </tr>\n",
              "    <tr>\n",
              "      <th>...</th>\n",
              "      <td>...</td>\n",
              "      <td>...</td>\n",
              "    </tr>\n",
              "    <tr>\n",
              "      <th>7215</th>\n",
              "      <td>0</td>\n",
              "      <td>1</td>\n",
              "    </tr>\n",
              "    <tr>\n",
              "      <th>7216</th>\n",
              "      <td>1</td>\n",
              "      <td>1</td>\n",
              "    </tr>\n",
              "    <tr>\n",
              "      <th>7217</th>\n",
              "      <td>1</td>\n",
              "      <td>1</td>\n",
              "    </tr>\n",
              "    <tr>\n",
              "      <th>7218</th>\n",
              "      <td>1</td>\n",
              "      <td>1</td>\n",
              "    </tr>\n",
              "    <tr>\n",
              "      <th>7219</th>\n",
              "      <td>1</td>\n",
              "      <td>0</td>\n",
              "    </tr>\n",
              "  </tbody>\n",
              "</table>\n",
              "<p>7220 rows × 2 columns</p>\n",
              "</div>"
            ],
            "text/plain": [
              "      Actual  predicted\n",
              "0          1          1\n",
              "1          1          1\n",
              "2          1          1\n",
              "3          0          0\n",
              "4          0          0\n",
              "...      ...        ...\n",
              "7215       0          1\n",
              "7216       1          1\n",
              "7217       1          1\n",
              "7218       1          1\n",
              "7219       1          0\n",
              "\n",
              "[7220 rows x 2 columns]"
            ]
          },
          "metadata": {
            "tags": []
          },
          "execution_count": 92
        }
      ]
    },
    {
      "cell_type": "code",
      "metadata": {
        "colab": {
          "base_uri": "https://localhost:8080/",
          "height": 80
        },
        "id": "_tY1cN4QyZSl",
        "outputId": "f130719d-f061-4c18-dbb2-ac906f9b236d"
      },
      "source": [
        "Result.iloc[[7218]]"
      ],
      "execution_count": 94,
      "outputs": [
        {
          "output_type": "execute_result",
          "data": {
            "text/html": [
              "<div>\n",
              "<style scoped>\n",
              "    .dataframe tbody tr th:only-of-type {\n",
              "        vertical-align: middle;\n",
              "    }\n",
              "\n",
              "    .dataframe tbody tr th {\n",
              "        vertical-align: top;\n",
              "    }\n",
              "\n",
              "    .dataframe thead th {\n",
              "        text-align: right;\n",
              "    }\n",
              "</style>\n",
              "<table border=\"1\" class=\"dataframe\">\n",
              "  <thead>\n",
              "    <tr style=\"text-align: right;\">\n",
              "      <th></th>\n",
              "      <th>Actual</th>\n",
              "      <th>predicted</th>\n",
              "    </tr>\n",
              "  </thead>\n",
              "  <tbody>\n",
              "    <tr>\n",
              "      <th>7218</th>\n",
              "      <td>1</td>\n",
              "      <td>1</td>\n",
              "    </tr>\n",
              "  </tbody>\n",
              "</table>\n",
              "</div>"
            ],
            "text/plain": [
              "      Actual  predicted\n",
              "7218       1          1"
            ]
          },
          "metadata": {
            "tags": []
          },
          "execution_count": 94
        }
      ]
    },
    {
      "cell_type": "code",
      "metadata": {
        "colab": {
          "base_uri": "https://localhost:8080/",
          "height": 296
        },
        "id": "KLkgdbvRzotj",
        "outputId": "a3cc98bb-c83d-4a11-bc0e-4e73498bc016"
      },
      "source": [
        "sns.lineplot(x='Actual',y=\"predicted\",data=Result)\r\n",
        "plt.plot()"
      ],
      "execution_count": 107,
      "outputs": [
        {
          "output_type": "execute_result",
          "data": {
            "text/plain": [
              "[]"
            ]
          },
          "metadata": {
            "tags": []
          },
          "execution_count": 107
        },
        {
          "output_type": "display_data",
          "data": {
            "image/png": "[encoded data removed]",
            "text/plain": [
              "<Figure size 432x288 with 1 Axes>"
            ]
          },
          "metadata": {
            "tags": [],
            "needs_background": "light"
          }
        }
      ]
    },
    {
      "cell_type": "code",
      "metadata": {
        "id": "8BVEkUKcyhd6"
      },
      "source": [
        ""
      ],
      "execution_count": null,
      "outputs": []
    }
  ]
}