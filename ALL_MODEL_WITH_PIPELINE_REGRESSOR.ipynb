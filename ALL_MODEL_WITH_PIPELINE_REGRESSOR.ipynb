{
  "nbformat": 4,
  "nbformat_minor": 0,
  "metadata": {
    "colab": {
      "name": "ALL_MODEL_WITH_PIPELINE_REGRESSOR.ipynb",
      "provenance": [],
      "collapsed_sections": []
    },
    "kernelspec": {
      "name": "python3",
      "display_name": "Python 3"
    }
  },
  "cells": [
    {
      "cell_type": "code",
      "metadata": {
        "id": "ikBSHTnMNO1x"
      },
      "source": [
        "import pandas as pd\r\n",
        "import numpy as np\r\n",
        "import seaborn as sns\r\n",
        "import matplotlib.pyplot as plt,pylab\r\n",
        "import warnings\r\n",
        "from imblearn.combine import SMOTETomek\r\n",
        "import scipy.stats as stat\r\n",
        "from sklearn.preprocessing import LabelEncoder\r\n",
        "from sklearn.model_selection import GridSearchCV,train_test_split\r\n",
        "from collections import Counter\r\n",
        "from sklearn.pipeline import Pipeline\r\n",
        "from sklearn.linear_model import LogisticRegression\r\n",
        "from sklearn.ensemble import RandomForestRegressor\r\n",
        "from sklearn.tree import DecisionTreeRegressor\r\n",
        "from sklearn.neighbors import KNeighborsRegressor\r\n",
        "from sklearn.svm import SVR\r\n",
        "from xgboost import  XGBRegressor\r\n",
        "from sklearn.metrics import mean_absolute_error,mean_squared_error\r\n",
        "import math\r\n",
        "\r\n"
      ],
      "execution_count": 70,
      "outputs": []
    },
    {
      "cell_type": "code",
      "metadata": {
        "colab": {
          "base_uri": "https://localhost:8080/"
        },
        "id": "Ud1bhFWnqzDK",
        "outputId": "f4721381-c915-4158-8d1c-7f9ea7ccf8a1"
      },
      "source": [
        "pip install xgboost"
      ],
      "execution_count": 2,
      "outputs": [
        {
          "output_type": "stream",
          "text": [
            "Requirement already satisfied: xgboost in /usr/local/lib/python3.6/dist-packages (0.90)\n",
            "Requirement already satisfied: scipy in /usr/local/lib/python3.6/dist-packages (from xgboost) (1.4.1)\n",
            "Requirement already satisfied: numpy in /usr/local/lib/python3.6/dist-packages (from xgboost) (1.19.5)\n"
          ],
          "name": "stdout"
        }
      ]
    },
    {
      "cell_type": "code",
      "metadata": {
        "colab": {
          "base_uri": "https://localhost:8080/",
          "height": 584
        },
        "id": "jh3VKotNO-nW",
        "outputId": "0e00cf94-31e4-4a83-c065-2700347a7028"
      },
      "source": [
        "data = pd.read_csv(\"/content/marketing_sample_for_walmart_com-product_details__20200101_20200331__30k_data.csv\")\r\n",
        "data.head()"
      ],
      "execution_count": 3,
      "outputs": [
        {
          "output_type": "execute_result",
          "data": {
            "text/html": [
              "<div>\n",
              "<style scoped>\n",
              "    .dataframe tbody tr th:only-of-type {\n",
              "        vertical-align: middle;\n",
              "    }\n",
              "\n",
              "    .dataframe tbody tr th {\n",
              "        vertical-align: top;\n",
              "    }\n",
              "\n",
              "    .dataframe thead th {\n",
              "        text-align: right;\n",
              "    }\n",
              "</style>\n",
              "<table border=\"1\" class=\"dataframe\">\n",
              "  <thead>\n",
              "    <tr style=\"text-align: right;\">\n",
              "      <th></th>\n",
              "      <th>Uniq Id</th>\n",
              "      <th>Crawl Timestamp</th>\n",
              "      <th>Product Url</th>\n",
              "      <th>Product Name</th>\n",
              "      <th>Description</th>\n",
              "      <th>List Price</th>\n",
              "      <th>Sale Price</th>\n",
              "      <th>Brand</th>\n",
              "      <th>Item Number</th>\n",
              "      <th>Gtin</th>\n",
              "      <th>Package Size</th>\n",
              "      <th>Category</th>\n",
              "      <th>Postal Code</th>\n",
              "      <th>Available</th>\n",
              "    </tr>\n",
              "  </thead>\n",
              "  <tbody>\n",
              "    <tr>\n",
              "      <th>0</th>\n",
              "      <td>51b010b871cde349bd32159a1cc1a15f</td>\n",
              "      <td>2020-01-24 16:08:36 +0000</td>\n",
              "      <td>https://www.walmart.com/ip/Allegiance-Economy-...</td>\n",
              "      <td>Allegiance Economy Dual-scale Digital Thermometer</td>\n",
              "      <td>We aim to show you accurate product informati...</td>\n",
              "      <td>11.11</td>\n",
              "      <td>11.11</td>\n",
              "      <td>Cardinal Health</td>\n",
              "      <td>NaN</td>\n",
              "      <td>707389636164</td>\n",
              "      <td>NaN</td>\n",
              "      <td>Health | Medicine Cabinet | Thermometers | Dig...</td>\n",
              "      <td>NaN</td>\n",
              "      <td>True</td>\n",
              "    </tr>\n",
              "    <tr>\n",
              "      <th>1</th>\n",
              "      <td>d6a7f100e44a626a3701804e99236ad6</td>\n",
              "      <td>2020-01-24 15:54:21 +0000</td>\n",
              "      <td>https://www.walmart.com/ip/Kenneth-Cole-Reacti...</td>\n",
              "      <td>Kenneth Cole Reaction Eau De Parfum Spray For ...</td>\n",
              "      <td>We aim to show you accurate product informati...</td>\n",
              "      <td>23.99</td>\n",
              "      <td>23.99</td>\n",
              "      <td>Kenneth Cole</td>\n",
              "      <td>NaN</td>\n",
              "      <td>191565696101</td>\n",
              "      <td>NaN</td>\n",
              "      <td>Premium Beauty | Premium Fragrance | Premium P...</td>\n",
              "      <td>NaN</td>\n",
              "      <td>True</td>\n",
              "    </tr>\n",
              "    <tr>\n",
              "      <th>2</th>\n",
              "      <td>99d2b7da7e3e427a942f864937dacd9d</td>\n",
              "      <td>2020-01-24 18:34:28 +0000</td>\n",
              "      <td>https://www.walmart.com/ip/Kid-Tough-Fitness-I...</td>\n",
              "      <td>Kid Tough Fitness Inflatable Free-Standing Pun...</td>\n",
              "      <td>We aim to show you accurate product informati...</td>\n",
              "      <td>30.76</td>\n",
              "      <td>30.76</td>\n",
              "      <td>BONK FIT</td>\n",
              "      <td>563852139.0</td>\n",
              "      <td>855523007070</td>\n",
              "      <td>NaN</td>\n",
              "      <td>Sports &amp; Outdoors | Outdoor Sports | Hunting |...</td>\n",
              "      <td>NaN</td>\n",
              "      <td>True</td>\n",
              "    </tr>\n",
              "    <tr>\n",
              "      <th>3</th>\n",
              "      <td>4c76d170c2c6a759cbce812d790a0b88</td>\n",
              "      <td>2020-01-24 11:08:53 +0000</td>\n",
              "      <td>https://www.walmart.com/ip/THE-FIRST-YEARS/167...</td>\n",
              "      <td>THE FIRST YEARS</td>\n",
              "      <td>We aim to show you accurate product informati...</td>\n",
              "      <td>6.99</td>\n",
              "      <td>6.99</td>\n",
              "      <td>The First Years</td>\n",
              "      <td>553299941.0</td>\n",
              "      <td>71463046263</td>\n",
              "      <td>NaN</td>\n",
              "      <td>Baby | Diapering | Baby Wipes</td>\n",
              "      <td>NaN</td>\n",
              "      <td>True</td>\n",
              "    </tr>\n",
              "    <tr>\n",
              "      <th>4</th>\n",
              "      <td>8ac95837dc8baa01e504fd8f633ffaf2</td>\n",
              "      <td>2020-03-10 07:37:21 +0000</td>\n",
              "      <td>https://www.walmart.com/ip/4-Pack-MD-USA-Seaml...</td>\n",
              "      <td>4 Pack - MD USA Seamless Toe-Wave-In Mesh Diab...</td>\n",
              "      <td>We aim to show you accurate product informatio...</td>\n",
              "      <td>28.27</td>\n",
              "      <td>28.27</td>\n",
              "      <td>MD USA</td>\n",
              "      <td>NaN</td>\n",
              "      <td>191897514500</td>\n",
              "      <td>NaN</td>\n",
              "      <td>Health | Diabetes Care | Diabetic Socks</td>\n",
              "      <td>NaN</td>\n",
              "      <td>True</td>\n",
              "    </tr>\n",
              "  </tbody>\n",
              "</table>\n",
              "</div>"
            ],
            "text/plain": [
              "                            Uniq Id  ... Available\n",
              "0  51b010b871cde349bd32159a1cc1a15f  ...      True\n",
              "1  d6a7f100e44a626a3701804e99236ad6  ...      True\n",
              "2  99d2b7da7e3e427a942f864937dacd9d  ...      True\n",
              "3  4c76d170c2c6a759cbce812d790a0b88  ...      True\n",
              "4  8ac95837dc8baa01e504fd8f633ffaf2  ...      True\n",
              "\n",
              "[5 rows x 14 columns]"
            ]
          },
          "metadata": {
            "tags": []
          },
          "execution_count": 3
        }
      ]
    },
    {
      "cell_type": "code",
      "metadata": {
        "colab": {
          "base_uri": "https://localhost:8080/"
        },
        "id": "F_tpa3lRQyjZ",
        "outputId": "985cf561-5122-4afa-c38c-e8258ef047cf"
      },
      "source": [
        "data.shape"
      ],
      "execution_count": 4,
      "outputs": [
        {
          "output_type": "execute_result",
          "data": {
            "text/plain": [
              "(30000, 14)"
            ]
          },
          "metadata": {
            "tags": []
          },
          "execution_count": 4
        }
      ]
    },
    {
      "cell_type": "code",
      "metadata": {
        "colab": {
          "base_uri": "https://localhost:8080/"
        },
        "id": "eA6ffwfoQ2LM",
        "outputId": "f2153b86-7d9f-4efa-9d3e-3fc4f6af20ed"
      },
      "source": [
        "data.isnull().sum().sum()"
      ],
      "execution_count": 5,
      "outputs": [
        {
          "output_type": "execute_result",
          "data": {
            "text/plain": [
              "81989"
            ]
          },
          "metadata": {
            "tags": []
          },
          "execution_count": 5
        }
      ]
    },
    {
      "cell_type": "code",
      "metadata": {
        "colab": {
          "base_uri": "https://localhost:8080/",
          "height": 360
        },
        "id": "hGKzdaqCQ59u",
        "outputId": "6ecdbc15-ebcf-49f5-f8fc-65a1e7c58e23"
      },
      "source": [
        "sns.heatmap(data.isnull(),yticklabels=False,cbar=False,cmap='viridis')"
      ],
      "execution_count": 6,
      "outputs": [
        {
          "output_type": "execute_result",
          "data": {
            "text/plain": [
              "<matplotlib.axes._subplots.AxesSubplot at 0x7f2d0b308208>"
            ]
          },
          "metadata": {
            "tags": []
          },
          "execution_count": 6
        },
        {
          "output_type": "display_data",
          "data": {
            "image/png": "[encoded data removed]",
            "text/plain": [
              "<Figure size 432x288 with 1 Axes>"
            ]
          },
          "metadata": {
            "tags": [],
            "needs_background": "light"
          }
        }
      ]
    },
    {
      "cell_type": "code",
      "metadata": {
        "colab": {
          "base_uri": "https://localhost:8080/"
        },
        "id": "CLCTgyURREIV",
        "outputId": "27627d9a-98a0-429c-b66e-e220b89fcdf9"
      },
      "source": [
        "data['Postal Code'].isnull().sum()"
      ],
      "execution_count": 7,
      "outputs": [
        {
          "output_type": "execute_result",
          "data": {
            "text/plain": [
              "30000"
            ]
          },
          "metadata": {
            "tags": []
          },
          "execution_count": 7
        }
      ]
    },
    {
      "cell_type": "code",
      "metadata": {
        "colab": {
          "base_uri": "https://localhost:8080/"
        },
        "id": "4JxhHRqxRKpb",
        "outputId": "8a05d9c9-706e-4357-9780-6ca931cda62f"
      },
      "source": [
        "data['Package Size'].isnull().sum()"
      ],
      "execution_count": 8,
      "outputs": [
        {
          "output_type": "execute_result",
          "data": {
            "text/plain": [
              "30000"
            ]
          },
          "metadata": {
            "tags": []
          },
          "execution_count": 8
        }
      ]
    },
    {
      "cell_type": "code",
      "metadata": {
        "colab": {
          "base_uri": "https://localhost:8080/"
        },
        "id": "vchclY59RT8b",
        "outputId": "d922f75d-c730-42f4-c9d9-a00de0ed05f4"
      },
      "source": [
        "data['Item Number'].isnull().sum()"
      ],
      "execution_count": 9,
      "outputs": [
        {
          "output_type": "execute_result",
          "data": {
            "text/plain": [
              "21446"
            ]
          },
          "metadata": {
            "tags": []
          },
          "execution_count": 9
        }
      ]
    },
    {
      "cell_type": "code",
      "metadata": {
        "id": "ncExt0ZfRbSp"
      },
      "source": [
        "data.drop(['Postal Code','Package Size','Item Number','Uniq Id'],axis=1,inplace=True)"
      ],
      "execution_count": 10,
      "outputs": []
    },
    {
      "cell_type": "code",
      "metadata": {
        "colab": {
          "base_uri": "https://localhost:8080/"
        },
        "id": "SmRBukaeRxnT",
        "outputId": "85905827-73a6-43e9-f2ae-2241216786a3"
      },
      "source": [
        "data.shape"
      ],
      "execution_count": 11,
      "outputs": [
        {
          "output_type": "execute_result",
          "data": {
            "text/plain": [
              "(30000, 10)"
            ]
          },
          "metadata": {
            "tags": []
          },
          "execution_count": 11
        }
      ]
    },
    {
      "cell_type": "code",
      "metadata": {
        "colab": {
          "base_uri": "https://localhost:8080/",
          "height": 360
        },
        "id": "8V5wxP7dR06J",
        "outputId": "f4c91c85-3185-4c8a-ecb8-92e43b6d1c5d"
      },
      "source": [
        "sns.heatmap(data.isnull(),yticklabels=False,cbar=False,cmap='viridis')"
      ],
      "execution_count": 12,
      "outputs": [
        {
          "output_type": "execute_result",
          "data": {
            "text/plain": [
              "<matplotlib.axes._subplots.AxesSubplot at 0x7f2d03245f60>"
            ]
          },
          "metadata": {
            "tags": []
          },
          "execution_count": 12
        },
        {
          "output_type": "display_data",
          "data": {
            "image/png": "[encoded data removed]",
            "text/plain": [
              "<Figure size 432x288 with 1 Axes>"
            ]
          },
          "metadata": {
            "tags": [],
            "needs_background": "light"
          }
        }
      ]
    },
    {
      "cell_type": "code",
      "metadata": {
        "colab": {
          "base_uri": "https://localhost:8080/"
        },
        "id": "yb0-4fnVR3uo",
        "outputId": "be6a2ac7-8c20-494c-9f09-7fe44cdbc0db"
      },
      "source": [
        "data.isnull().sum()"
      ],
      "execution_count": 13,
      "outputs": [
        {
          "output_type": "execute_result",
          "data": {
            "text/plain": [
              "Crawl Timestamp      0\n",
              "Product Url          0\n",
              "Product Name         0\n",
              "Description          0\n",
              "List Price           0\n",
              "Sale Price           0\n",
              "Brand              519\n",
              "Gtin                 0\n",
              "Category            24\n",
              "Available            0\n",
              "dtype: int64"
            ]
          },
          "metadata": {
            "tags": []
          },
          "execution_count": 13
        }
      ]
    },
    {
      "cell_type": "code",
      "metadata": {
        "colab": {
          "base_uri": "https://localhost:8080/"
        },
        "id": "AXg0KWzySB1q",
        "outputId": "aa328b3f-5b00-4811-8adf-f84a4f435813"
      },
      "source": [
        "data.Brand.dtypes"
      ],
      "execution_count": 14,
      "outputs": [
        {
          "output_type": "execute_result",
          "data": {
            "text/plain": [
              "dtype('O')"
            ]
          },
          "metadata": {
            "tags": []
          },
          "execution_count": 14
        }
      ]
    },
    {
      "cell_type": "code",
      "metadata": {
        "id": "pQ6C66zcSKE3"
      },
      "source": [
        "data['Brand'] = data['Brand'].fillna(data['Brand'].mode()[0])"
      ],
      "execution_count": 15,
      "outputs": []
    },
    {
      "cell_type": "code",
      "metadata": {
        "colab": {
          "base_uri": "https://localhost:8080/"
        },
        "id": "hYxGL082SYh4",
        "outputId": "4cae4559-ab45-43b1-9d8c-fd4e37121284"
      },
      "source": [
        "data.Brand.isnull().sum()"
      ],
      "execution_count": 16,
      "outputs": [
        {
          "output_type": "execute_result",
          "data": {
            "text/plain": [
              "0"
            ]
          },
          "metadata": {
            "tags": []
          },
          "execution_count": 16
        }
      ]
    },
    {
      "cell_type": "code",
      "metadata": {
        "id": "e0d4JbX7Sfkd"
      },
      "source": [
        "data['Category'] = data['Category'].fillna(data['Category'].mode()[0])"
      ],
      "execution_count": 17,
      "outputs": []
    },
    {
      "cell_type": "code",
      "metadata": {
        "id": "fOfR-6jy6hAd"
      },
      "source": [
        "data['Available'] = data['Available'].fillna(data['Category'].mode()[0])"
      ],
      "execution_count": 18,
      "outputs": []
    },
    {
      "cell_type": "code",
      "metadata": {
        "colab": {
          "base_uri": "https://localhost:8080/"
        },
        "id": "H8wVjLpzSlMf",
        "outputId": "12128e5a-1a25-4a3e-f81d-02a2a7554f83"
      },
      "source": [
        "data.Category.isnull().sum()"
      ],
      "execution_count": 19,
      "outputs": [
        {
          "output_type": "execute_result",
          "data": {
            "text/plain": [
              "0"
            ]
          },
          "metadata": {
            "tags": []
          },
          "execution_count": 19
        }
      ]
    },
    {
      "cell_type": "code",
      "metadata": {
        "colab": {
          "base_uri": "https://localhost:8080/"
        },
        "id": "WpSd4p7cSolN",
        "outputId": "901541a2-6a13-4922-b272-8df00ea3dd5a"
      },
      "source": [
        "data.isnull().sum()"
      ],
      "execution_count": 20,
      "outputs": [
        {
          "output_type": "execute_result",
          "data": {
            "text/plain": [
              "Crawl Timestamp    0\n",
              "Product Url        0\n",
              "Product Name       0\n",
              "Description        0\n",
              "List Price         0\n",
              "Sale Price         0\n",
              "Brand              0\n",
              "Gtin               0\n",
              "Category           0\n",
              "Available          0\n",
              "dtype: int64"
            ]
          },
          "metadata": {
            "tags": []
          },
          "execution_count": 20
        }
      ]
    },
    {
      "cell_type": "code",
      "metadata": {
        "colab": {
          "base_uri": "https://localhost:8080/",
          "height": 360
        },
        "id": "h_H0536mSrLs",
        "outputId": "ab8b155d-ae9e-448b-87da-6d010ae3c887"
      },
      "source": [
        "sns.heatmap(data.isnull(),yticklabels=False,cbar=False,cmap='viridis')"
      ],
      "execution_count": 21,
      "outputs": [
        {
          "output_type": "execute_result",
          "data": {
            "text/plain": [
              "<matplotlib.axes._subplots.AxesSubplot at 0x7f2d02d71198>"
            ]
          },
          "metadata": {
            "tags": []
          },
          "execution_count": 21
        },
        {
          "output_type": "display_data",
          "data": {
            "image/png": "[encoded data removed]",
            "text/plain": [
              "<Figure size 432x288 with 1 Axes>"
            ]
          },
          "metadata": {
            "tags": [],
            "needs_background": "light"
          }
        }
      ]
    },
    {
      "cell_type": "code",
      "metadata": {
        "colab": {
          "base_uri": "https://localhost:8080/"
        },
        "id": "1g0igLXvSsj-",
        "outputId": "cbb803a7-35c3-435a-f687-586df7083e87"
      },
      "source": [
        "data.dtypes"
      ],
      "execution_count": 22,
      "outputs": [
        {
          "output_type": "execute_result",
          "data": {
            "text/plain": [
              "Crawl Timestamp     object\n",
              "Product Url         object\n",
              "Product Name        object\n",
              "Description         object\n",
              "List Price         float64\n",
              "Sale Price         float64\n",
              "Brand               object\n",
              "Gtin                 int64\n",
              "Category            object\n",
              "Available             bool\n",
              "dtype: object"
            ]
          },
          "metadata": {
            "tags": []
          },
          "execution_count": 22
        }
      ]
    },
    {
      "cell_type": "code",
      "metadata": {
        "id": "yi0iHxR-TO5r"
      },
      "source": [
        "data['Crawl Timestamp'] = pd.to_datetime(data['Crawl Timestamp'])"
      ],
      "execution_count": 23,
      "outputs": []
    },
    {
      "cell_type": "code",
      "metadata": {
        "colab": {
          "base_uri": "https://localhost:8080/",
          "height": 296
        },
        "id": "1ncym7zET14w",
        "outputId": "77d9c649-a3e9-4fa7-9eeb-43cffb44b6a9"
      },
      "source": [
        "sns.countplot(x='Available',data=data)"
      ],
      "execution_count": 24,
      "outputs": [
        {
          "output_type": "execute_result",
          "data": {
            "text/plain": [
              "<matplotlib.axes._subplots.AxesSubplot at 0x7f2d032551d0>"
            ]
          },
          "metadata": {
            "tags": []
          },
          "execution_count": 24
        },
        {
          "output_type": "display_data",
          "data": {
            "image/png": "[encoded data removed]",
            "text/plain": [
              "<Figure size 432x288 with 1 Axes>"
            ]
          },
          "metadata": {
            "tags": [],
            "needs_background": "light"
          }
        }
      ]
    },
    {
      "cell_type": "code",
      "metadata": {
        "colab": {
          "base_uri": "https://localhost:8080/",
          "height": 287
        },
        "id": "FciXQxvIW8p3",
        "outputId": "e555aa27-70ce-4ea4-acdc-ed51d4721129"
      },
      "source": [
        "data.describe()"
      ],
      "execution_count": 25,
      "outputs": [
        {
          "output_type": "execute_result",
          "data": {
            "text/html": [
              "<div>\n",
              "<style scoped>\n",
              "    .dataframe tbody tr th:only-of-type {\n",
              "        vertical-align: middle;\n",
              "    }\n",
              "\n",
              "    .dataframe tbody tr th {\n",
              "        vertical-align: top;\n",
              "    }\n",
              "\n",
              "    .dataframe thead th {\n",
              "        text-align: right;\n",
              "    }\n",
              "</style>\n",
              "<table border=\"1\" class=\"dataframe\">\n",
              "  <thead>\n",
              "    <tr style=\"text-align: right;\">\n",
              "      <th></th>\n",
              "      <th>List Price</th>\n",
              "      <th>Sale Price</th>\n",
              "      <th>Gtin</th>\n",
              "    </tr>\n",
              "  </thead>\n",
              "  <tbody>\n",
              "    <tr>\n",
              "      <th>count</th>\n",
              "      <td>30000.000000</td>\n",
              "      <td>30000.000000</td>\n",
              "      <td>3.000000e+04</td>\n",
              "    </tr>\n",
              "    <tr>\n",
              "      <th>mean</th>\n",
              "      <td>71.117899</td>\n",
              "      <td>70.426723</td>\n",
              "      <td>4.396451e+11</td>\n",
              "    </tr>\n",
              "    <tr>\n",
              "      <th>std</th>\n",
              "      <td>365.596356</td>\n",
              "      <td>364.367234</td>\n",
              "      <td>3.503177e+11</td>\n",
              "    </tr>\n",
              "    <tr>\n",
              "      <th>min</th>\n",
              "      <td>0.000000</td>\n",
              "      <td>0.000000</td>\n",
              "      <td>1.523300e+04</td>\n",
              "    </tr>\n",
              "    <tr>\n",
              "      <th>25%</th>\n",
              "      <td>10.860000</td>\n",
              "      <td>10.690000</td>\n",
              "      <td>4.113253e+10</td>\n",
              "    </tr>\n",
              "    <tr>\n",
              "      <th>50%</th>\n",
              "      <td>20.880000</td>\n",
              "      <td>20.445000</td>\n",
              "      <td>6.356353e+11</td>\n",
              "    </tr>\n",
              "    <tr>\n",
              "      <th>75%</th>\n",
              "      <td>45.950000</td>\n",
              "      <td>45.000000</td>\n",
              "      <td>7.526152e+11</td>\n",
              "    </tr>\n",
              "    <tr>\n",
              "      <th>max</th>\n",
              "      <td>22434.040000</td>\n",
              "      <td>22434.040000</td>\n",
              "      <td>9.995659e+11</td>\n",
              "    </tr>\n",
              "  </tbody>\n",
              "</table>\n",
              "</div>"
            ],
            "text/plain": [
              "         List Price    Sale Price          Gtin\n",
              "count  30000.000000  30000.000000  3.000000e+04\n",
              "mean      71.117899     70.426723  4.396451e+11\n",
              "std      365.596356    364.367234  3.503177e+11\n",
              "min        0.000000      0.000000  1.523300e+04\n",
              "25%       10.860000     10.690000  4.113253e+10\n",
              "50%       20.880000     20.445000  6.356353e+11\n",
              "75%       45.950000     45.000000  7.526152e+11\n",
              "max    22434.040000  22434.040000  9.995659e+11"
            ]
          },
          "metadata": {
            "tags": []
          },
          "execution_count": 25
        }
      ]
    },
    {
      "cell_type": "code",
      "metadata": {
        "colab": {
          "base_uri": "https://localhost:8080/",
          "height": 286
        },
        "id": "zxHTKZJNWv65",
        "outputId": "6aa5aa54-6c15-45e5-f92e-4420fb049875"
      },
      "source": [
        "cm = data.corr()\r\n",
        "ax=sns.heatmap(cm,vmin=1,vmax=1)\r\n",
        "ax.plot()\r\n"
      ],
      "execution_count": 26,
      "outputs": [
        {
          "output_type": "execute_result",
          "data": {
            "text/plain": [
              "[]"
            ]
          },
          "metadata": {
            "tags": []
          },
          "execution_count": 26
        },
        {
          "output_type": "display_data",
          "data": {
            "image/png": "[encoded data removed]",
            "text/plain": [
              "<Figure size 432x288 with 2 Axes>"
            ]
          },
          "metadata": {
            "tags": [],
            "needs_background": "light"
          }
        }
      ]
    },
    {
      "cell_type": "code",
      "metadata": {
        "colab": {
          "base_uri": "https://localhost:8080/"
        },
        "id": "YqdinCw5X-MK",
        "outputId": "3ab7e481-f034-4699-c263-828104990e41"
      },
      "source": [
        "def correlation(data, threshold):\r\n",
        "  col_corr = set()\r\n",
        "  corr_matrix = data.corr()\r\n",
        "  for i in range(len(corr_matrix.columns)):\r\n",
        "    for j in range(i):\r\n",
        "      if abs(corr_matrix.iloc[i,j]>threshold):\r\n",
        "        col_name = corr_matrix.columns[i]\r\n",
        "        col_corr.add(col_name)\r\n",
        "  return col_corr\r\n",
        "\r\n",
        "corr_features = correlation(data,0.90)\r\n",
        "len(set(corr_features))\r\n",
        "corr_features "
      ],
      "execution_count": 27,
      "outputs": [
        {
          "output_type": "execute_result",
          "data": {
            "text/plain": [
              "{'Sale Price'}"
            ]
          },
          "metadata": {
            "tags": []
          },
          "execution_count": 27
        }
      ]
    },
    {
      "cell_type": "code",
      "metadata": {
        "id": "u2yIYh35YL3p"
      },
      "source": [
        "data.drop('Sale Price',axis=1,inplace=True)"
      ],
      "execution_count": 28,
      "outputs": []
    },
    {
      "cell_type": "code",
      "metadata": {
        "colab": {
          "base_uri": "https://localhost:8080/",
          "height": 264
        },
        "id": "V-NXVltmYSuB",
        "outputId": "844dbbb5-57fd-4543-8ae9-96ba84feccff"
      },
      "source": [
        "float_column = data.dtypes[data.dtypes=='float64'].index\r\n",
        "for x in float_column:\r\n",
        "  plt.figure()\r\n",
        "  data.boxplot([x])\r\n"
      ],
      "execution_count": 29,
      "outputs": [
        {
          "output_type": "display_data",
          "data": {
            "image/png": "[encoded data removed]",
            "text/plain": [
              "<Figure size 432x288 with 1 Axes>"
            ]
          },
          "metadata": {
            "tags": [],
            "needs_background": "light"
          }
        }
      ]
    },
    {
      "cell_type": "code",
      "metadata": {
        "colab": {
          "base_uri": "https://localhost:8080/"
        },
        "id": "R6Huaps4YmtO",
        "outputId": "f04415ad-ab90-4c63-9674-3d9e181c33a1"
      },
      "source": [
        "for x in float_column:\r\n",
        "  desc = data[x].describe()\r\n",
        "  IQR = desc['75%']- desc['25%']\r\n",
        "  UT = desc['75%']+1.5*IQR\r\n",
        "  LT = desc['25%']-1.5*IQR\r\n",
        "  data[x][data[x]>UT] = UT\r\n"
      ],
      "execution_count": 30,
      "outputs": [
        {
          "output_type": "stream",
          "text": [
            "/usr/local/lib/python3.6/dist-packages/ipykernel_launcher.py:6: SettingWithCopyWarning: \n",
            "A value is trying to be set on a copy of a slice from a DataFrame\n",
            "\n",
            "See the caveats in the documentation: https://pandas.pydata.org/pandas-docs/stable/user_guide/indexing.html#returning-a-view-versus-a-copy\n",
            "  \n"
          ],
          "name": "stderr"
        }
      ]
    },
    {
      "cell_type": "code",
      "metadata": {
        "colab": {
          "base_uri": "https://localhost:8080/",
          "height": 264
        },
        "id": "IWiZiogfYq9I",
        "outputId": "9d3e8f3e-4095-4048-c0c1-70ed9dba512d"
      },
      "source": [
        "float_column = data.dtypes[data.dtypes=='float64'].index\r\n",
        "for x in float_column:\r\n",
        "  plt.figure()\r\n",
        "  data.boxplot([x])"
      ],
      "execution_count": 31,
      "outputs": [
        {
          "output_type": "display_data",
          "data": {
            "image/png": "[encoded data removed]",
            "text/plain": [
              "<Figure size 432x288 with 1 Axes>"
            ]
          },
          "metadata": {
            "tags": [],
            "needs_background": "light"
          }
        }
      ]
    },
    {
      "cell_type": "code",
      "metadata": {
        "colab": {
          "base_uri": "https://localhost:8080/",
          "height": 275
        },
        "id": "BB2A2mW_YshY",
        "outputId": "959cd8f4-29a5-4f72-a477-1eb87535933e"
      },
      "source": [
        "int_column = data.dtypes[data.dtypes=='int64'].index\r\n",
        "for x in int_column:\r\n",
        "  plt.figure()\r\n",
        "  data.boxplot([x])"
      ],
      "execution_count": 32,
      "outputs": [
        {
          "output_type": "display_data",
          "data": {
            "image/png": "[encoded data removed]",
            "text/plain": [
              "<Figure size 432x288 with 1 Axes>"
            ]
          },
          "metadata": {
            "tags": [],
            "needs_background": "light"
          }
        }
      ]
    },
    {
      "cell_type": "code",
      "metadata": {
        "id": "RQPqdpbWY34h"
      },
      "source": [
        "def plot_data(data,features):\r\n",
        "  plt.figure(figsize=(10,6))\r\n",
        "  plt.subplot(1,2,1)\r\n",
        "  data[features].hist()\r\n",
        "  plt.subplot(1,2,2)\r\n",
        "  stat.probplot(data[features],dist='norm',plot=pylab)\r\n",
        "  plt.show()\r\n"
      ],
      "execution_count": 33,
      "outputs": []
    },
    {
      "cell_type": "code",
      "metadata": {
        "colab": {
          "base_uri": "https://localhost:8080/",
          "height": 404
        },
        "id": "E56_7K-yZRR2",
        "outputId": "aa58b3d7-533a-4bd7-a495-0ea33e7ae16e"
      },
      "source": [
        "data['Gtin']=np.log(data['Gtin'])\r\n",
        "plot_data(data,'Gtin')\r\n"
      ],
      "execution_count": 34,
      "outputs": [
        {
          "output_type": "display_data",
          "data": {
            "image/png": "[encoded data removed]",
            "text/plain": [
              "<Figure size 720x432 with 2 Axes>"
            ]
          },
          "metadata": {
            "tags": [],
            "needs_background": "light"
          }
        }
      ]
    },
    {
      "cell_type": "code",
      "metadata": {
        "id": "8jBYtD-fV8HB"
      },
      "source": [
        "x= data.drop('Available',axis=1)"
      ],
      "execution_count": 35,
      "outputs": []
    },
    {
      "cell_type": "code",
      "metadata": {
        "id": "YOeWpGcDWC5G"
      },
      "source": [
        "y = data['Available']"
      ],
      "execution_count": 36,
      "outputs": []
    },
    {
      "cell_type": "code",
      "metadata": {
        "id": "75ZvXylYbcJW"
      },
      "source": [
        "lab_enc = LabelEncoder()"
      ],
      "execution_count": 37,
      "outputs": []
    },
    {
      "cell_type": "code",
      "metadata": {
        "id": "KKt3tJXOb2Md"
      },
      "source": [
        "x = x.apply(lab_enc.fit_transform)"
      ],
      "execution_count": 38,
      "outputs": []
    },
    {
      "cell_type": "code",
      "metadata": {
        "colab": {
          "base_uri": "https://localhost:8080/"
        },
        "id": "FjnNyul2Wc2B",
        "outputId": "d63626e2-2c36-482a-eb94-fcfbfe340a11"
      },
      "source": [
        "x.shape"
      ],
      "execution_count": 39,
      "outputs": [
        {
          "output_type": "execute_result",
          "data": {
            "text/plain": [
              "(30000, 8)"
            ]
          },
          "metadata": {
            "tags": []
          },
          "execution_count": 39
        }
      ]
    },
    {
      "cell_type": "code",
      "metadata": {
        "id": "J1Gr6Mn5VYIT"
      },
      "source": [
        "smk = SMOTETomek(random_state=0)"
      ],
      "execution_count": 40,
      "outputs": []
    },
    {
      "cell_type": "code",
      "metadata": {
        "colab": {
          "base_uri": "https://localhost:8080/"
        },
        "id": "qrN4FfWSVq3v",
        "outputId": "7f69c03f-884b-4198-abbe-d1ce9df05c8e"
      },
      "source": [
        "x_res,y_res = smk.fit_sample(x,y)"
      ],
      "execution_count": 41,
      "outputs": [
        {
          "output_type": "stream",
          "text": [
            "/usr/local/lib/python3.6/dist-packages/sklearn/utils/deprecation.py:87: FutureWarning: Function safe_indexing is deprecated; safe_indexing is deprecated in version 0.22 and will be removed in version 0.24.\n",
            "  warnings.warn(msg, category=FutureWarning)\n",
            "/usr/local/lib/python3.6/dist-packages/sklearn/utils/deprecation.py:87: FutureWarning: Function safe_indexing is deprecated; safe_indexing is deprecated in version 0.22 and will be removed in version 0.24.\n",
            "  warnings.warn(msg, category=FutureWarning)\n"
          ],
          "name": "stderr"
        }
      ]
    },
    {
      "cell_type": "code",
      "metadata": {
        "colab": {
          "base_uri": "https://localhost:8080/"
        },
        "id": "N0LnImGWcFEB",
        "outputId": "b7ca2d39-7ad2-4b8e-dd52-b7de6cb22373"
      },
      "source": [
        "print(\"Orginal data {}\".format(Counter(y)))\r\n",
        "print(\"Smotetomek data {}\".format(Counter(y_res)))"
      ],
      "execution_count": 42,
      "outputs": [
        {
          "output_type": "stream",
          "text": [
            "Orginal data Counter({True: 27661, False: 2339})\n",
            "Smotetomek data Counter({True: 27448, False: 27448})\n"
          ],
          "name": "stdout"
        }
      ]
    },
    {
      "cell_type": "code",
      "metadata": {
        "colab": {
          "base_uri": "https://localhost:8080/"
        },
        "id": "eWS_OTIwcpJo",
        "outputId": "4c0e7492-d62d-4eba-d08d-87217dc7fc40"
      },
      "source": [
        "x_res.shape,y_res.shape"
      ],
      "execution_count": 43,
      "outputs": [
        {
          "output_type": "execute_result",
          "data": {
            "text/plain": [
              "((54896, 8), (54896,))"
            ]
          },
          "metadata": {
            "tags": []
          },
          "execution_count": 43
        }
      ]
    },
    {
      "cell_type": "code",
      "metadata": {
        "id": "iR5TGJCJXRXm"
      },
      "source": [
        "x_train,x_test,y_train,y_test = train_test_split(x_res,y_res,test_size = 0.30,random_state = 42)"
      ],
      "execution_count": 44,
      "outputs": []
    },
    {
      "cell_type": "code",
      "metadata": {
        "colab": {
          "base_uri": "https://localhost:8080/"
        },
        "id": "AtrM1VX7dguF",
        "outputId": "78de7e54-e4c6-4ce8-ea8b-516c096a143d"
      },
      "source": [
        "x_train.shape,x_test.shape,y_train.shape,y_test.shape"
      ],
      "execution_count": 45,
      "outputs": [
        {
          "output_type": "execute_result",
          "data": {
            "text/plain": [
              "((38427, 8), (16469, 8), (38427,), (16469,))"
            ]
          },
          "metadata": {
            "tags": []
          },
          "execution_count": 45
        }
      ]
    },
    {
      "cell_type": "code",
      "metadata": {
        "id": "JYPu1rxRdbSs"
      },
      "source": [
        "LR_Model = Pipeline([('model',LogisticRegression(random_state=2))])"
      ],
      "execution_count": 46,
      "outputs": []
    },
    {
      "cell_type": "code",
      "metadata": {
        "id": "tt3t1RDthwvx"
      },
      "source": [
        "RFR_Model = Pipeline([('model',RandomForestRegressor(random_state=2))])"
      ],
      "execution_count": 47,
      "outputs": []
    },
    {
      "cell_type": "code",
      "metadata": {
        "id": "xt_VGvYKh4vw"
      },
      "source": [
        "DTR_Model = Pipeline([('model',DecisionTreeRegressor(random_state=2))])"
      ],
      "execution_count": 48,
      "outputs": []
    },
    {
      "cell_type": "code",
      "metadata": {
        "id": "OaTUtHNuiPkg"
      },
      "source": [
        "KNR_Model = Pipeline([('model',KNeighborsRegressor())])"
      ],
      "execution_count": 49,
      "outputs": []
    },
    {
      "cell_type": "code",
      "metadata": {
        "id": "BxTRaFS4kUNZ"
      },
      "source": [
        "SVR_model = Pipeline([('model',SVR())])"
      ],
      "execution_count": 50,
      "outputs": []
    },
    {
      "cell_type": "code",
      "metadata": {
        "id": "RtzB22perKl9"
      },
      "source": [
        "XGBST_model = Pipeline([('model',XGBRegressor())])"
      ],
      "execution_count": 51,
      "outputs": []
    },
    {
      "cell_type": "code",
      "metadata": {
        "id": "cGFLsFLsibox"
      },
      "source": [
        "pipeline = [LR_Model,RFR_Model,DTR_Model,KNR_Model,SVR_model,XGBST_model]"
      ],
      "execution_count": 52,
      "outputs": []
    },
    {
      "cell_type": "code",
      "metadata": {
        "id": "4WpqC33djBf9"
      },
      "source": [
        "Best_accuracy = 0.0\r\n",
        "Best_classifier = 0\r\n",
        "Best_pipeline = \"\""
      ],
      "execution_count": 53,
      "outputs": []
    },
    {
      "cell_type": "code",
      "metadata": {
        "id": "Yqbu2IPBjERe"
      },
      "source": [
        "pip_dic = {0:'LogisticRegression',1: 'RandomForestClassifier',2: 'DecisionTreeClassifier',3:'KNR_Model',4:'SVR_model',5:'XGBST_model'}"
      ],
      "execution_count": 54,
      "outputs": []
    },
    {
      "cell_type": "code",
      "metadata": {
        "colab": {
          "base_uri": "https://localhost:8080/"
        },
        "id": "1PpDE5ZpjaOC",
        "outputId": "adf83969-d503-4a45-c767-8f2315bb3acf"
      },
      "source": [
        "for pipe in pipeline:\r\n",
        "  pipe.fit(x_train,y_train)\r\n"
      ],
      "execution_count": 55,
      "outputs": [
        {
          "output_type": "stream",
          "text": [
            "[05:27:09] WARNING: /workspace/src/objective/regression_obj.cu:152: reg:linear is now deprecated in favor of reg:squarederror.\n"
          ],
          "name": "stdout"
        }
      ]
    },
    {
      "cell_type": "code",
      "metadata": {
        "colab": {
          "base_uri": "https://localhost:8080/"
        },
        "id": "ZK_cp0gNjfu9",
        "outputId": "65c63885-019f-400a-83ba-a1ff503b4ec9"
      },
      "source": [
        "for i,model in enumerate(pipeline):\r\n",
        "  print(\"{}Test Accuracy : {}\".format(pip_dic[i],model.score(x_train,y_train)))"
      ],
      "execution_count": 56,
      "outputs": [
        {
          "output_type": "stream",
          "text": [
            "LogisticRegressionTest Accuracy : 0.5586436620084836\n",
            "RandomForestClassifierTest Accuracy : 0.9580763526860014\n",
            "DecisionTreeClassifierTest Accuracy : 1.0\n",
            "KNR_ModelTest Accuracy : 0.7550637664482238\n",
            "SVR_modelTest Accuracy : 0.012431421961140221\n",
            "XGBST_modelTest Accuracy : 0.22960166040579102\n"
          ],
          "name": "stdout"
        }
      ]
    },
    {
      "cell_type": "code",
      "metadata": {
        "colab": {
          "base_uri": "https://localhost:8080/"
        },
        "id": "JdEswTYHjzef",
        "outputId": "953552e1-4907-4232-c393-14e11a21d6be"
      },
      "source": [
        "for i,model in enumerate(pipeline):\r\n",
        "  if model.score(x_test,y_test)>Best_accuracy:\r\n",
        "    Best_accuracy=model.score(x_test,y_test)\r\n",
        "    Best_pipeline = model\r\n",
        "    Best_classifier = i\r\n",
        "print('Best Classifier with best accuracy :{}'.format(pip_dic[Best_classifier]))"
      ],
      "execution_count": 57,
      "outputs": [
        {
          "output_type": "stream",
          "text": [
            "Best Classifier with best accuracy :RandomForestClassifier\n"
          ],
          "name": "stdout"
        }
      ]
    },
    {
      "cell_type": "code",
      "metadata": {
        "id": "L4G1rE_lnlxN"
      },
      "source": [
        "RFR = RandomForestRegressor()"
      ],
      "execution_count": 58,
      "outputs": []
    },
    {
      "cell_type": "code",
      "metadata": {
        "colab": {
          "base_uri": "https://localhost:8080/"
        },
        "id": "B2TTUKQ9nTu3",
        "outputId": "55b33055-af48-4efb-fef1-f6d862c38716"
      },
      "source": [
        "n_estimators = [30,50,80,100]\r\n",
        "max_depth = [5, 8, 10,12]\r\n",
        "min_samples_split = [2, 5, 10, 15, 25]\r\n",
        "min_samples_leaf = [1, 2, 5, 10] \r\n",
        "\r\n",
        "hyperF = dict(n_estimators = n_estimators, max_depth = max_depth,  \r\n",
        "              min_samples_split = min_samples_split, \r\n",
        "             min_samples_leaf = min_samples_leaf)\r\n",
        "\r\n",
        "gridF = GridSearchCV(RFR, hyperF, cv = 3, verbose = 1, \r\n",
        "                      n_jobs = -1)\r\n",
        "bestF = gridF.fit(x_train, y_train)"
      ],
      "execution_count": 59,
      "outputs": [
        {
          "output_type": "stream",
          "text": [
            "Fitting 3 folds for each of 320 candidates, totalling 960 fits\n"
          ],
          "name": "stdout"
        },
        {
          "output_type": "stream",
          "text": [
            "[Parallel(n_jobs=-1)]: Using backend LokyBackend with 2 concurrent workers.\n",
            "[Parallel(n_jobs=-1)]: Done  46 tasks      | elapsed:  2.8min\n",
            "[Parallel(n_jobs=-1)]: Done 196 tasks      | elapsed: 11.6min\n",
            "[Parallel(n_jobs=-1)]: Done 446 tasks      | elapsed: 32.8min\n",
            "[Parallel(n_jobs=-1)]: Done 796 tasks      | elapsed: 71.2min\n",
            "[Parallel(n_jobs=-1)]: Done 960 out of 960 | elapsed: 91.6min finished\n"
          ],
          "name": "stderr"
        }
      ]
    },
    {
      "cell_type": "code",
      "metadata": {
        "id": "HcqYK0m4kQ9U",
        "colab": {
          "base_uri": "https://localhost:8080/"
        },
        "outputId": "566ca37d-eb7e-4756-9400-90bf44fa8f66"
      },
      "source": [
        "bestF.best_params_"
      ],
      "execution_count": 60,
      "outputs": [
        {
          "output_type": "execute_result",
          "data": {
            "text/plain": [
              "{'max_depth': 12,\n",
              " 'min_samples_leaf': 1,\n",
              " 'min_samples_split': 2,\n",
              " 'n_estimators': 50}"
            ]
          },
          "metadata": {
            "tags": []
          },
          "execution_count": 60
        }
      ]
    },
    {
      "cell_type": "code",
      "metadata": {
        "id": "kqxMLIPNRGqN"
      },
      "source": [
        "RFRegressor =RandomForestRegressor(n_estimators=50,max_depth=12,min_samples_leaf=1,min_samples_split=5,criterion='mse')"
      ],
      "execution_count": 64,
      "outputs": []
    },
    {
      "cell_type": "code",
      "metadata": {
        "colab": {
          "base_uri": "https://localhost:8080/"
        },
        "id": "M0oVH3bCR2KK",
        "outputId": "5213b7ff-e517-46c9-b3fa-61fb3bf0f055"
      },
      "source": [
        "RFRegressor.fit(x_train,y_train)"
      ],
      "execution_count": 65,
      "outputs": [
        {
          "output_type": "execute_result",
          "data": {
            "text/plain": [
              "RandomForestRegressor(bootstrap=True, ccp_alpha=0.0, criterion='mse',\n",
              "                      max_depth=12, max_features='auto', max_leaf_nodes=None,\n",
              "                      max_samples=None, min_impurity_decrease=0.0,\n",
              "                      min_impurity_split=None, min_samples_leaf=1,\n",
              "                      min_samples_split=5, min_weight_fraction_leaf=0.0,\n",
              "                      n_estimators=50, n_jobs=None, oob_score=False,\n",
              "                      random_state=None, verbose=0, warm_start=False)"
            ]
          },
          "metadata": {
            "tags": []
          },
          "execution_count": 65
        }
      ]
    },
    {
      "cell_type": "code",
      "metadata": {
        "id": "N5x1AeDqSLHX"
      },
      "source": [
        "y_pred = RFRegressor.predict(x_test)"
      ],
      "execution_count": 66,
      "outputs": []
    },
    {
      "cell_type": "code",
      "metadata": {
        "colab": {
          "base_uri": "https://localhost:8080/"
        },
        "id": "eMRPCFIVRioF",
        "outputId": "37fcbc97-cbc8-4065-ec1e-49a48e8bdbcd"
      },
      "source": [
        "y_pred "
      ],
      "execution_count": 67,
      "outputs": [
        {
          "output_type": "execute_result",
          "data": {
            "text/plain": [
              "array([0.66072777, 0.63202976, 0.71007193, ..., 1.        , 0.95842643,\n",
              "       0.43358726])"
            ]
          },
          "metadata": {
            "tags": []
          },
          "execution_count": 67
        }
      ]
    },
    {
      "cell_type": "code",
      "metadata": {
        "colab": {
          "base_uri": "https://localhost:8080/"
        },
        "id": "c6DDOFScSXXM",
        "outputId": "dfe7ddda-3948-4bc4-8f72-a2eb63996758"
      },
      "source": [
        "mean_absolute_error(y_test,y_pred)"
      ],
      "execution_count": 71,
      "outputs": [
        {
          "output_type": "execute_result",
          "data": {
            "text/plain": [
              "0.3582281673492311"
            ]
          },
          "metadata": {
            "tags": []
          },
          "execution_count": 71
        }
      ]
    },
    {
      "cell_type": "code",
      "metadata": {
        "colab": {
          "base_uri": "https://localhost:8080/"
        },
        "id": "qgMtO3NaS6E6",
        "outputId": "49d12bdb-3b48-454f-db45-16f86a34661c"
      },
      "source": [
        "mean_squared_error(y_test,y_pred)"
      ],
      "execution_count": 72,
      "outputs": [
        {
          "output_type": "execute_result",
          "data": {
            "text/plain": [
              "0.1637660083664742"
            ]
          },
          "metadata": {
            "tags": []
          },
          "execution_count": 72
        }
      ]
    },
    {
      "cell_type": "code",
      "metadata": {
        "colab": {
          "base_uri": "https://localhost:8080/"
        },
        "id": "_CsYW-tzS_va",
        "outputId": "6a82a946-a5c6-4ab3-987f-a0cd293acb77"
      },
      "source": [
        "# np.sqrt(mean_squared_error(y_test,y_pred))"
      ],
      "execution_count": 74,
      "outputs": [
        {
          "output_type": "execute_result",
          "data": {
            "text/plain": [
              "0.0"
            ]
          },
          "metadata": {
            "tags": []
          },
          "execution_count": 74
        }
      ]
    },
    {
      "cell_type": "code",
      "metadata": {
        "id": "mm0d7I2aTTsQ"
      },
      "source": [
        "mse  = mean_squared_error(y_test,y_pred)"
      ],
      "execution_count": 75,
      "outputs": []
    },
    {
      "cell_type": "code",
      "metadata": {
        "colab": {
          "base_uri": "https://localhost:8080/"
        },
        "id": "f0ooWheHTcuU",
        "outputId": "8700efc5-d424-4644-90b5-3881154c5a89"
      },
      "source": [
        "math.sqrt(mse)"
      ],
      "execution_count": 76,
      "outputs": [
        {
          "output_type": "execute_result",
          "data": {
            "text/plain": [
              "0.0"
            ]
          },
          "metadata": {
            "tags": []
          },
          "execution_count": 76
        }
      ]
    },
    {
      "cell_type": "code",
      "metadata": {
        "id": "ZrwCXexkT0fI"
      },
      "source": [
        ""
      ],
      "execution_count": null,
      "outputs": []
    }
  ]
}