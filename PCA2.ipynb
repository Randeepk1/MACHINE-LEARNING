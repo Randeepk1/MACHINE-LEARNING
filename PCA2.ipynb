{
  "nbformat": 4,
  "nbformat_minor": 0,
  "metadata": {
    "colab": {
      "name": "PCA2.ipynb",
      "provenance": [],
      "collapsed_sections": []
    },
    "kernelspec": {
      "name": "python3",
      "display_name": "Python 3"
    },
    "accelerator": "TPU"
  },
  "cells": [
    {
      "cell_type": "code",
      "metadata": {
        "id": "tiATR_O0SIU8"
      },
      "source": [
        "import pandas as pd\r\n",
        "import numpy as np\r\n",
        "import seaborn as sns\r\n",
        "import matplotlib.pyplot as plt,pylab\r\n",
        "import warnings\r\n",
        "warnings.filterwarnings('ignore')\r\n",
        "from sklearn.preprocessing import LabelEncoder\r\n",
        "from sklearn.model_selection import GridSearchCV\r\n",
        "from collections import Counter\r\n",
        "from imblearn.combine import SMOTETomek\r\n",
        "from sklearn.decomposition import PCA\r\n",
        "from sklearn.model_selection import train_test_split\r\n",
        "from sklearn.neighbors import KNeighborsClassifier\r\n",
        "from sklearn.svm import SVC\r\n",
        "from sklearn.ensemble import RandomForestClassifier\r\n",
        "from sklearn.linear_model import LogisticRegression\r\n",
        "from sklearn.metrics import confusion_matrix,classification_report,f1_score,accuracy_score"
      ],
      "execution_count": null,
      "outputs": []
    },
    {
      "cell_type": "code",
      "metadata": {
        "colab": {
          "base_uri": "https://localhost:8080/",
          "height": 234
        },
        "id": "-7OM3lzXZElx",
        "outputId": "275bca5d-61fd-4508-e6e4-807e8c48dc6b"
      },
      "source": [
        "data = pd.read_csv(\"/content/drive/MyDrive/Featured_dataset.csv\")\r\n",
        "data.head()"
      ],
      "execution_count": null,
      "outputs": [
        {
          "output_type": "execute_result",
          "data": {
            "text/html": [
              "<div>\n",
              "<style scoped>\n",
              "    .dataframe tbody tr th:only-of-type {\n",
              "        vertical-align: middle;\n",
              "    }\n",
              "\n",
              "    .dataframe tbody tr th {\n",
              "        vertical-align: top;\n",
              "    }\n",
              "\n",
              "    .dataframe thead th {\n",
              "        text-align: right;\n",
              "    }\n",
              "</style>\n",
              "<table border=\"1\" class=\"dataframe\">\n",
              "  <thead>\n",
              "    <tr style=\"text-align: right;\">\n",
              "      <th></th>\n",
              "      <th>url</th>\n",
              "      <th>url_len</th>\n",
              "      <th>count_comma</th>\n",
              "      <th>count_semicolon</th>\n",
              "      <th>count_quotes</th>\n",
              "      <th>count_braces</th>\n",
              "      <th>count_redirects</th>\n",
              "      <th>count_pipes</th>\n",
              "      <th>count_dots</th>\n",
              "      <th>count_dash</th>\n",
              "      <th>count_underline</th>\n",
              "      <th>count_question</th>\n",
              "      <th>count_equal</th>\n",
              "      <th>count_attherate</th>\n",
              "      <th>count_char</th>\n",
              "      <th>count_digit</th>\n",
              "      <th>count_alphanumeric</th>\n",
              "      <th>count_non_alphanumeric</th>\n",
              "      <th>count_tlds</th>\n",
              "      <th>host_has_ip</th>\n",
              "      <th>present_ip</th>\n",
              "      <th>present_http</th>\n",
              "      <th>count_dots_host</th>\n",
              "      <th>count_digit_host</th>\n",
              "      <th>count_non_alphanumeric_host</th>\n",
              "      <th>parameter_count</th>\n",
              "      <th>parameter_length</th>\n",
              "      <th>directory_len</th>\n",
              "      <th>digit_char_ratio</th>\n",
              "      <th>vowel_consonant_ratio</th>\n",
              "      <th>avg_len_token</th>\n",
              "      <th>label</th>\n",
              "    </tr>\n",
              "  </thead>\n",
              "  <tbody>\n",
              "    <tr>\n",
              "      <th>0</th>\n",
              "      <td>https://2bittechnology.in/js/mfilealldom/mfile...</td>\n",
              "      <td>72</td>\n",
              "      <td>0</td>\n",
              "      <td>0</td>\n",
              "      <td>0</td>\n",
              "      <td>0</td>\n",
              "      <td>0</td>\n",
              "      <td>0</td>\n",
              "      <td>1</td>\n",
              "      <td>0</td>\n",
              "      <td>0</td>\n",
              "      <td>0</td>\n",
              "      <td>0</td>\n",
              "      <td>0</td>\n",
              "      <td>46</td>\n",
              "      <td>20</td>\n",
              "      <td>66</td>\n",
              "      <td>6</td>\n",
              "      <td>1</td>\n",
              "      <td>1</td>\n",
              "      <td>0</td>\n",
              "      <td>0</td>\n",
              "      <td>1</td>\n",
              "      <td>1</td>\n",
              "      <td>1</td>\n",
              "      <td>0</td>\n",
              "      <td>0</td>\n",
              "      <td>55</td>\n",
              "      <td>2.3</td>\n",
              "      <td>0.241379</td>\n",
              "      <td>9.4</td>\n",
              "      <td>1</td>\n",
              "    </tr>\n",
              "    <tr>\n",
              "      <th>1</th>\n",
              "      <td>https://www.xporn.eventfreex.com/</td>\n",
              "      <td>25</td>\n",
              "      <td>0</td>\n",
              "      <td>0</td>\n",
              "      <td>0</td>\n",
              "      <td>0</td>\n",
              "      <td>0</td>\n",
              "      <td>0</td>\n",
              "      <td>3</td>\n",
              "      <td>0</td>\n",
              "      <td>0</td>\n",
              "      <td>0</td>\n",
              "      <td>0</td>\n",
              "      <td>0</td>\n",
              "      <td>21</td>\n",
              "      <td>1</td>\n",
              "      <td>22</td>\n",
              "      <td>4</td>\n",
              "      <td>1</td>\n",
              "      <td>1</td>\n",
              "      <td>0</td>\n",
              "      <td>0</td>\n",
              "      <td>3</td>\n",
              "      <td>1</td>\n",
              "      <td>3</td>\n",
              "      <td>0</td>\n",
              "      <td>0</td>\n",
              "      <td>1</td>\n",
              "      <td>21.0</td>\n",
              "      <td>0.315789</td>\n",
              "      <td>5.4</td>\n",
              "      <td>1</td>\n",
              "    </tr>\n",
              "    <tr>\n",
              "      <th>2</th>\n",
              "      <td>https://upapage.000webhostapp.com/set.html</td>\n",
              "      <td>34</td>\n",
              "      <td>0</td>\n",
              "      <td>0</td>\n",
              "      <td>0</td>\n",
              "      <td>0</td>\n",
              "      <td>0</td>\n",
              "      <td>0</td>\n",
              "      <td>3</td>\n",
              "      <td>0</td>\n",
              "      <td>0</td>\n",
              "      <td>0</td>\n",
              "      <td>0</td>\n",
              "      <td>0</td>\n",
              "      <td>27</td>\n",
              "      <td>3</td>\n",
              "      <td>30</td>\n",
              "      <td>4</td>\n",
              "      <td>1</td>\n",
              "      <td>1</td>\n",
              "      <td>0</td>\n",
              "      <td>0</td>\n",
              "      <td>2</td>\n",
              "      <td>3</td>\n",
              "      <td>2</td>\n",
              "      <td>0</td>\n",
              "      <td>0</td>\n",
              "      <td>9</td>\n",
              "      <td>9.0</td>\n",
              "      <td>0.360000</td>\n",
              "      <td>6.4</td>\n",
              "      <td>1</td>\n",
              "    </tr>\n",
              "    <tr>\n",
              "      <th>3</th>\n",
              "      <td>https://upapage.000webhostapp.com/sets.html?=1...</td>\n",
              "      <td>115</td>\n",
              "      <td>0</td>\n",
              "      <td>0</td>\n",
              "      <td>0</td>\n",
              "      <td>0</td>\n",
              "      <td>0</td>\n",
              "      <td>0</td>\n",
              "      <td>3</td>\n",
              "      <td>0</td>\n",
              "      <td>4</td>\n",
              "      <td>1</td>\n",
              "      <td>5</td>\n",
              "      <td>0</td>\n",
              "      <td>87</td>\n",
              "      <td>15</td>\n",
              "      <td>102</td>\n",
              "      <td>13</td>\n",
              "      <td>1</td>\n",
              "      <td>1</td>\n",
              "      <td>0</td>\n",
              "      <td>0</td>\n",
              "      <td>2</td>\n",
              "      <td>3</td>\n",
              "      <td>2</td>\n",
              "      <td>4</td>\n",
              "      <td>80</td>\n",
              "      <td>10</td>\n",
              "      <td>5.8</td>\n",
              "      <td>0.321839</td>\n",
              "      <td>14.5</td>\n",
              "      <td>1</td>\n",
              "    </tr>\n",
              "    <tr>\n",
              "      <th>4</th>\n",
              "      <td>https://f.samsung-lucky-winner.xyz/</td>\n",
              "      <td>27</td>\n",
              "      <td>0</td>\n",
              "      <td>0</td>\n",
              "      <td>0</td>\n",
              "      <td>0</td>\n",
              "      <td>0</td>\n",
              "      <td>0</td>\n",
              "      <td>2</td>\n",
              "      <td>2</td>\n",
              "      <td>0</td>\n",
              "      <td>0</td>\n",
              "      <td>0</td>\n",
              "      <td>0</td>\n",
              "      <td>22</td>\n",
              "      <td>1</td>\n",
              "      <td>23</td>\n",
              "      <td>5</td>\n",
              "      <td>2</td>\n",
              "      <td>1</td>\n",
              "      <td>0</td>\n",
              "      <td>0</td>\n",
              "      <td>2</td>\n",
              "      <td>1</td>\n",
              "      <td>4</td>\n",
              "      <td>0</td>\n",
              "      <td>0</td>\n",
              "      <td>1</td>\n",
              "      <td>22.0</td>\n",
              "      <td>0.227273</td>\n",
              "      <td>5.8</td>\n",
              "      <td>1</td>\n",
              "    </tr>\n",
              "  </tbody>\n",
              "</table>\n",
              "</div>"
            ],
            "text/plain": [
              "                                                 url  ...  label\n",
              "0  https://2bittechnology.in/js/mfilealldom/mfile...  ...      1\n",
              "1                  https://www.xporn.eventfreex.com/  ...      1\n",
              "2         https://upapage.000webhostapp.com/set.html  ...      1\n",
              "3  https://upapage.000webhostapp.com/sets.html?=1...  ...      1\n",
              "4                https://f.samsung-lucky-winner.xyz/  ...      1\n",
              "\n",
              "[5 rows x 32 columns]"
            ]
          },
          "metadata": {
            "tags": []
          },
          "execution_count": 2
        }
      ]
    },
    {
      "cell_type": "code",
      "metadata": {
        "id": "usg9mcyCZRkr"
      },
      "source": [
        "data.drop('url',axis=1,inplace=True)"
      ],
      "execution_count": null,
      "outputs": []
    },
    {
      "cell_type": "code",
      "metadata": {
        "colab": {
          "base_uri": "https://localhost:8080/"
        },
        "id": "aT8TEDHiZfR1",
        "outputId": "ccf204ff-3950-4d78-ca39-99a7b885851f"
      },
      "source": [
        "data.shape"
      ],
      "execution_count": null,
      "outputs": [
        {
          "output_type": "execute_result",
          "data": {
            "text/plain": [
              "(997429, 31)"
            ]
          },
          "metadata": {
            "tags": []
          },
          "execution_count": 4
        }
      ]
    },
    {
      "cell_type": "code",
      "metadata": {
        "colab": {
          "base_uri": "https://localhost:8080/"
        },
        "id": "NFNSRZxkZhkR",
        "outputId": "1db2513a-7b74-45b7-bb69-edc8724e62af"
      },
      "source": [
        "data.isnull().sum().sum()"
      ],
      "execution_count": null,
      "outputs": [
        {
          "output_type": "execute_result",
          "data": {
            "text/plain": [
              "0"
            ]
          },
          "metadata": {
            "tags": []
          },
          "execution_count": 5
        }
      ]
    },
    {
      "cell_type": "code",
      "metadata": {
        "colab": {
          "base_uri": "https://localhost:8080/"
        },
        "id": "itqN2GxJZmRh",
        "outputId": "2ada355d-edf4-4323-e4b3-020a13654a3f"
      },
      "source": [
        "data.label.value_counts()"
      ],
      "execution_count": null,
      "outputs": [
        {
          "output_type": "execute_result",
          "data": {
            "text/plain": [
              "0    736664\n",
              "1    260765\n",
              "Name: label, dtype: int64"
            ]
          },
          "metadata": {
            "tags": []
          },
          "execution_count": 6
        }
      ]
    },
    {
      "cell_type": "code",
      "metadata": {
        "colab": {
          "base_uri": "https://localhost:8080/",
          "height": 212
        },
        "id": "tNQKKQPwZw2Z",
        "outputId": "510a4a60-2b26-442f-ea7d-328bbe757a97"
      },
      "source": [
        "data.label.value_counts().plot(kind=\"pie\", autopct='%.1f%%', figsize=(3,3))"
      ],
      "execution_count": null,
      "outputs": [
        {
          "output_type": "execute_result",
          "data": {
            "text/plain": [
              "<matplotlib.axes._subplots.AxesSubplot at 0x7fee6be60ac8>"
            ]
          },
          "metadata": {
            "tags": []
          },
          "execution_count": 7
        },
        {
          "output_type": "display_data",
          "data": {
            "image/png": "[encoded data removed]",
            "text/plain": [
              "<Figure size 216x216 with 1 Axes>"
            ]
          },
          "metadata": {
            "tags": []
          }
        }
      ]
    },
    {
      "cell_type": "code",
      "metadata": {
        "colab": {
          "base_uri": "https://localhost:8080/"
        },
        "id": "GWiBjkG4aUxq",
        "outputId": "d992042c-ad4f-4d98-d1cd-8d3242dd1cbc"
      },
      "source": [
        "data.info()"
      ],
      "execution_count": null,
      "outputs": [
        {
          "output_type": "stream",
          "text": [
            "<class 'pandas.core.frame.DataFrame'>\n",
            "RangeIndex: 997429 entries, 0 to 997428\n",
            "Data columns (total 31 columns):\n",
            " #   Column                       Non-Null Count   Dtype  \n",
            "---  ------                       --------------   -----  \n",
            " 0   url_len                      997429 non-null  int64  \n",
            " 1   count_comma                  997429 non-null  int64  \n",
            " 2   count_semicolon              997429 non-null  int64  \n",
            " 3   count_quotes                 997429 non-null  int64  \n",
            " 4   count_braces                 997429 non-null  int64  \n",
            " 5   count_redirects              997429 non-null  int64  \n",
            " 6   count_pipes                  997429 non-null  int64  \n",
            " 7   count_dots                   997429 non-null  int64  \n",
            " 8   count_dash                   997429 non-null  int64  \n",
            " 9   count_underline              997429 non-null  int64  \n",
            " 10  count_question               997429 non-null  int64  \n",
            " 11  count_equal                  997429 non-null  int64  \n",
            " 12  count_attherate              997429 non-null  int64  \n",
            " 13  count_char                   997429 non-null  int64  \n",
            " 14  count_digit                  997429 non-null  int64  \n",
            " 15  count_alphanumeric           997429 non-null  int64  \n",
            " 16  count_non_alphanumeric       997429 non-null  int64  \n",
            " 17  count_tlds                   997429 non-null  int64  \n",
            " 18  host_has_ip                  997429 non-null  int64  \n",
            " 19  present_ip                   997429 non-null  int64  \n",
            " 20  present_http                 997429 non-null  int64  \n",
            " 21  count_dots_host              997429 non-null  int64  \n",
            " 22  count_digit_host             997429 non-null  int64  \n",
            " 23  count_non_alphanumeric_host  997429 non-null  int64  \n",
            " 24  parameter_count              997429 non-null  int64  \n",
            " 25  parameter_length             997429 non-null  int64  \n",
            " 26  directory_len                997429 non-null  int64  \n",
            " 27  digit_char_ratio             997429 non-null  float64\n",
            " 28  vowel_consonant_ratio        997429 non-null  float64\n",
            " 29  avg_len_token                997429 non-null  float64\n",
            " 30  label                        997429 non-null  int64  \n",
            "dtypes: float64(3), int64(28)\n",
            "memory usage: 235.9 MB\n"
          ],
          "name": "stdout"
        }
      ]
    },
    {
      "cell_type": "code",
      "metadata": {
        "colab": {
          "base_uri": "https://localhost:8080/",
          "height": 764
        },
        "id": "ZSX7YMMLj9Vj",
        "outputId": "4a991dc5-f435-40d5-d107-06d7cee6672c"
      },
      "source": [
        "float_column = data.dtypes[data.dtypes=='float64'].index\r\n",
        "for x in float_column:\r\n",
        "  plt.figure()\r\n",
        "  data.boxplot([x])\r\n"
      ],
      "execution_count": null,
      "outputs": [
        {
          "output_type": "display_data",
          "data": {
            "image/png": "[encoded data removed]",
            "text/plain": [
              "<Figure size 432x288 with 1 Axes>"
            ]
          },
          "metadata": {
            "tags": [],
            "needs_background": "light"
          }
        },
        {
          "output_type": "display_data",
          "data": {
            "image/png": "[encoded data removed]",
            "text/plain": [
              "<Figure size 432x288 with 1 Axes>"
            ]
          },
          "metadata": {
            "tags": [],
            "needs_background": "light"
          }
        },
        {
          "output_type": "display_data",
          "data": {
            "image/png": "[encoded data removed]",
            "text/plain": [
              "<Figure size 432x288 with 1 Axes>"
            ]
          },
          "metadata": {
            "tags": [],
            "needs_background": "light"
          }
        }
      ]
    },
    {
      "cell_type": "code",
      "metadata": {
        "id": "zWDUxKDkkZ-r"
      },
      "source": [
        "for x in float_column:\r\n",
        "  desc = data[x].describe()\r\n",
        "  IQR = desc['75%']- desc['25%']\r\n",
        "  UT = desc['75%']+1.5*IQR\r\n",
        "  LT = desc['25%']-1.5*IQR\r\n",
        "  data[x][data[x]>UT] = UT"
      ],
      "execution_count": null,
      "outputs": []
    },
    {
      "cell_type": "code",
      "metadata": {
        "colab": {
          "base_uri": "https://localhost:8080/",
          "height": 767
        },
        "id": "cfLKbsDPkn8i",
        "outputId": "3ada5bed-3c7b-40aa-a0f2-f2d1b4f2adc3"
      },
      "source": [
        "float_column = data.dtypes[data.dtypes=='float64'].index\r\n",
        "for x in float_column:\r\n",
        "  plt.figure()\r\n",
        "  data.boxplot([x])"
      ],
      "execution_count": null,
      "outputs": [
        {
          "output_type": "display_data",
          "data": {
            "image/png": "[encoded data removed]",
            "text/plain": [
              "<Figure size 432x288 with 1 Axes>"
            ]
          },
          "metadata": {
            "tags": [],
            "needs_background": "light"
          }
        },
        {
          "output_type": "display_data",
          "data": {
            "image/png": "[encoded data removed]",
            "text/plain": [
              "<Figure size 432x288 with 1 Axes>"
            ]
          },
          "metadata": {
            "tags": [],
            "needs_background": "light"
          }
        },
        {
          "output_type": "display_data",
          "data": {
            "image/png": "[encoded data removed]",
            "text/plain": [
              "<Figure size 432x288 with 1 Axes>"
            ]
          },
          "metadata": {
            "tags": [],
            "needs_background": "light"
          }
        }
      ]
    },
    {
      "cell_type": "code",
      "metadata": {
        "colab": {
          "base_uri": "https://localhost:8080/"
        },
        "id": "GEou04MwkwQ8",
        "outputId": "37156c63-0aaf-4f57-e7db-e4bf421fb2cc"
      },
      "source": [
        "data.columns"
      ],
      "execution_count": null,
      "outputs": [
        {
          "output_type": "execute_result",
          "data": {
            "text/plain": [
              "Index(['url_len', 'count_comma', 'count_semicolon', 'count_quotes',\n",
              "       'count_braces', 'count_redirects', 'count_pipes', 'count_dots',\n",
              "       'count_dash', 'count_underline', 'count_question', 'count_equal',\n",
              "       'count_attherate', 'count_char', 'count_digit', 'count_alphanumeric',\n",
              "       'count_non_alphanumeric', 'count_tlds', 'host_has_ip', 'present_ip',\n",
              "       'present_http', 'count_dots_host', 'count_digit_host',\n",
              "       'count_non_alphanumeric_host', 'parameter_count', 'parameter_length',\n",
              "       'directory_len', 'digit_char_ratio', 'vowel_consonant_ratio',\n",
              "       'avg_len_token', 'label'],\n",
              "      dtype='object')"
            ]
          },
          "metadata": {
            "tags": []
          },
          "execution_count": 12
        }
      ]
    },
    {
      "cell_type": "code",
      "metadata": {
        "id": "9UBf7Y8Zkvff"
      },
      "source": [
        "for x in float_column:\r\n",
        "  desc = data['vowel_consonant_ratio'].describe()\r\n",
        "  IQR = desc['75%']- desc['25%']\r\n",
        "  UT = desc['75%']+1.5*IQR\r\n",
        "  LT = desc['25%']-1.5*IQR\r\n",
        "  data['vowel_consonant_ratio'][data['vowel_consonant_ratio']<UT] = UT"
      ],
      "execution_count": null,
      "outputs": []
    },
    {
      "cell_type": "code",
      "metadata": {
        "colab": {
          "base_uri": "https://localhost:8080/",
          "height": 767
        },
        "id": "MRKXYCrZnL1a",
        "outputId": "7b853696-446c-4624-9b0c-c727b97019e2"
      },
      "source": [
        "float_column = data.dtypes[data.dtypes=='float64'].index\r\n",
        "for x in float_column:\r\n",
        "  plt.figure()\r\n",
        "  data.boxplot([x])"
      ],
      "execution_count": null,
      "outputs": [
        {
          "output_type": "display_data",
          "data": {
            "image/png": "[encoded data removed]",
            "text/plain": [
              "<Figure size 432x288 with 1 Axes>"
            ]
          },
          "metadata": {
            "tags": [],
            "needs_background": "light"
          }
        },
        {
          "output_type": "display_data",
          "data": {
            "image/png": "[encoded data removed]",
            "text/plain": [
              "<Figure size 432x288 with 1 Axes>"
            ]
          },
          "metadata": {
            "tags": [],
            "needs_background": "light"
          }
        },
        {
          "output_type": "display_data",
          "data": {
            "image/png": "[encoded data removed]",
            "text/plain": [
              "<Figure size 432x288 with 1 Axes>"
            ]
          },
          "metadata": {
            "tags": [],
            "needs_background": "light"
          }
        }
      ]
    },
    {
      "cell_type": "code",
      "metadata": {
        "colab": {
          "base_uri": "https://localhost:8080/",
          "height": 767
        },
        "id": "Fx5FEGGsnN9L",
        "outputId": "310fe1a3-00f3-45ed-83e4-6298cb3b0d59"
      },
      "source": [
        "int_column = data.dtypes[data.dtypes=='int64'].index\r\n",
        "for x in float_column:\r\n",
        "  plt.figure()\r\n",
        "  data.boxplot([x])"
      ],
      "execution_count": null,
      "outputs": [
        {
          "output_type": "display_data",
          "data": {
            "image/png": "[encoded data removed]",
            "text/plain": [
              "<Figure size 432x288 with 1 Axes>"
            ]
          },
          "metadata": {
            "tags": [],
            "needs_background": "light"
          }
        },
        {
          "output_type": "display_data",
          "data": {
            "image/png": "[encoded data removed]",
            "text/plain": [
              "<Figure size 432x288 with 1 Axes>"
            ]
          },
          "metadata": {
            "tags": [],
            "needs_background": "light"
          }
        },
        {
          "output_type": "display_data",
          "data": {
            "image/png": "[encoded data removed]",
            "text/plain": [
              "<Figure size 432x288 with 1 Axes>"
            ]
          },
          "metadata": {
            "tags": [],
            "needs_background": "light"
          }
        }
      ]
    },
    {
      "cell_type": "code",
      "metadata": {
        "id": "FATJgjacnlYL"
      },
      "source": [
        "for x in int_column:\r\n",
        "  desc = data[x].describe()\r\n",
        "  IQR = desc['75%']- desc['25%']\r\n",
        "  UT = desc['75%']+1.5*IQR\r\n",
        "  LT = desc['25%']-1.5*IQR\r\n",
        "  data[x][data[x]>UT] = UT"
      ],
      "execution_count": null,
      "outputs": []
    },
    {
      "cell_type": "code",
      "metadata": {
        "colab": {
          "base_uri": "https://localhost:8080/",
          "height": 767
        },
        "id": "WXVLGh3Enxyx",
        "outputId": "b9a2f6f9-7982-4840-9b18-a2b68f8bcbd7"
      },
      "source": [
        "int_column = data.dtypes[data.dtypes=='int64'].index\r\n",
        "for x in float_column:\r\n",
        "  plt.figure()\r\n",
        "  data.boxplot([x])"
      ],
      "execution_count": null,
      "outputs": [
        {
          "output_type": "display_data",
          "data": {
            "image/png": "[encoded data removed]",
            "text/plain": [
              "<Figure size 432x288 with 1 Axes>"
            ]
          },
          "metadata": {
            "tags": [],
            "needs_background": "light"
          }
        },
        {
          "output_type": "display_data",
          "data": {
            "image/png": "[encoded data removed]",
            "text/plain": [
              "<Figure size 432x288 with 1 Axes>"
            ]
          },
          "metadata": {
            "tags": [],
            "needs_background": "light"
          }
        },
        {
          "output_type": "display_data",
          "data": {
            "image/png": "[encoded data removed]",
            "text/plain": [
              "<Figure size 432x288 with 1 Axes>"
            ]
          },
          "metadata": {
            "tags": [],
            "needs_background": "light"
          }
        }
      ]
    },
    {
      "cell_type": "code",
      "metadata": {
        "colab": {
          "base_uri": "https://localhost:8080/",
          "height": 755
        },
        "id": "4j7oGvZ6ofII",
        "outputId": "fca463ed-7efa-423c-9117-d4be8d97256c"
      },
      "source": [
        "cormat = data.corr()\r\n",
        "fig,ax = plt.subplots()\r\n",
        "fig.set_size_inches(10,10)\r\n",
        "sns.heatmap(cormat)"
      ],
      "execution_count": null,
      "outputs": [
        {
          "output_type": "execute_result",
          "data": {
            "text/plain": [
              "<matplotlib.axes._subplots.AxesSubplot at 0x7fee6aaa2e80>"
            ]
          },
          "metadata": {
            "tags": []
          },
          "execution_count": 18
        },
        {
          "output_type": "display_data",
          "data": {
            "image/png": "[encoded data removed]",
            "text/plain": [
              "<Figure size 720x720 with 2 Axes>"
            ]
          },
          "metadata": {
            "tags": [],
            "needs_background": "light"
          }
        }
      ]
    },
    {
      "cell_type": "code",
      "metadata": {
        "colab": {
          "base_uri": "https://localhost:8080/"
        },
        "id": "XrCqpFnApgnt",
        "outputId": "4a33427f-f329-4b57-8f06-a9646915e798"
      },
      "source": [
        "data.shape"
      ],
      "execution_count": null,
      "outputs": [
        {
          "output_type": "execute_result",
          "data": {
            "text/plain": [
              "(997429, 31)"
            ]
          },
          "metadata": {
            "tags": []
          },
          "execution_count": 19
        }
      ]
    },
    {
      "cell_type": "code",
      "metadata": {
        "colab": {
          "base_uri": "https://localhost:8080/"
        },
        "id": "KLbLc66yr7YR",
        "outputId": "89bd9da3-a023-43c8-ac36-1091c68cd863"
      },
      "source": [
        "def correlation(data, threshold):\r\n",
        "  col_corr = set()\r\n",
        "  corr_matrix = data.corr()\r\n",
        "  for i in range(len(corr_matrix.columns)):\r\n",
        "    for j in range(i):\r\n",
        "      if abs(corr_matrix.iloc[i,j]>threshold):\r\n",
        "        col_name = corr_matrix.columns[i]\r\n",
        "        col_corr.add(col_name)\r\n",
        "  return col_corr\r\n",
        "\r\n",
        "corr_features = correlation(data,0.85)\r\n",
        "len(set(corr_features))\r\n",
        "corr_features \r\n"
      ],
      "execution_count": null,
      "outputs": [
        {
          "output_type": "execute_result",
          "data": {
            "text/plain": [
              "{'avg_len_token',\n",
              " 'count_alphanumeric',\n",
              " 'count_char',\n",
              " 'count_non_alphanumeric',\n",
              " 'count_non_alphanumeric_host'}"
            ]
          },
          "metadata": {
            "tags": []
          },
          "execution_count": 20
        }
      ]
    },
    {
      "cell_type": "code",
      "metadata": {
        "id": "0jdLw3tdsA2g"
      },
      "source": [
        "data.drop(corr_features,axis=1,inplace=True)"
      ],
      "execution_count": null,
      "outputs": []
    },
    {
      "cell_type": "code",
      "metadata": {
        "colab": {
          "base_uri": "https://localhost:8080/"
        },
        "id": "bz441J_hsMfL",
        "outputId": "b2c716fd-6703-4ad4-f024-6b5495784e1a"
      },
      "source": [
        "data.shape"
      ],
      "execution_count": null,
      "outputs": [
        {
          "output_type": "execute_result",
          "data": {
            "text/plain": [
              "(997429, 26)"
            ]
          },
          "metadata": {
            "tags": []
          },
          "execution_count": 22
        }
      ]
    },
    {
      "cell_type": "code",
      "metadata": {
        "id": "IFjvctTDsWhr"
      },
      "source": [
        "x = data.drop('label',axis=1)"
      ],
      "execution_count": null,
      "outputs": []
    },
    {
      "cell_type": "code",
      "metadata": {
        "id": "ZjeZ2RbNsd8I"
      },
      "source": [
        "y= data['label']"
      ],
      "execution_count": null,
      "outputs": []
    },
    {
      "cell_type": "code",
      "metadata": {
        "id": "kjtGxeIOsis-"
      },
      "source": [
        "smk = SMOTETomek(random_state=42)\r\n",
        "x_res,y_res = smk.fit_sample(x,y)"
      ],
      "execution_count": null,
      "outputs": []
    },
    {
      "cell_type": "code",
      "metadata": {
        "colab": {
          "base_uri": "https://localhost:8080/"
        },
        "id": "xzHn8hnssmro",
        "outputId": "9f6c21cd-c6c2-4475-ef29-2fc7b39d5ce3"
      },
      "source": [
        "x_res.shape,y_res.shape"
      ],
      "execution_count": null,
      "outputs": [
        {
          "output_type": "execute_result",
          "data": {
            "text/plain": [
              "((1468140, 25), (1468140,))"
            ]
          },
          "metadata": {
            "tags": []
          },
          "execution_count": 26
        }
      ]
    },
    {
      "cell_type": "code",
      "metadata": {
        "colab": {
          "base_uri": "https://localhost:8080/"
        },
        "id": "SYp_AM-vsrdJ",
        "outputId": "462febfb-46b7-4f08-bf7c-9fcbe1db4c27"
      },
      "source": [
        "print(\"Orginal data {}\".format(Counter(y)))\r\n",
        "print(\"Smotetomek data {}\".format(Counter(y_res)))"
      ],
      "execution_count": null,
      "outputs": [
        {
          "output_type": "stream",
          "text": [
            "Orginal data Counter({0: 736664, 1: 260765})\n",
            "Smotetomek data Counter({1: 734070, 0: 734070})\n"
          ],
          "name": "stdout"
        }
      ]
    },
    {
      "cell_type": "code",
      "metadata": {
        "id": "Gfhr1hrA2CF6"
      },
      "source": [
        "x_train,x_test,y_train,y_test = train_test_split(x_res,y_res,test_size = 0.30,random_state = 42)"
      ],
      "execution_count": null,
      "outputs": []
    },
    {
      "cell_type": "code",
      "metadata": {
        "id": "FcpV78KEuZhB"
      },
      "source": [
        "Pca =  PCA(n_components=5)"
      ],
      "execution_count": null,
      "outputs": []
    },
    {
      "cell_type": "code",
      "metadata": {
        "id": "tbnizpYo2u5b"
      },
      "source": [
        "x_train = Pca.fit_transform(x_train)"
      ],
      "execution_count": null,
      "outputs": []
    },
    {
      "cell_type": "code",
      "metadata": {
        "colab": {
          "base_uri": "https://localhost:8080/"
        },
        "id": "WUpL9YPI34Ty",
        "outputId": "e639d20a-963e-4573-86d8-743a490bdb47"
      },
      "source": [
        "x_train.shape"
      ],
      "execution_count": null,
      "outputs": [
        {
          "output_type": "execute_result",
          "data": {
            "text/plain": [
              "(1027698, 5)"
            ]
          },
          "metadata": {
            "tags": []
          },
          "execution_count": 31
        }
      ]
    },
    {
      "cell_type": "code",
      "metadata": {
        "id": "H5TglS2Y35s9"
      },
      "source": [
        "x_test = Pca.transform(x_test)"
      ],
      "execution_count": null,
      "outputs": []
    },
    {
      "cell_type": "code",
      "metadata": {
        "colab": {
          "base_uri": "https://localhost:8080/"
        },
        "id": "wJeiWxwy4BC6",
        "outputId": "ff799f0c-e0d9-4c15-c446-36adbe132d14"
      },
      "source": [
        "x_test.shape"
      ],
      "execution_count": null,
      "outputs": [
        {
          "output_type": "execute_result",
          "data": {
            "text/plain": [
              "(440442, 5)"
            ]
          },
          "metadata": {
            "tags": []
          },
          "execution_count": 33
        }
      ]
    },
    {
      "cell_type": "code",
      "metadata": {
        "id": "GZtBwgs74DIW"
      },
      "source": [
        "svc = SVC()"
      ],
      "execution_count": null,
      "outputs": []
    },
    {
      "cell_type": "code",
      "metadata": {
        "id": "9AAV6jt87tMC"
      },
      "source": [
        "# parameters = {'C':[0.001,0.1,10],'gamma':[0.1,0.01],'kernal':['linear', 'rbf', 'sigmoid']}"
      ],
      "execution_count": null,
      "outputs": []
    },
    {
      "cell_type": "code",
      "metadata": {
        "id": "1SYzjLzYEns-"
      },
      "source": [
        "Parameters = [{'kernel': ['rbf'], 'gamma': [1e-3, 1e-4],\r\n",
        "                     'C': [1, 10, 20]},\r\n",
        "                    {'kernel': ['linear'], 'C': [1, 10, 20]}]"
      ],
      "execution_count": null,
      "outputs": []
    },
    {
      "cell_type": "code",
      "metadata": {
        "id": "QWWMbPku9Bfz"
      },
      "source": [
        "grid = GridSearchCV(estimator=svc,param_grid=Parameters,cv=5,n_jobs=-1)"
      ],
      "execution_count": null,
      "outputs": []
    },
    {
      "cell_type": "code",
      "metadata": {
        "id": "f0kL27Ra9KyF"
      },
      "source": [
        "grid.fit(x_train,y_train)"
      ],
      "execution_count": null,
      "outputs": []
    }
  ]
}