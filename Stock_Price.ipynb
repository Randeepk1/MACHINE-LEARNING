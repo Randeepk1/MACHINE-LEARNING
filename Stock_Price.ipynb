{
  "nbformat": 4,
  "nbformat_minor": 0,
  "metadata": {
    "colab": {
      "name": "Stock Price",
      "provenance": []
    },
    "kernelspec": {
      "name": "python3",
      "display_name": "Python 3"
    }
  },
  "cells": [
    {
      "cell_type": "code",
      "metadata": {
        "id": "NwZ_sE-KXT0J",
        "colab_type": "code",
        "colab": {
          "base_uri": "https://localhost:8080/",
          "height": 455
        },
        "outputId": "75de0b23-d6ec-48fc-8730-2978c11d9ab2"
      },
      "source": [
        "import pandas as pd\n",
        "import numpy as np\n",
        "import matplotlib.pyplot as plt\n",
        "%matplotlib inline\n",
        "import seaborn as sns\n",
        "from sklearn.linear_model import LinearRegression\n",
        "from sklearn.model_selection import train_test_split\n",
        "from sklearn.preprocessing import LabelEncoder\n",
        "from sklearn.preprocessing import StandardScaler\n",
        "import math\n",
        "from sklearn import metrics\n",
        "from sklearn.metrics import accuracy_score\n",
        "data = pd.read_csv(\"/content/CSV.csv\",parse_dates=[\"Date\"],index_col='Date')\n",
        "data\n",
        "# type(data.Date[0])"
      ],
      "execution_count": 129,
      "outputs": [
        {
          "output_type": "execute_result",
          "data": {
            "text/html": [
              "<div>\n",
              "<style scoped>\n",
              "    .dataframe tbody tr th:only-of-type {\n",
              "        vertical-align: middle;\n",
              "    }\n",
              "\n",
              "    .dataframe tbody tr th {\n",
              "        vertical-align: top;\n",
              "    }\n",
              "\n",
              "    .dataframe thead th {\n",
              "        text-align: right;\n",
              "    }\n",
              "</style>\n",
              "<table border=\"1\" class=\"dataframe\">\n",
              "  <thead>\n",
              "    <tr style=\"text-align: right;\">\n",
              "      <th></th>\n",
              "      <th>Open</th>\n",
              "      <th>High</th>\n",
              "      <th>Low</th>\n",
              "      <th>Close</th>\n",
              "      <th>Adj Close</th>\n",
              "      <th>Volume</th>\n",
              "    </tr>\n",
              "    <tr>\n",
              "      <th>Date</th>\n",
              "      <th></th>\n",
              "      <th></th>\n",
              "      <th></th>\n",
              "      <th></th>\n",
              "      <th></th>\n",
              "      <th></th>\n",
              "    </tr>\n",
              "  </thead>\n",
              "  <tbody>\n",
              "    <tr>\n",
              "      <th>2019-06-26</th>\n",
              "      <td>18.760000</td>\n",
              "      <td>18.770000</td>\n",
              "      <td>18.510000</td>\n",
              "      <td>18.730000</td>\n",
              "      <td>18.463934</td>\n",
              "      <td>48700</td>\n",
              "    </tr>\n",
              "    <tr>\n",
              "      <th>2019-06-27</th>\n",
              "      <td>18.719999</td>\n",
              "      <td>18.920000</td>\n",
              "      <td>18.510000</td>\n",
              "      <td>18.820000</td>\n",
              "      <td>18.552654</td>\n",
              "      <td>60600</td>\n",
              "    </tr>\n",
              "    <tr>\n",
              "      <th>2019-06-28</th>\n",
              "      <td>18.820000</td>\n",
              "      <td>19.080000</td>\n",
              "      <td>18.740000</td>\n",
              "      <td>19.010000</td>\n",
              "      <td>18.739958</td>\n",
              "      <td>295200</td>\n",
              "    </tr>\n",
              "    <tr>\n",
              "      <th>2019-07-01</th>\n",
              "      <td>19.070000</td>\n",
              "      <td>19.219999</td>\n",
              "      <td>18.570000</td>\n",
              "      <td>18.670000</td>\n",
              "      <td>18.404787</td>\n",
              "      <td>97400</td>\n",
              "    </tr>\n",
              "    <tr>\n",
              "      <th>2019-07-02</th>\n",
              "      <td>18.730000</td>\n",
              "      <td>18.870001</td>\n",
              "      <td>18.549999</td>\n",
              "      <td>18.840000</td>\n",
              "      <td>18.572371</td>\n",
              "      <td>42800</td>\n",
              "    </tr>\n",
              "    <tr>\n",
              "      <th>...</th>\n",
              "      <td>...</td>\n",
              "      <td>...</td>\n",
              "      <td>...</td>\n",
              "      <td>...</td>\n",
              "      <td>...</td>\n",
              "      <td>...</td>\n",
              "    </tr>\n",
              "    <tr>\n",
              "      <th>2020-06-19</th>\n",
              "      <td>19.360001</td>\n",
              "      <td>19.389999</td>\n",
              "      <td>18.660000</td>\n",
              "      <td>19.120001</td>\n",
              "      <td>19.120001</td>\n",
              "      <td>213100</td>\n",
              "    </tr>\n",
              "    <tr>\n",
              "      <th>2020-06-22</th>\n",
              "      <td>19.260000</td>\n",
              "      <td>19.260000</td>\n",
              "      <td>18.540001</td>\n",
              "      <td>18.980000</td>\n",
              "      <td>18.980000</td>\n",
              "      <td>203100</td>\n",
              "    </tr>\n",
              "    <tr>\n",
              "      <th>2020-06-23</th>\n",
              "      <td>19.219999</td>\n",
              "      <td>19.219999</td>\n",
              "      <td>18.639999</td>\n",
              "      <td>18.670000</td>\n",
              "      <td>18.670000</td>\n",
              "      <td>91900</td>\n",
              "    </tr>\n",
              "    <tr>\n",
              "      <th>2020-06-24</th>\n",
              "      <td>18.480000</td>\n",
              "      <td>18.540001</td>\n",
              "      <td>18.080000</td>\n",
              "      <td>18.110001</td>\n",
              "      <td>18.110001</td>\n",
              "      <td>160700</td>\n",
              "    </tr>\n",
              "    <tr>\n",
              "      <th>2020-06-25</th>\n",
              "      <td>18.059999</td>\n",
              "      <td>18.059999</td>\n",
              "      <td>17.670000</td>\n",
              "      <td>18.020000</td>\n",
              "      <td>18.020000</td>\n",
              "      <td>127300</td>\n",
              "    </tr>\n",
              "  </tbody>\n",
              "</table>\n",
              "<p>253 rows × 6 columns</p>\n",
              "</div>"
            ],
            "text/plain": [
              "                 Open       High        Low      Close  Adj Close  Volume\n",
              "Date                                                                     \n",
              "2019-06-26  18.760000  18.770000  18.510000  18.730000  18.463934   48700\n",
              "2019-06-27  18.719999  18.920000  18.510000  18.820000  18.552654   60600\n",
              "2019-06-28  18.820000  19.080000  18.740000  19.010000  18.739958  295200\n",
              "2019-07-01  19.070000  19.219999  18.570000  18.670000  18.404787   97400\n",
              "2019-07-02  18.730000  18.870001  18.549999  18.840000  18.572371   42800\n",
              "...               ...        ...        ...        ...        ...     ...\n",
              "2020-06-19  19.360001  19.389999  18.660000  19.120001  19.120001  213100\n",
              "2020-06-22  19.260000  19.260000  18.540001  18.980000  18.980000  203100\n",
              "2020-06-23  19.219999  19.219999  18.639999  18.670000  18.670000   91900\n",
              "2020-06-24  18.480000  18.540001  18.080000  18.110001  18.110001  160700\n",
              "2020-06-25  18.059999  18.059999  17.670000  18.020000  18.020000  127300\n",
              "\n",
              "[253 rows x 6 columns]"
            ]
          },
          "metadata": {
            "tags": []
          },
          "execution_count": 129
        }
      ]
    },
    {
      "cell_type": "code",
      "metadata": {
        "id": "EEQnnrFxXdK3",
        "colab_type": "code",
        "colab": {
          "base_uri": "https://localhost:8080/",
          "height": 34
        },
        "outputId": "49554641-e139-4a3d-de3b-7d798ab56d62"
      },
      "source": [
        "data.shape"
      ],
      "execution_count": 3,
      "outputs": [
        {
          "output_type": "execute_result",
          "data": {
            "text/plain": [
              "(253, 7)"
            ]
          },
          "metadata": {
            "tags": []
          },
          "execution_count": 3
        }
      ]
    },
    {
      "cell_type": "code",
      "metadata": {
        "id": "eZFQcmpS0syK",
        "colab_type": "code",
        "colab": {
          "base_uri": "https://localhost:8080/",
          "height": 308
        },
        "outputId": "bbbf3eaf-0f83-4697-dc01-fdac14887e8c"
      },
      "source": [
        "data.Close.resample('M').mean().plot()"
      ],
      "execution_count": 31,
      "outputs": [
        {
          "output_type": "execute_result",
          "data": {
            "text/plain": [
              "<matplotlib.axes._subplots.AxesSubplot at 0x7fa0488098d0>"
            ]
          },
          "metadata": {
            "tags": []
          },
          "execution_count": 31
        },
        {
          "output_type": "display_data",
          "data": {
            "image/png": "[encoded data removed]",
            "text/plain": [
              "<Figure size 432x288 with 1 Axes>"
            ]
          },
          "metadata": {
            "tags": [],
            "needs_background": "light"
          }
        }
      ]
    },
    {
      "cell_type": "code",
      "metadata": {
        "id": "-ccr0Wah2D-M",
        "colab_type": "code",
        "colab": {
          "base_uri": "https://localhost:8080/",
          "height": 34
        },
        "outputId": "e21a7dd9-f284-483c-8f1b-24ae092ddb79"
      },
      "source": [
        "data.Close.dtype"
      ],
      "execution_count": 32,
      "outputs": [
        {
          "output_type": "execute_result",
          "data": {
            "text/plain": [
              "dtype('float64')"
            ]
          },
          "metadata": {
            "tags": []
          },
          "execution_count": 32
        }
      ]
    },
    {
      "cell_type": "code",
      "metadata": {
        "id": "KXAVziIpXp91",
        "colab_type": "code",
        "colab": {
          "base_uri": "https://localhost:8080/",
          "height": 243
        },
        "outputId": "6487da6c-036f-41a7-9b31-e21d2a171036"
      },
      "source": [
        "data.info()"
      ],
      "execution_count": 17,
      "outputs": [
        {
          "output_type": "stream",
          "text": [
            "<class 'pandas.core.frame.DataFrame'>\n",
            "DatetimeIndex: 253 entries, 2019-06-26 to 2020-06-25\n",
            "Data columns (total 6 columns):\n",
            " #   Column     Non-Null Count  Dtype  \n",
            "---  ------     --------------  -----  \n",
            " 0   Open       253 non-null    float64\n",
            " 1   High       253 non-null    float64\n",
            " 2   Low        253 non-null    float64\n",
            " 3   Close      253 non-null    float64\n",
            " 4   Adj Close  253 non-null    float64\n",
            " 5   Volume     253 non-null    int64  \n",
            "dtypes: float64(5), int64(1)\n",
            "memory usage: 13.8 KB\n"
          ],
          "name": "stdout"
        }
      ]
    },
    {
      "cell_type": "code",
      "metadata": {
        "id": "OcKMO-V6X-Jx",
        "colab_type": "code",
        "colab": {
          "base_uri": "https://localhost:8080/",
          "height": 1000
        },
        "outputId": "16fb3990-febd-4c2a-cbfd-a01763190cb0"
      },
      "source": [
        "\n",
        "x = data[['Open','High','Low','Volume']].values\n",
        "x\n",
        "y=data[[\"Close\"]].values\n",
        "y"
      ],
      "execution_count": 130,
      "outputs": [
        {
          "output_type": "execute_result",
          "data": {
            "text/plain": [
              "array([[18.73    ],\n",
              "       [18.82    ],\n",
              "       [19.01    ],\n",
              "       [18.67    ],\n",
              "       [18.84    ],\n",
              "       [18.950001],\n",
              "       [19.02    ],\n",
              "       [18.459999],\n",
              "       [18.23    ],\n",
              "       [18.57    ],\n",
              "       [18.379999],\n",
              "       [18.58    ],\n",
              "       [18.67    ],\n",
              "       [18.5     ],\n",
              "       [18.309999],\n",
              "       [18.200001],\n",
              "       [18.09    ],\n",
              "       [18.440001],\n",
              "       [18.469999],\n",
              "       [18.780001],\n",
              "       [18.940001],\n",
              "       [19.15    ],\n",
              "       [19.35    ],\n",
              "       [19.459999],\n",
              "       [19.120001],\n",
              "       [22.34    ],\n",
              "       [21.92    ],\n",
              "       [22.5     ],\n",
              "       [22.34    ],\n",
              "       [22.25    ],\n",
              "       [22.6     ],\n",
              "       [22.450001],\n",
              "       [22.219999],\n",
              "       [21.85    ],\n",
              "       [22.18    ],\n",
              "       [22.      ],\n",
              "       [22.49    ],\n",
              "       [22.65    ],\n",
              "       [22.200001],\n",
              "       [21.83    ],\n",
              "       [21.51    ],\n",
              "       [20.99    ],\n",
              "       [21.52    ],\n",
              "       [20.959999],\n",
              "       [21.129999],\n",
              "       [21.1     ],\n",
              "       [21.27    ],\n",
              "       [21.129999],\n",
              "       [21.08    ],\n",
              "       [21.309999],\n",
              "       [21.190001],\n",
              "       [21.389999],\n",
              "       [21.9     ],\n",
              "       [22.540001],\n",
              "       [22.450001],\n",
              "       [22.690001],\n",
              "       [22.5     ],\n",
              "       [22.639999],\n",
              "       [22.41    ],\n",
              "       [22.219999],\n",
              "       [21.76    ],\n",
              "       [21.59    ],\n",
              "       [21.280001],\n",
              "       [21.700001],\n",
              "       [21.299999],\n",
              "       [20.91    ],\n",
              "       [20.440001],\n",
              "       [20.620001],\n",
              "       [20.92    ],\n",
              "       [20.75    ],\n",
              "       [20.610001],\n",
              "       [20.620001],\n",
              "       [20.969999],\n",
              "       [20.860001],\n",
              "       [21.309999],\n",
              "       [21.299999],\n",
              "       [21.33    ],\n",
              "       [21.49    ],\n",
              "       [21.08    ],\n",
              "       [21.49    ],\n",
              "       [21.469999],\n",
              "       [21.68    ],\n",
              "       [21.389999],\n",
              "       [21.459999],\n",
              "       [21.6     ],\n",
              "       [22.      ],\n",
              "       [22.780001],\n",
              "       [26.559999],\n",
              "       [26.16    ],\n",
              "       [25.76    ],\n",
              "       [26.299999],\n",
              "       [25.629999],\n",
              "       [25.59    ],\n",
              "       [25.040001],\n",
              "       [25.42    ],\n",
              "       [24.870001],\n",
              "       [24.299999],\n",
              "       [24.709999],\n",
              "       [24.4     ],\n",
              "       [24.5     ],\n",
              "       [24.309999],\n",
              "       [24.370001],\n",
              "       [24.129999],\n",
              "       [24.200001],\n",
              "       [23.99    ],\n",
              "       [23.68    ],\n",
              "       [24.040001],\n",
              "       [24.049999],\n",
              "       [23.75    ],\n",
              "       [24.049999],\n",
              "       [24.35    ],\n",
              "       [25.4     ],\n",
              "       [26.49    ],\n",
              "       [26.33    ],\n",
              "       [26.059999],\n",
              "       [27.      ],\n",
              "       [27.08    ],\n",
              "       [27.48    ],\n",
              "       [27.620001],\n",
              "       [28.26    ],\n",
              "       [27.719999],\n",
              "       [27.33    ],\n",
              "       [27.200001],\n",
              "       [26.74    ],\n",
              "       [26.360001],\n",
              "       [26.219999],\n",
              "       [26.290001],\n",
              "       [25.780001],\n",
              "       [25.68    ],\n",
              "       [25.73    ],\n",
              "       [25.6     ],\n",
              "       [25.27    ],\n",
              "       [25.43    ],\n",
              "       [25.690001],\n",
              "       [25.32    ],\n",
              "       [25.280001],\n",
              "       [25.08    ],\n",
              "       [25.200001],\n",
              "       [25.17    ],\n",
              "       [25.309999],\n",
              "       [25.620001],\n",
              "       [25.74    ],\n",
              "       [25.690001],\n",
              "       [25.48    ],\n",
              "       [25.02    ],\n",
              "       [24.450001],\n",
              "       [24.49    ],\n",
              "       [24.42    ],\n",
              "       [24.459999],\n",
              "       [24.27    ],\n",
              "       [24.15    ],\n",
              "       [23.67    ],\n",
              "       [23.889999],\n",
              "       [24.360001],\n",
              "       [24.370001],\n",
              "       [24.549999],\n",
              "       [23.91    ],\n",
              "       [24.530001],\n",
              "       [24.73    ],\n",
              "       [24.41    ],\n",
              "       [24.75    ],\n",
              "       [24.549999],\n",
              "       [24.42    ],\n",
              "       [25.      ],\n",
              "       [22.200001],\n",
              "       [21.9     ],\n",
              "       [20.530001],\n",
              "       [20.309999],\n",
              "       [21.1     ],\n",
              "       [20.83    ],\n",
              "       [21.15    ],\n",
              "       [20.299999],\n",
              "       [19.549999],\n",
              "       [20.299999],\n",
              "       [20.9     ],\n",
              "       [20.6     ],\n",
              "       [19.299999],\n",
              "       [18.83    ],\n",
              "       [17.33    ],\n",
              "       [15.71    ],\n",
              "       [16.780001],\n",
              "       [14.07    ],\n",
              "       [15.63    ],\n",
              "       [16.17    ],\n",
              "       [15.17    ],\n",
              "       [15.46    ],\n",
              "       [14.1     ],\n",
              "       [14.99    ],\n",
              "       [14.74    ],\n",
              "       [14.24    ],\n",
              "       [15.51    ],\n",
              "       [17.09    ],\n",
              "       [16.15    ],\n",
              "       [15.72    ],\n",
              "       [14.9     ],\n",
              "       [13.96    ],\n",
              "       [14.23    ],\n",
              "       [14.73    ],\n",
              "       [15.08    ],\n",
              "       [15.72    ],\n",
              "       [15.19    ],\n",
              "       [15.4     ],\n",
              "       [14.49    ],\n",
              "       [13.8     ],\n",
              "       [14.96    ],\n",
              "       [15.21    ],\n",
              "       [14.85    ],\n",
              "       [14.83    ],\n",
              "       [14.99    ],\n",
              "       [14.75    ],\n",
              "       [15.11    ],\n",
              "       [15.91    ],\n",
              "       [17.280001],\n",
              "       [15.02    ],\n",
              "       [14.81    ],\n",
              "       [14.77    ],\n",
              "       [14.77    ],\n",
              "       [15.01    ],\n",
              "       [15.27    ],\n",
              "       [15.86    ],\n",
              "       [15.84    ],\n",
              "       [15.5     ],\n",
              "       [14.47    ],\n",
              "       [14.27    ],\n",
              "       [14.38    ],\n",
              "       [15.32    ],\n",
              "       [15.79    ],\n",
              "       [19.27    ],\n",
              "       [18.6     ],\n",
              "       [18.49    ],\n",
              "       [18.459999],\n",
              "       [18.940001],\n",
              "       [18.52    ],\n",
              "       [18.719999],\n",
              "       [18.370001],\n",
              "       [18.67    ],\n",
              "       [19.92    ],\n",
              "       [19.299999],\n",
              "       [19.799999],\n",
              "       [20.889999],\n",
              "       [20.24    ],\n",
              "       [19.67    ],\n",
              "       [18.370001],\n",
              "       [18.74    ],\n",
              "       [19.120001],\n",
              "       [19.459999],\n",
              "       [18.99    ],\n",
              "       [19.17    ],\n",
              "       [19.120001],\n",
              "       [18.98    ],\n",
              "       [18.67    ],\n",
              "       [18.110001],\n",
              "       [18.02    ]])"
            ]
          },
          "metadata": {
            "tags": []
          },
          "execution_count": 130
        }
      ]
    },
    {
      "cell_type": "code",
      "metadata": {
        "id": "hhqvllX25G1d",
        "colab_type": "code",
        "colab": {}
      },
      "source": [
        "x_train,x_test,y_train,y_test = train_test_split(x,y,test_size=0.25,random_state = 2)"
      ],
      "execution_count": 131,
      "outputs": []
    },
    {
      "cell_type": "code",
      "metadata": {
        "id": "GPaWpOOQ6TOw",
        "colab_type": "code",
        "colab": {}
      },
      "source": [
        "Linear_Reg = LinearRegression()\n",
        "fit = Linear_Reg.fit(x_train,y_train)\n"
      ],
      "execution_count": 132,
      "outputs": []
    },
    {
      "cell_type": "code",
      "metadata": {
        "id": "EF20H66yGNjR",
        "colab_type": "code",
        "colab": {
          "base_uri": "https://localhost:8080/",
          "height": 52
        },
        "outputId": "4388fcb1-1365-4e47-c7e1-bede95bb44e2"
      },
      "source": [
        "fit.coef_"
      ],
      "execution_count": 133,
      "outputs": [
        {
          "output_type": "execute_result",
          "data": {
            "text/plain": [
              "array([[-6.11419512e-01,  6.76223438e-01,  9.45799655e-01,\n",
              "         6.98924699e-07]])"
            ]
          },
          "metadata": {
            "tags": []
          },
          "execution_count": 133
        }
      ]
    },
    {
      "cell_type": "code",
      "metadata": {
        "id": "XwearfBPGUPX",
        "colab_type": "code",
        "colab": {
          "base_uri": "https://localhost:8080/",
          "height": 34
        },
        "outputId": "0409ee25-cd67-47ea-dc68-895bea9c1bf8"
      },
      "source": [
        "fit.intercept_"
      ],
      "execution_count": 134,
      "outputs": [
        {
          "output_type": "execute_result",
          "data": {
            "text/plain": [
              "array([-0.22654149])"
            ]
          },
          "metadata": {
            "tags": []
          },
          "execution_count": 134
        }
      ]
    },
    {
      "cell_type": "code",
      "metadata": {
        "id": "tRISsp-kGC3_",
        "colab_type": "code",
        "colab": {
          "base_uri": "https://localhost:8080/",
          "height": 1000
        },
        "outputId": "df65eac7-6db6-4605-cd93-9fcbe47e091e"
      },
      "source": [
        "y_pred = fit.predict(x_test)\n",
        "y_pred"
      ],
      "execution_count": 135,
      "outputs": [
        {
          "output_type": "execute_result",
          "data": {
            "text/plain": [
              "array([[22.43362776],\n",
              "       [18.62660157],\n",
              "       [25.13384399],\n",
              "       [25.13377691],\n",
              "       [24.75522143],\n",
              "       [20.91353583],\n",
              "       [21.99056721],\n",
              "       [22.29729227],\n",
              "       [18.74227708],\n",
              "       [27.72865541],\n",
              "       [14.55843938],\n",
              "       [22.62268665],\n",
              "       [25.59882253],\n",
              "       [21.59195145],\n",
              "       [20.95361399],\n",
              "       [18.3085002 ],\n",
              "       [19.02009696],\n",
              "       [20.94210154],\n",
              "       [21.3333834 ],\n",
              "       [18.71292571],\n",
              "       [16.08371183],\n",
              "       [15.33574177],\n",
              "       [25.28739324],\n",
              "       [24.13289531],\n",
              "       [19.48455704],\n",
              "       [18.90303799],\n",
              "       [25.71310453],\n",
              "       [21.49231429],\n",
              "       [19.27381217],\n",
              "       [22.57001306],\n",
              "       [21.29897056],\n",
              "       [20.02002689],\n",
              "       [25.77849146],\n",
              "       [19.00929244],\n",
              "       [22.5830727 ],\n",
              "       [16.38421298],\n",
              "       [25.13065664],\n",
              "       [26.5314596 ],\n",
              "       [26.20192004],\n",
              "       [24.29512148],\n",
              "       [15.5900461 ],\n",
              "       [15.58704108],\n",
              "       [19.29771757],\n",
              "       [14.69393299],\n",
              "       [14.9286633 ],\n",
              "       [18.19319583],\n",
              "       [22.55438175],\n",
              "       [15.20337464],\n",
              "       [18.07439168],\n",
              "       [21.08040089],\n",
              "       [14.89230869],\n",
              "       [19.45550927],\n",
              "       [21.92859312],\n",
              "       [26.97699837],\n",
              "       [27.79475745],\n",
              "       [14.5218064 ],\n",
              "       [18.49590574],\n",
              "       [25.56226996],\n",
              "       [24.61024764],\n",
              "       [18.50020939],\n",
              "       [18.48635297],\n",
              "       [20.68797721],\n",
              "       [21.21079297],\n",
              "       [25.77233515]])"
            ]
          },
          "metadata": {
            "tags": []
          },
          "execution_count": 135
        }
      ]
    },
    {
      "cell_type": "code",
      "metadata": {
        "id": "JQeDtBCOGFTV",
        "colab_type": "code",
        "colab": {
          "base_uri": "https://localhost:8080/",
          "height": 282
        },
        "outputId": "83c13ad7-18ab-4b96-9b26-8a5e52c14a50"
      },
      "source": [
        "plt.plot(y_pred)"
      ],
      "execution_count": 136,
      "outputs": [
        {
          "output_type": "execute_result",
          "data": {
            "text/plain": [
              "[<matplotlib.lines.Line2D at 0x7fa048afdcf8>]"
            ]
          },
          "metadata": {
            "tags": []
          },
          "execution_count": 136
        },
        {
          "output_type": "display_data",
          "data": {
            "image/png": "[encoded data removed]",
            "text/plain": [
              "<Figure size 432x288 with 1 Axes>"
            ]
          },
          "metadata": {
            "tags": [],
            "needs_background": "light"
          }
        }
      ]
    },
    {
      "cell_type": "code",
      "metadata": {
        "id": "Duz5Y8j_GeMI",
        "colab_type": "code",
        "colab": {
          "base_uri": "https://localhost:8080/",
          "height": 424
        },
        "outputId": "07191ee2-1902-4df7-93db-6aca59b27b11"
      },
      "source": [
        "New_dataframe = pd.DataFrame({'Actual':y_test.flatten(), 'Predicted':y_pred.flatten()})\n",
        "New_dataframe"
      ],
      "execution_count": 137,
      "outputs": [
        {
          "output_type": "execute_result",
          "data": {
            "text/html": [
              "<div>\n",
              "<style scoped>\n",
              "    .dataframe tbody tr th:only-of-type {\n",
              "        vertical-align: middle;\n",
              "    }\n",
              "\n",
              "    .dataframe tbody tr th {\n",
              "        vertical-align: top;\n",
              "    }\n",
              "\n",
              "    .dataframe thead th {\n",
              "        text-align: right;\n",
              "    }\n",
              "</style>\n",
              "<table border=\"1\" class=\"dataframe\">\n",
              "  <thead>\n",
              "    <tr style=\"text-align: right;\">\n",
              "      <th></th>\n",
              "      <th>Actual</th>\n",
              "      <th>Predicted</th>\n",
              "    </tr>\n",
              "  </thead>\n",
              "  <tbody>\n",
              "    <tr>\n",
              "      <th>0</th>\n",
              "      <td>22.540001</td>\n",
              "      <td>22.433628</td>\n",
              "    </tr>\n",
              "    <tr>\n",
              "      <th>1</th>\n",
              "      <td>18.500000</td>\n",
              "      <td>18.626602</td>\n",
              "    </tr>\n",
              "    <tr>\n",
              "      <th>2</th>\n",
              "      <td>25.020000</td>\n",
              "      <td>25.133844</td>\n",
              "    </tr>\n",
              "    <tr>\n",
              "      <th>3</th>\n",
              "      <td>25.420000</td>\n",
              "      <td>25.133777</td>\n",
              "    </tr>\n",
              "    <tr>\n",
              "      <th>4</th>\n",
              "      <td>24.730000</td>\n",
              "      <td>24.755221</td>\n",
              "    </tr>\n",
              "    <tr>\n",
              "      <th>...</th>\n",
              "      <td>...</td>\n",
              "      <td>...</td>\n",
              "    </tr>\n",
              "    <tr>\n",
              "      <th>59</th>\n",
              "      <td>18.490000</td>\n",
              "      <td>18.500209</td>\n",
              "    </tr>\n",
              "    <tr>\n",
              "      <th>60</th>\n",
              "      <td>18.370001</td>\n",
              "      <td>18.486353</td>\n",
              "    </tr>\n",
              "    <tr>\n",
              "      <th>61</th>\n",
              "      <td>20.440001</td>\n",
              "      <td>20.687977</td>\n",
              "    </tr>\n",
              "    <tr>\n",
              "      <th>62</th>\n",
              "      <td>21.129999</td>\n",
              "      <td>21.210793</td>\n",
              "    </tr>\n",
              "    <tr>\n",
              "      <th>63</th>\n",
              "      <td>25.600000</td>\n",
              "      <td>25.772335</td>\n",
              "    </tr>\n",
              "  </tbody>\n",
              "</table>\n",
              "<p>64 rows × 2 columns</p>\n",
              "</div>"
            ],
            "text/plain": [
              "       Actual  Predicted\n",
              "0   22.540001  22.433628\n",
              "1   18.500000  18.626602\n",
              "2   25.020000  25.133844\n",
              "3   25.420000  25.133777\n",
              "4   24.730000  24.755221\n",
              "..        ...        ...\n",
              "59  18.490000  18.500209\n",
              "60  18.370001  18.486353\n",
              "61  20.440001  20.687977\n",
              "62  21.129999  21.210793\n",
              "63  25.600000  25.772335\n",
              "\n",
              "[64 rows x 2 columns]"
            ]
          },
          "metadata": {
            "tags": []
          },
          "execution_count": 137
        }
      ]
    },
    {
      "cell_type": "code",
      "metadata": {
        "id": "ZBqh3TOtaXji",
        "colab_type": "code",
        "colab": {
          "base_uri": "https://localhost:8080/",
          "height": 34
        },
        "outputId": "8c4e7475-e2a1-4e1a-e964-15bb586be0b1"
      },
      "source": [
        "ac= fit.score(x_test,y_test)\n",
        "ac = ac*100\n",
        "ac = float(\"{0:.2f}\".format(ac))\n",
        "print('Accuracy is:',ac,'%')\n"
      ],
      "execution_count": 138,
      "outputs": [
        {
          "output_type": "stream",
          "text": [
            "Accuracy is: 99.74 %\n"
          ],
          "name": "stdout"
        }
      ]
    },
    {
      "cell_type": "code",
      "metadata": {
        "id": "MGCjI6ptUa5r",
        "colab_type": "code",
        "colab": {
          "base_uri": "https://localhost:8080/",
          "height": 34
        },
        "outputId": "38511f3a-a6cf-4815-b046-a5a46ee158dc"
      },
      "source": [
        "metrics.mean_absolute_error(y_test,y_pred)"
      ],
      "execution_count": 139,
      "outputs": [
        {
          "output_type": "execute_result",
          "data": {
            "text/plain": [
              "0.1508750352016833"
            ]
          },
          "metadata": {
            "tags": []
          },
          "execution_count": 139
        }
      ]
    },
    {
      "cell_type": "code",
      "metadata": {
        "id": "UpowztqLVvRU",
        "colab_type": "code",
        "colab": {
          "base_uri": "https://localhost:8080/",
          "height": 34
        },
        "outputId": "3db7f647-d240-4206-eb11-9230ca67609f"
      },
      "source": [
        "metrics.mean_squared_error(y_test,y_pred)"
      ],
      "execution_count": 140,
      "outputs": [
        {
          "output_type": "execute_result",
          "data": {
            "text/plain": [
              "0.03581187083933106"
            ]
          },
          "metadata": {
            "tags": []
          },
          "execution_count": 140
        }
      ]
    },
    {
      "cell_type": "code",
      "metadata": {
        "id": "eKGBiwtxWI4l",
        "colab_type": "code",
        "colab": {
          "base_uri": "https://localhost:8080/",
          "height": 34
        },
        "outputId": "7121d3b0-b5fc-4180-fca0-6f0e891f1ebf"
      },
      "source": [
        "math.sqrt(metrics.mean_squared_error(y_test,y_pred))"
      ],
      "execution_count": 141,
      "outputs": [
        {
          "output_type": "execute_result",
          "data": {
            "text/plain": [
              "0.18924024635190861"
            ]
          },
          "metadata": {
            "tags": []
          },
          "execution_count": 141
        }
      ]
    },
    {
      "cell_type": "code",
      "metadata": {
        "id": "L6Pg3twNWlbR",
        "colab_type": "code",
        "colab": {
          "base_uri": "https://localhost:8080/",
          "height": 279
        },
        "outputId": "ae8b51bc-fc81-492d-a5ad-3d42e0e74c43"
      },
      "source": [
        "plot = New_dataframe.head(10)\n",
        "plot.plot(kind ='bar')"
      ],
      "execution_count": 142,
      "outputs": [
        {
          "output_type": "execute_result",
          "data": {
            "text/plain": [
              "<matplotlib.axes._subplots.AxesSubplot at 0x7fa0463242b0>"
            ]
          },
          "metadata": {
            "tags": []
          },
          "execution_count": 142
        },
        {
          "output_type": "display_data",
          "data": {
            "image/png": "[encoded data removed]",
            "text/plain": [
              "<Figure size 432x288 with 1 Axes>"
            ]
          },
          "metadata": {
            "tags": [],
            "needs_background": "light"
          }
        }
      ]
    }
  ]
}