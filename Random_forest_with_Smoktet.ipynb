{
  "nbformat": 4,
  "nbformat_minor": 0,
  "metadata": {
    "colab": {
      "name": "Random forest_with Smoktet.ipynb",
      "provenance": [],
      "collapsed_sections": []
    },
    "kernelspec": {
      "name": "python3",
      "display_name": "Python 3"
    }
  },
  "cells": [
    {
      "cell_type": "code",
      "metadata": {
        "colab": {
          "base_uri": "https://localhost:8080/"
        },
        "id": "6eHJKhulpiRD",
        "outputId": "96849b4e-4e5d-463e-8948-86e968afb9de"
      },
      "source": [
        "import pandas as pd\r\n",
        "import numpy as np\r\n",
        "import seaborn as sns\r\n",
        "import matplotlib.pyplot as plt\r\n",
        "from imblearn.combine import SMOTETomek\r\n",
        "from collections import Counter\r\n",
        "from boruta import BorutaPy\r\n",
        "from sklearn.preprocessing import LabelEncoder,StandardScaler\r\n",
        "from sklearn.model_selection import train_test_split,GridSearchCV\r\n",
        "from sklearn.ensemble import RandomForestClassifier\r\n",
        "from sklearn.metrics import accuracy_score,confusion_matrix,classification_report,f1_score"
      ],
      "execution_count": null,
      "outputs": [
        {
          "output_type": "stream",
          "text": [
            "/usr/local/lib/python3.6/dist-packages/sklearn/externals/six.py:31: FutureWarning: The module is deprecated in version 0.21 and will be removed in version 0.23 since we've dropped support for Python 2.7. Please rely on the official version of six (https://pypi.org/project/six/).\n",
            "  \"(https://pypi.org/project/six/).\", FutureWarning)\n",
            "/usr/local/lib/python3.6/dist-packages/sklearn/utils/deprecation.py:144: FutureWarning: The sklearn.neighbors.base module is  deprecated in version 0.22 and will be removed in version 0.24. The corresponding classes / functions should instead be imported from sklearn.neighbors. Anything that cannot be imported from sklearn.neighbors is now part of the private API.\n",
            "  warnings.warn(message, FutureWarning)\n"
          ],
          "name": "stderr"
        }
      ]
    },
    {
      "cell_type": "code",
      "metadata": {
        "colab": {
          "base_uri": "https://localhost:8080/"
        },
        "id": "1ncaNp32QRdp",
        "outputId": "1641202e-1e46-4c57-82c9-c47d0d9239ec"
      },
      "source": [
        "pip install Boruta"
      ],
      "execution_count": null,
      "outputs": [
        {
          "output_type": "stream",
          "text": [
            "Requirement already satisfied: Boruta in /usr/local/lib/python3.6/dist-packages (0.3)\n",
            "Requirement already satisfied: scikit-learn>=0.17.1 in /usr/local/lib/python3.6/dist-packages (from Boruta) (0.22.2.post1)\n",
            "Requirement already satisfied: scipy>=0.17.0 in /usr/local/lib/python3.6/dist-packages (from Boruta) (1.4.1)\n",
            "Requirement already satisfied: numpy>=1.10.4 in /usr/local/lib/python3.6/dist-packages (from Boruta) (1.19.5)\n",
            "Requirement already satisfied: joblib>=0.11 in /usr/local/lib/python3.6/dist-packages (from scikit-learn>=0.17.1->Boruta) (1.0.0)\n"
          ],
          "name": "stdout"
        }
      ]
    },
    {
      "cell_type": "code",
      "metadata": {
        "colab": {
          "base_uri": "https://localhost:8080/",
          "height": 411
        },
        "id": "I-xxUs0KsvL9",
        "outputId": "d56139ee-18bc-46b1-9ecc-f1c21bad71e2"
      },
      "source": [
        "data = pd.read_csv(\"/content/spotify.csv\")\r\n",
        "data.head()"
      ],
      "execution_count": null,
      "outputs": [
        {
          "output_type": "execute_result",
          "data": {
            "text/html": [
              "<div>\n",
              "<style scoped>\n",
              "    .dataframe tbody tr th:only-of-type {\n",
              "        vertical-align: middle;\n",
              "    }\n",
              "\n",
              "    .dataframe tbody tr th {\n",
              "        vertical-align: top;\n",
              "    }\n",
              "\n",
              "    .dataframe thead th {\n",
              "        text-align: right;\n",
              "    }\n",
              "</style>\n",
              "<table border=\"1\" class=\"dataframe\">\n",
              "  <thead>\n",
              "    <tr style=\"text-align: right;\">\n",
              "      <th></th>\n",
              "      <th>acousticness</th>\n",
              "      <th>artists</th>\n",
              "      <th>danceability</th>\n",
              "      <th>duration_ms</th>\n",
              "      <th>energy</th>\n",
              "      <th>explicit</th>\n",
              "      <th>id</th>\n",
              "      <th>instrumentalness</th>\n",
              "      <th>key</th>\n",
              "      <th>liveness</th>\n",
              "      <th>loudness</th>\n",
              "      <th>mode</th>\n",
              "      <th>name</th>\n",
              "      <th>popularity</th>\n",
              "      <th>release_date</th>\n",
              "      <th>speechiness</th>\n",
              "      <th>tempo</th>\n",
              "      <th>valence</th>\n",
              "      <th>year</th>\n",
              "    </tr>\n",
              "  </thead>\n",
              "  <tbody>\n",
              "    <tr>\n",
              "      <th>0</th>\n",
              "      <td>0.991000</td>\n",
              "      <td>['Mamie Smith']</td>\n",
              "      <td>0.598</td>\n",
              "      <td>168333</td>\n",
              "      <td>0.224</td>\n",
              "      <td>0</td>\n",
              "      <td>0cS0A1fUEUd1EW3FcF8AEI</td>\n",
              "      <td>0.000522</td>\n",
              "      <td>5</td>\n",
              "      <td>0.3790</td>\n",
              "      <td>-12.628</td>\n",
              "      <td>0</td>\n",
              "      <td>Keep A Song In Your Soul</td>\n",
              "      <td>12</td>\n",
              "      <td>1920</td>\n",
              "      <td>0.0936</td>\n",
              "      <td>149.976</td>\n",
              "      <td>0.6340</td>\n",
              "      <td>1920.0</td>\n",
              "    </tr>\n",
              "    <tr>\n",
              "      <th>1</th>\n",
              "      <td>0.643000</td>\n",
              "      <td>[\"Screamin' Jay Hawkins\"]</td>\n",
              "      <td>0.852</td>\n",
              "      <td>150200</td>\n",
              "      <td>0.517</td>\n",
              "      <td>0</td>\n",
              "      <td>0hbkKFIJm7Z05H8Zl9w30f</td>\n",
              "      <td>0.026400</td>\n",
              "      <td>5</td>\n",
              "      <td>0.0809</td>\n",
              "      <td>-7.261</td>\n",
              "      <td>0</td>\n",
              "      <td>I Put A Spell On You</td>\n",
              "      <td>7</td>\n",
              "      <td>1920-01-05</td>\n",
              "      <td>0.0534</td>\n",
              "      <td>86.889</td>\n",
              "      <td>0.9500</td>\n",
              "      <td>1920.0</td>\n",
              "    </tr>\n",
              "    <tr>\n",
              "      <th>2</th>\n",
              "      <td>0.993000</td>\n",
              "      <td>['Mamie Smith']</td>\n",
              "      <td>0.647</td>\n",
              "      <td>163827</td>\n",
              "      <td>0.186</td>\n",
              "      <td>0</td>\n",
              "      <td>11m7laMUgmOKqI3oYzuhne</td>\n",
              "      <td>0.000018</td>\n",
              "      <td>0</td>\n",
              "      <td>0.5190</td>\n",
              "      <td>-12.098</td>\n",
              "      <td>1</td>\n",
              "      <td>Golfing Papa</td>\n",
              "      <td>4</td>\n",
              "      <td>1920</td>\n",
              "      <td>0.1740</td>\n",
              "      <td>97.600</td>\n",
              "      <td>0.6890</td>\n",
              "      <td>1920.0</td>\n",
              "    </tr>\n",
              "    <tr>\n",
              "      <th>3</th>\n",
              "      <td>0.000173</td>\n",
              "      <td>['Oscar Velazquez']</td>\n",
              "      <td>0.730</td>\n",
              "      <td>422087</td>\n",
              "      <td>0.798</td>\n",
              "      <td>0</td>\n",
              "      <td>19Lc5SfJJ5O1oaxY0fpwfh</td>\n",
              "      <td>0.801000</td>\n",
              "      <td>2</td>\n",
              "      <td>0.1280</td>\n",
              "      <td>-7.311</td>\n",
              "      <td>1</td>\n",
              "      <td>True House Music - Xavier Santos &amp; Carlos Gomi...</td>\n",
              "      <td>17</td>\n",
              "      <td>1920-01-01</td>\n",
              "      <td>0.0425</td>\n",
              "      <td>127.997</td>\n",
              "      <td>0.0422</td>\n",
              "      <td>1920.0</td>\n",
              "    </tr>\n",
              "    <tr>\n",
              "      <th>4</th>\n",
              "      <td>0.295000</td>\n",
              "      <td>['Mixe']</td>\n",
              "      <td>0.704</td>\n",
              "      <td>165224</td>\n",
              "      <td>0.707</td>\n",
              "      <td>1</td>\n",
              "      <td>2hJjbsLCytGsnAHfdsLejp</td>\n",
              "      <td>0.000246</td>\n",
              "      <td>10</td>\n",
              "      <td>0.4020</td>\n",
              "      <td>-6.036</td>\n",
              "      <td>0</td>\n",
              "      <td>Xuniverxe</td>\n",
              "      <td>2</td>\n",
              "      <td>1920-10-01</td>\n",
              "      <td>0.0768</td>\n",
              "      <td>122.076</td>\n",
              "      <td>0.2990</td>\n",
              "      <td>1920.0</td>\n",
              "    </tr>\n",
              "  </tbody>\n",
              "</table>\n",
              "</div>"
            ],
            "text/plain": [
              "   acousticness                    artists  ...  valence    year\n",
              "0      0.991000            ['Mamie Smith']  ...   0.6340  1920.0\n",
              "1      0.643000  [\"Screamin' Jay Hawkins\"]  ...   0.9500  1920.0\n",
              "2      0.993000            ['Mamie Smith']  ...   0.6890  1920.0\n",
              "3      0.000173        ['Oscar Velazquez']  ...   0.0422  1920.0\n",
              "4      0.295000                   ['Mixe']  ...   0.2990  1920.0\n",
              "\n",
              "[5 rows x 19 columns]"
            ]
          },
          "metadata": {
            "tags": []
          },
          "execution_count": 3
        }
      ]
    },
    {
      "cell_type": "code",
      "metadata": {
        "colab": {
          "base_uri": "https://localhost:8080/"
        },
        "id": "BdvP0e6CI5mI",
        "outputId": "174bf648-0706-4098-8a64-a8e465326e71"
      },
      "source": [
        "data.shape"
      ],
      "execution_count": null,
      "outputs": [
        {
          "output_type": "execute_result",
          "data": {
            "text/plain": [
              "(127165, 19)"
            ]
          },
          "metadata": {
            "tags": []
          },
          "execution_count": 4
        }
      ]
    },
    {
      "cell_type": "code",
      "metadata": {
        "colab": {
          "base_uri": "https://localhost:8080/"
        },
        "id": "sUyQJK7g3Szc",
        "outputId": "8fbfcc16-f2ae-4315-cac2-89af41cb1022"
      },
      "source": [
        "data.isnull().sum().sum()"
      ],
      "execution_count": null,
      "outputs": [
        {
          "output_type": "execute_result",
          "data": {
            "text/plain": [
              "1"
            ]
          },
          "metadata": {
            "tags": []
          },
          "execution_count": 5
        }
      ]
    },
    {
      "cell_type": "code",
      "metadata": {
        "colab": {
          "base_uri": "https://localhost:8080/"
        },
        "id": "koYQPD4C3Yxm",
        "outputId": "f9090be9-c10c-488c-c85d-73d64b2991e7"
      },
      "source": [
        "data.info()"
      ],
      "execution_count": null,
      "outputs": [
        {
          "output_type": "stream",
          "text": [
            "<class 'pandas.core.frame.DataFrame'>\n",
            "RangeIndex: 127165 entries, 0 to 127164\n",
            "Data columns (total 19 columns):\n",
            " #   Column            Non-Null Count   Dtype  \n",
            "---  ------            --------------   -----  \n",
            " 0   acousticness      127165 non-null  float64\n",
            " 1   artists           127165 non-null  object \n",
            " 2   danceability      127165 non-null  float64\n",
            " 3   duration_ms       127165 non-null  int64  \n",
            " 4   energy            127165 non-null  float64\n",
            " 5   explicit          127165 non-null  int64  \n",
            " 6   id                127165 non-null  object \n",
            " 7   instrumentalness  127165 non-null  float64\n",
            " 8   key               127165 non-null  int64  \n",
            " 9   liveness          127165 non-null  float64\n",
            " 10  loudness          127165 non-null  float64\n",
            " 11  mode              127165 non-null  int64  \n",
            " 12  name              127165 non-null  object \n",
            " 13  popularity        127165 non-null  int64  \n",
            " 14  release_date      127165 non-null  object \n",
            " 15  speechiness       127165 non-null  float64\n",
            " 16  tempo             127165 non-null  float64\n",
            " 17  valence           127165 non-null  float64\n",
            " 18  year              127164 non-null  float64\n",
            "dtypes: float64(10), int64(5), object(4)\n",
            "memory usage: 18.4+ MB\n"
          ],
          "name": "stdout"
        }
      ]
    },
    {
      "cell_type": "code",
      "metadata": {
        "colab": {
          "base_uri": "https://localhost:8080/",
          "height": 296
        },
        "id": "C38V4rOeHPJR",
        "outputId": "5d0c7782-1119-4992-b55f-80531fa16d45"
      },
      "source": [
        "sns.countplot(x='explicit',data=data)"
      ],
      "execution_count": null,
      "outputs": [
        {
          "output_type": "execute_result",
          "data": {
            "text/plain": [
              "<matplotlib.axes._subplots.AxesSubplot at 0x7f66643897f0>"
            ]
          },
          "metadata": {
            "tags": []
          },
          "execution_count": 7
        },
        {
          "output_type": "display_data",
          "data": {
            "image/png": "[encoded data removed]",
            "text/plain": [
              "<Figure size 432x288 with 1 Axes>"
            ]
          },
          "metadata": {
            "tags": [],
            "needs_background": "light"
          }
        }
      ]
    },
    {
      "cell_type": "code",
      "metadata": {
        "colab": {
          "base_uri": "https://localhost:8080/"
        },
        "id": "Bpt8LpMB8UNY",
        "outputId": "c0fab117-e5d4-42ec-9e54-0f13f30cf5fb"
      },
      "source": [
        "data['explicit'].value_counts()"
      ],
      "execution_count": null,
      "outputs": [
        {
          "output_type": "execute_result",
          "data": {
            "text/plain": [
              "0    118202\n",
              "1      8963\n",
              "Name: explicit, dtype: int64"
            ]
          },
          "metadata": {
            "tags": []
          },
          "execution_count": 8
        }
      ]
    },
    {
      "cell_type": "code",
      "metadata": {
        "colab": {
          "base_uri": "https://localhost:8080/",
          "height": 689
        },
        "id": "mNC2D4SfMob4",
        "outputId": "65a2ea0a-6a96-489e-9cd0-c7fcd6d505f4"
      },
      "source": [
        "cormat = data.corr()\r\n",
        "fig,ax = plt.subplots()\r\n",
        "fig.set_size_inches(10,10)\r\n",
        "sns.heatmap(cormat)"
      ],
      "execution_count": null,
      "outputs": [
        {
          "output_type": "execute_result",
          "data": {
            "text/plain": [
              "<matplotlib.axes._subplots.AxesSubplot at 0x7f66642ce4a8>"
            ]
          },
          "metadata": {
            "tags": []
          },
          "execution_count": 9
        },
        {
          "output_type": "display_data",
          "data": {
            "image/png": "[encoded data removed]",
            "text/plain": [
              "<Figure size 720x720 with 2 Axes>"
            ]
          },
          "metadata": {
            "tags": [],
            "needs_background": "light"
          }
        }
      ]
    },
    {
      "cell_type": "code",
      "metadata": {
        "colab": {
          "base_uri": "https://localhost:8080/"
        },
        "id": "XRo16RW-M_LW",
        "outputId": "b790415c-95bf-4111-90c8-c376d2ae1105"
      },
      "source": [
        "def correlation(data, threshold):\r\n",
        "  col_corr = set()\r\n",
        "  corr_matrix = data.corr()\r\n",
        "  for i in range(len(corr_matrix.columns)):\r\n",
        "    for j in range(i):\r\n",
        "      if abs(corr_matrix.iloc[i,j]>threshold):\r\n",
        "        col_name = corr_matrix.columns[i]\r\n",
        "        col_corr.add(col_name)\r\n",
        "  return col_corr\r\n",
        "\r\n",
        "corr_features = correlation(data,0.80)\r\n",
        "len(set(corr_features))\r\n",
        "corr_features "
      ],
      "execution_count": null,
      "outputs": [
        {
          "output_type": "execute_result",
          "data": {
            "text/plain": [
              "set()"
            ]
          },
          "metadata": {
            "tags": []
          },
          "execution_count": 10
        }
      ]
    },
    {
      "cell_type": "code",
      "metadata": {
        "id": "FmIlPJ_y3gm-"
      },
      "source": [
        "x = data.drop(['id','name','popularity','release_date','year'],axis=1)"
      ],
      "execution_count": null,
      "outputs": []
    },
    {
      "cell_type": "code",
      "metadata": {
        "colab": {
          "base_uri": "https://localhost:8080/",
          "height": 555
        },
        "id": "irLibWxVEHyi",
        "outputId": "f5aef2bf-d28b-4e86-9d30-b50e5d8422d1"
      },
      "source": [
        "x"
      ],
      "execution_count": null,
      "outputs": [
        {
          "output_type": "execute_result",
          "data": {
            "text/html": [
              "<div>\n",
              "<style scoped>\n",
              "    .dataframe tbody tr th:only-of-type {\n",
              "        vertical-align: middle;\n",
              "    }\n",
              "\n",
              "    .dataframe tbody tr th {\n",
              "        vertical-align: top;\n",
              "    }\n",
              "\n",
              "    .dataframe thead th {\n",
              "        text-align: right;\n",
              "    }\n",
              "</style>\n",
              "<table border=\"1\" class=\"dataframe\">\n",
              "  <thead>\n",
              "    <tr style=\"text-align: right;\">\n",
              "      <th></th>\n",
              "      <th>acousticness</th>\n",
              "      <th>artists</th>\n",
              "      <th>danceability</th>\n",
              "      <th>duration_ms</th>\n",
              "      <th>energy</th>\n",
              "      <th>explicit</th>\n",
              "      <th>instrumentalness</th>\n",
              "      <th>key</th>\n",
              "      <th>liveness</th>\n",
              "      <th>loudness</th>\n",
              "      <th>mode</th>\n",
              "      <th>speechiness</th>\n",
              "      <th>tempo</th>\n",
              "      <th>valence</th>\n",
              "    </tr>\n",
              "  </thead>\n",
              "  <tbody>\n",
              "    <tr>\n",
              "      <th>0</th>\n",
              "      <td>0.991000</td>\n",
              "      <td>['Mamie Smith']</td>\n",
              "      <td>0.598</td>\n",
              "      <td>168333</td>\n",
              "      <td>0.224</td>\n",
              "      <td>0</td>\n",
              "      <td>0.000522</td>\n",
              "      <td>5</td>\n",
              "      <td>0.3790</td>\n",
              "      <td>-12.628</td>\n",
              "      <td>0</td>\n",
              "      <td>0.0936</td>\n",
              "      <td>149.976</td>\n",
              "      <td>0.6340</td>\n",
              "    </tr>\n",
              "    <tr>\n",
              "      <th>1</th>\n",
              "      <td>0.643000</td>\n",
              "      <td>[\"Screamin' Jay Hawkins\"]</td>\n",
              "      <td>0.852</td>\n",
              "      <td>150200</td>\n",
              "      <td>0.517</td>\n",
              "      <td>0</td>\n",
              "      <td>0.026400</td>\n",
              "      <td>5</td>\n",
              "      <td>0.0809</td>\n",
              "      <td>-7.261</td>\n",
              "      <td>0</td>\n",
              "      <td>0.0534</td>\n",
              "      <td>86.889</td>\n",
              "      <td>0.9500</td>\n",
              "    </tr>\n",
              "    <tr>\n",
              "      <th>2</th>\n",
              "      <td>0.993000</td>\n",
              "      <td>['Mamie Smith']</td>\n",
              "      <td>0.647</td>\n",
              "      <td>163827</td>\n",
              "      <td>0.186</td>\n",
              "      <td>0</td>\n",
              "      <td>0.000018</td>\n",
              "      <td>0</td>\n",
              "      <td>0.5190</td>\n",
              "      <td>-12.098</td>\n",
              "      <td>1</td>\n",
              "      <td>0.1740</td>\n",
              "      <td>97.600</td>\n",
              "      <td>0.6890</td>\n",
              "    </tr>\n",
              "    <tr>\n",
              "      <th>3</th>\n",
              "      <td>0.000173</td>\n",
              "      <td>['Oscar Velazquez']</td>\n",
              "      <td>0.730</td>\n",
              "      <td>422087</td>\n",
              "      <td>0.798</td>\n",
              "      <td>0</td>\n",
              "      <td>0.801000</td>\n",
              "      <td>2</td>\n",
              "      <td>0.1280</td>\n",
              "      <td>-7.311</td>\n",
              "      <td>1</td>\n",
              "      <td>0.0425</td>\n",
              "      <td>127.997</td>\n",
              "      <td>0.0422</td>\n",
              "    </tr>\n",
              "    <tr>\n",
              "      <th>4</th>\n",
              "      <td>0.295000</td>\n",
              "      <td>['Mixe']</td>\n",
              "      <td>0.704</td>\n",
              "      <td>165224</td>\n",
              "      <td>0.707</td>\n",
              "      <td>1</td>\n",
              "      <td>0.000246</td>\n",
              "      <td>10</td>\n",
              "      <td>0.4020</td>\n",
              "      <td>-6.036</td>\n",
              "      <td>0</td>\n",
              "      <td>0.0768</td>\n",
              "      <td>122.076</td>\n",
              "      <td>0.2990</td>\n",
              "    </tr>\n",
              "    <tr>\n",
              "      <th>...</th>\n",
              "      <td>...</td>\n",
              "      <td>...</td>\n",
              "      <td>...</td>\n",
              "      <td>...</td>\n",
              "      <td>...</td>\n",
              "      <td>...</td>\n",
              "      <td>...</td>\n",
              "      <td>...</td>\n",
              "      <td>...</td>\n",
              "      <td>...</td>\n",
              "      <td>...</td>\n",
              "      <td>...</td>\n",
              "      <td>...</td>\n",
              "      <td>...</td>\n",
              "    </tr>\n",
              "    <tr>\n",
              "      <th>127160</th>\n",
              "      <td>0.984000</td>\n",
              "      <td>['Igor Stravinsky', 'The Symphony Orchestra']</td>\n",
              "      <td>0.508</td>\n",
              "      <td>139440</td>\n",
              "      <td>0.183</td>\n",
              "      <td>0</td>\n",
              "      <td>0.239000</td>\n",
              "      <td>9</td>\n",
              "      <td>0.7000</td>\n",
              "      <td>-19.748</td>\n",
              "      <td>0</td>\n",
              "      <td>0.0408</td>\n",
              "      <td>125.146</td>\n",
              "      <td>0.5310</td>\n",
              "    </tr>\n",
              "    <tr>\n",
              "      <th>127161</th>\n",
              "      <td>0.989000</td>\n",
              "      <td>['Κώστας Ρούκουνας']</td>\n",
              "      <td>0.370</td>\n",
              "      <td>194453</td>\n",
              "      <td>0.262</td>\n",
              "      <td>0</td>\n",
              "      <td>0.008800</td>\n",
              "      <td>9</td>\n",
              "      <td>0.1490</td>\n",
              "      <td>-11.557</td>\n",
              "      <td>1</td>\n",
              "      <td>0.0981</td>\n",
              "      <td>87.636</td>\n",
              "      <td>0.2210</td>\n",
              "    </tr>\n",
              "    <tr>\n",
              "      <th>127162</th>\n",
              "      <td>0.986000</td>\n",
              "      <td>['Fréhel']</td>\n",
              "      <td>0.594</td>\n",
              "      <td>179507</td>\n",
              "      <td>0.160</td>\n",
              "      <td>0</td>\n",
              "      <td>0.000040</td>\n",
              "      <td>9</td>\n",
              "      <td>0.3080</td>\n",
              "      <td>-12.437</td>\n",
              "      <td>1</td>\n",
              "      <td>0.0770</td>\n",
              "      <td>116.897</td>\n",
              "      <td>0.5290</td>\n",
              "    </tr>\n",
              "    <tr>\n",
              "      <th>127163</th>\n",
              "      <td>0.994000</td>\n",
              "      <td>['Petros Epitropakis', 'Antonis Kalampousis']</td>\n",
              "      <td>0.206</td>\n",
              "      <td>168307</td>\n",
              "      <td>0.335</td>\n",
              "      <td>0</td>\n",
              "      <td>0.789000</td>\n",
              "      <td>5</td>\n",
              "      <td>0.5130</td>\n",
              "      <td>-13.898</td>\n",
              "      <td>1</td>\n",
              "      <td>0.0416</td>\n",
              "      <td>96.229</td>\n",
              "      <td>0.2750</td>\n",
              "    </tr>\n",
              "    <tr>\n",
              "      <th>127164</th>\n",
              "      <td>0.987000</td>\n",
              "      <td>['Α.Κωστής']</td>\n",
              "      <td>0.484</td>\n",
              "      <td>245120</td>\n",
              "      <td>0.537</td>\n",
              "      <td>0</td>\n",
              "      <td>0.862000</td>\n",
              "      <td>7</td>\n",
              "      <td>0.2000</td>\n",
              "      <td>-10.541</td>\n",
              "      <td>1</td>\n",
              "      <td>0.0325</td>\n",
              "      <td>124.762</td>\n",
              "      <td>0.6579</td>\n",
              "    </tr>\n",
              "  </tbody>\n",
              "</table>\n",
              "<p>127165 rows × 14 columns</p>\n",
              "</div>"
            ],
            "text/plain": [
              "        acousticness  ... valence\n",
              "0           0.991000  ...  0.6340\n",
              "1           0.643000  ...  0.9500\n",
              "2           0.993000  ...  0.6890\n",
              "3           0.000173  ...  0.0422\n",
              "4           0.295000  ...  0.2990\n",
              "...              ...  ...     ...\n",
              "127160      0.984000  ...  0.5310\n",
              "127161      0.989000  ...  0.2210\n",
              "127162      0.986000  ...  0.5290\n",
              "127163      0.994000  ...  0.2750\n",
              "127164      0.987000  ...  0.6579\n",
              "\n",
              "[127165 rows x 14 columns]"
            ]
          },
          "metadata": {
            "tags": []
          },
          "execution_count": 12
        }
      ]
    },
    {
      "cell_type": "code",
      "metadata": {
        "id": "QkdA1meGE4Cg"
      },
      "source": [
        "y = data['explicit']"
      ],
      "execution_count": null,
      "outputs": []
    },
    {
      "cell_type": "code",
      "metadata": {
        "id": "-xBV4W5kE-2z"
      },
      "source": [
        "lbl = LabelEncoder()"
      ],
      "execution_count": null,
      "outputs": []
    },
    {
      "cell_type": "code",
      "metadata": {
        "colab": {
          "base_uri": "https://localhost:8080/",
          "height": 419
        },
        "id": "dGQ83uJxGLJ9",
        "outputId": "53d247c0-0907-4005-8922-03acbc9100b8"
      },
      "source": [
        "x = x.apply(lbl.fit_transform)\r\n",
        "x"
      ],
      "execution_count": null,
      "outputs": [
        {
          "output_type": "execute_result",
          "data": {
            "text/html": [
              "<div>\n",
              "<style scoped>\n",
              "    .dataframe tbody tr th:only-of-type {\n",
              "        vertical-align: middle;\n",
              "    }\n",
              "\n",
              "    .dataframe tbody tr th {\n",
              "        vertical-align: top;\n",
              "    }\n",
              "\n",
              "    .dataframe thead th {\n",
              "        text-align: right;\n",
              "    }\n",
              "</style>\n",
              "<table border=\"1\" class=\"dataframe\">\n",
              "  <thead>\n",
              "    <tr style=\"text-align: right;\">\n",
              "      <th></th>\n",
              "      <th>acousticness</th>\n",
              "      <th>artists</th>\n",
              "      <th>danceability</th>\n",
              "      <th>duration_ms</th>\n",
              "      <th>energy</th>\n",
              "      <th>explicit</th>\n",
              "      <th>instrumentalness</th>\n",
              "      <th>key</th>\n",
              "      <th>liveness</th>\n",
              "      <th>loudness</th>\n",
              "      <th>mode</th>\n",
              "      <th>speechiness</th>\n",
              "      <th>tempo</th>\n",
              "      <th>valence</th>\n",
              "    </tr>\n",
              "  </thead>\n",
              "  <tbody>\n",
              "    <tr>\n",
              "      <th>0</th>\n",
              "      <td>4720</td>\n",
              "      <td>16153</td>\n",
              "      <td>788</td>\n",
              "      <td>13293</td>\n",
              "      <td>1422</td>\n",
              "      <td>0</td>\n",
              "      <td>2222</td>\n",
              "      <td>5</td>\n",
              "      <td>1103</td>\n",
              "      <td>13594</td>\n",
              "      <td>0</td>\n",
              "      <td>714</td>\n",
              "      <td>58099</td>\n",
              "      <td>1312</td>\n",
              "    </tr>\n",
              "    <tr>\n",
              "      <th>1</th>\n",
              "      <td>4372</td>\n",
              "      <td>239</td>\n",
              "      <td>1042</td>\n",
              "      <td>10286</td>\n",
              "      <td>1715</td>\n",
              "      <td>0</td>\n",
              "      <td>3757</td>\n",
              "      <td>5</td>\n",
              "      <td>633</td>\n",
              "      <td>18961</td>\n",
              "      <td>0</td>\n",
              "      <td>312</td>\n",
              "      <td>14044</td>\n",
              "      <td>1629</td>\n",
              "    </tr>\n",
              "    <tr>\n",
              "      <th>2</th>\n",
              "      <td>4722</td>\n",
              "      <td>16153</td>\n",
              "      <td>837</td>\n",
              "      <td>12478</td>\n",
              "      <td>1384</td>\n",
              "      <td>0</td>\n",
              "      <td>977</td>\n",
              "      <td>0</td>\n",
              "      <td>1243</td>\n",
              "      <td>14124</td>\n",
              "      <td>1</td>\n",
              "      <td>852</td>\n",
              "      <td>21805</td>\n",
              "      <td>1368</td>\n",
              "    </tr>\n",
              "    <tr>\n",
              "      <th>3</th>\n",
              "      <td>1243</td>\n",
              "      <td>18741</td>\n",
              "      <td>920</td>\n",
              "      <td>40617</td>\n",
              "      <td>1996</td>\n",
              "      <td>0</td>\n",
              "      <td>5194</td>\n",
              "      <td>2</td>\n",
              "      <td>852</td>\n",
              "      <td>18911</td>\n",
              "      <td>1</td>\n",
              "      <td>203</td>\n",
              "      <td>44520</td>\n",
              "      <td>200</td>\n",
              "    </tr>\n",
              "    <tr>\n",
              "      <th>4</th>\n",
              "      <td>4024</td>\n",
              "      <td>17466</td>\n",
              "      <td>894</td>\n",
              "      <td>12734</td>\n",
              "      <td>1905</td>\n",
              "      <td>1</td>\n",
              "      <td>1946</td>\n",
              "      <td>10</td>\n",
              "      <td>1126</td>\n",
              "      <td>20186</td>\n",
              "      <td>0</td>\n",
              "      <td>546</td>\n",
              "      <td>39988</td>\n",
              "      <td>977</td>\n",
              "    </tr>\n",
              "    <tr>\n",
              "      <th>...</th>\n",
              "      <td>...</td>\n",
              "      <td>...</td>\n",
              "      <td>...</td>\n",
              "      <td>...</td>\n",
              "      <td>...</td>\n",
              "      <td>...</td>\n",
              "      <td>...</td>\n",
              "      <td>...</td>\n",
              "      <td>...</td>\n",
              "      <td>...</td>\n",
              "      <td>...</td>\n",
              "      <td>...</td>\n",
              "      <td>...</td>\n",
              "      <td>...</td>\n",
              "    </tr>\n",
              "    <tr>\n",
              "      <th>127160</th>\n",
              "      <td>4713</td>\n",
              "      <td>11197</td>\n",
              "      <td>698</td>\n",
              "      <td>8666</td>\n",
              "      <td>1381</td>\n",
              "      <td>0</td>\n",
              "      <td>4632</td>\n",
              "      <td>9</td>\n",
              "      <td>1424</td>\n",
              "      <td>6585</td>\n",
              "      <td>0</td>\n",
              "      <td>186</td>\n",
              "      <td>42332</td>\n",
              "      <td>1209</td>\n",
              "    </tr>\n",
              "    <tr>\n",
              "      <th>127161</th>\n",
              "      <td>4718</td>\n",
              "      <td>27533</td>\n",
              "      <td>560</td>\n",
              "      <td>18566</td>\n",
              "      <td>1460</td>\n",
              "      <td>0</td>\n",
              "      <td>3477</td>\n",
              "      <td>9</td>\n",
              "      <td>873</td>\n",
              "      <td>14665</td>\n",
              "      <td>1</td>\n",
              "      <td>759</td>\n",
              "      <td>14562</td>\n",
              "      <td>899</td>\n",
              "    </tr>\n",
              "    <tr>\n",
              "      <th>127162</th>\n",
              "      <td>4715</td>\n",
              "      <td>8921</td>\n",
              "      <td>784</td>\n",
              "      <td>15408</td>\n",
              "      <td>1358</td>\n",
              "      <td>0</td>\n",
              "      <td>1204</td>\n",
              "      <td>9</td>\n",
              "      <td>1032</td>\n",
              "      <td>13785</td>\n",
              "      <td>1</td>\n",
              "      <td>548</td>\n",
              "      <td>36032</td>\n",
              "      <td>1207</td>\n",
              "    </tr>\n",
              "    <tr>\n",
              "      <th>127163</th>\n",
              "      <td>4723</td>\n",
              "      <td>19387</td>\n",
              "      <td>396</td>\n",
              "      <td>13289</td>\n",
              "      <td>1533</td>\n",
              "      <td>0</td>\n",
              "      <td>5182</td>\n",
              "      <td>5</td>\n",
              "      <td>1237</td>\n",
              "      <td>12324</td>\n",
              "      <td>1</td>\n",
              "      <td>194</td>\n",
              "      <td>20779</td>\n",
              "      <td>953</td>\n",
              "    </tr>\n",
              "    <tr>\n",
              "      <th>127164</th>\n",
              "      <td>4716</td>\n",
              "      <td>27459</td>\n",
              "      <td>674</td>\n",
              "      <td>27000</td>\n",
              "      <td>1735</td>\n",
              "      <td>0</td>\n",
              "      <td>5255</td>\n",
              "      <td>7</td>\n",
              "      <td>924</td>\n",
              "      <td>15681</td>\n",
              "      <td>1</td>\n",
              "      <td>103</td>\n",
              "      <td>42014</td>\n",
              "      <td>1336</td>\n",
              "    </tr>\n",
              "  </tbody>\n",
              "</table>\n",
              "<p>127165 rows × 14 columns</p>\n",
              "</div>"
            ],
            "text/plain": [
              "        acousticness  artists  danceability  ...  speechiness  tempo  valence\n",
              "0               4720    16153           788  ...          714  58099     1312\n",
              "1               4372      239          1042  ...          312  14044     1629\n",
              "2               4722    16153           837  ...          852  21805     1368\n",
              "3               1243    18741           920  ...          203  44520      200\n",
              "4               4024    17466           894  ...          546  39988      977\n",
              "...              ...      ...           ...  ...          ...    ...      ...\n",
              "127160          4713    11197           698  ...          186  42332     1209\n",
              "127161          4718    27533           560  ...          759  14562      899\n",
              "127162          4715     8921           784  ...          548  36032     1207\n",
              "127163          4723    19387           396  ...          194  20779      953\n",
              "127164          4716    27459           674  ...          103  42014     1336\n",
              "\n",
              "[127165 rows x 14 columns]"
            ]
          },
          "metadata": {
            "tags": []
          },
          "execution_count": 15
        }
      ]
    },
    {
      "cell_type": "code",
      "metadata": {
        "colab": {
          "base_uri": "https://localhost:8080/"
        },
        "id": "W9IQ43w7JJnW",
        "outputId": "8946ee3e-0476-4088-87b0-c59cd1c3fbd7"
      },
      "source": [
        "smk = SMOTETomek(random_state=20)\r\n",
        "X_res,Y_res = smk.fit_sample(x,y)"
      ],
      "execution_count": null,
      "outputs": [
        {
          "output_type": "stream",
          "text": [
            "/usr/local/lib/python3.6/dist-packages/sklearn/utils/deprecation.py:87: FutureWarning: Function safe_indexing is deprecated; safe_indexing is deprecated in version 0.22 and will be removed in version 0.24.\n",
            "  warnings.warn(msg, category=FutureWarning)\n",
            "/usr/local/lib/python3.6/dist-packages/sklearn/utils/deprecation.py:87: FutureWarning: Function safe_indexing is deprecated; safe_indexing is deprecated in version 0.22 and will be removed in version 0.24.\n",
            "  warnings.warn(msg, category=FutureWarning)\n"
          ],
          "name": "stderr"
        }
      ]
    },
    {
      "cell_type": "code",
      "metadata": {
        "colab": {
          "base_uri": "https://localhost:8080/"
        },
        "id": "-Gc9itNWJNwW",
        "outputId": "d7c6d762-8764-4e41-c4e8-73e858e8d402"
      },
      "source": [
        "print(\"Orginal data {}\".format(Counter(y)))\r\n",
        "print(\"Smotetomek data {}\".format(Counter(Y_res)))"
      ],
      "execution_count": null,
      "outputs": [
        {
          "output_type": "stream",
          "text": [
            "Orginal data Counter({0: 118202, 1: 8963})\n",
            "Smotetomek data Counter({0: 117965, 1: 117965})\n"
          ],
          "name": "stdout"
        }
      ]
    },
    {
      "cell_type": "code",
      "metadata": {
        "id": "eVm1bbpHGyZS"
      },
      "source": [
        "x_train,x_test,y_train,y_test = train_test_split(X_res,Y_res,test_size = 0.30,random_state = 42)"
      ],
      "execution_count": null,
      "outputs": []
    },
    {
      "cell_type": "code",
      "metadata": {
        "colab": {
          "base_uri": "https://localhost:8080/"
        },
        "id": "1T2uVgyQLJuC",
        "outputId": "b6b5c9f8-7dc2-4d20-e6c0-284298fecbe0"
      },
      "source": [
        "x_train.shape,x_test.shape,y_train.shape,y_test.shape"
      ],
      "execution_count": null,
      "outputs": [
        {
          "output_type": "execute_result",
          "data": {
            "text/plain": [
              "((165151, 14), (70779, 14), (165151,), (70779,))"
            ]
          },
          "metadata": {
            "tags": []
          },
          "execution_count": 19
        }
      ]
    },
    {
      "cell_type": "code",
      "metadata": {
        "id": "nJt7uL41QheD"
      },
      "source": [
        "RFC = RandomForestClassifier(n_estimators=100,max_depth=10,random_state=1)"
      ],
      "execution_count": null,
      "outputs": []
    },
    {
      "cell_type": "code",
      "metadata": {
        "colab": {
          "base_uri": "https://localhost:8080/"
        },
        "id": "eK7tDAchSHFP",
        "outputId": "5890ae72-4d28-46cc-86c9-0cd848907daa"
      },
      "source": [
        "RFC.fit(x_train,y_train)"
      ],
      "execution_count": null,
      "outputs": [
        {
          "output_type": "execute_result",
          "data": {
            "text/plain": [
              "RandomForestClassifier(bootstrap=True, ccp_alpha=0.0, class_weight=None,\n",
              "                       criterion='gini', max_depth=10, max_features='auto',\n",
              "                       max_leaf_nodes=None, max_samples=None,\n",
              "                       min_impurity_decrease=0.0, min_impurity_split=None,\n",
              "                       min_samples_leaf=1, min_samples_split=2,\n",
              "                       min_weight_fraction_leaf=0.0, n_estimators=100,\n",
              "                       n_jobs=None, oob_score=False, random_state=1, verbose=0,\n",
              "                       warm_start=False)"
            ]
          },
          "metadata": {
            "tags": []
          },
          "execution_count": 21
        }
      ]
    },
    {
      "cell_type": "code",
      "metadata": {
        "id": "oRi9dUWVSd4g"
      },
      "source": [
        "y_pred = RFC.predict(x_test)"
      ],
      "execution_count": null,
      "outputs": []
    },
    {
      "cell_type": "code",
      "metadata": {
        "colab": {
          "base_uri": "https://localhost:8080/"
        },
        "id": "EPM7d-XKSn97",
        "outputId": "53351573-2c9f-46df-c661-1d92baf4b347"
      },
      "source": [
        "accuracy_score(y_test,y_pred)"
      ],
      "execution_count": null,
      "outputs": [
        {
          "output_type": "execute_result",
          "data": {
            "text/plain": [
              "1.0"
            ]
          },
          "metadata": {
            "tags": []
          },
          "execution_count": 23
        }
      ]
    },
    {
      "cell_type": "code",
      "metadata": {
        "colab": {
          "base_uri": "https://localhost:8080/"
        },
        "id": "cpriv_hyS_HA",
        "outputId": "dc38d092-9346-480b-86cb-a37c45ab0010"
      },
      "source": [
        "confusion_matrix(y_test,y_pred)"
      ],
      "execution_count": null,
      "outputs": [
        {
          "output_type": "execute_result",
          "data": {
            "text/plain": [
              "array([[35326,     0],\n",
              "       [    0, 35453]])"
            ]
          },
          "metadata": {
            "tags": []
          },
          "execution_count": 24
        }
      ]
    },
    {
      "cell_type": "code",
      "metadata": {
        "colab": {
          "base_uri": "https://localhost:8080/",
          "height": 69
        },
        "id": "DVKBUcU2Tnr0",
        "outputId": "34bf46f0-e0c4-4de3-c353-ffaef5081f64"
      },
      "source": [
        "classification_report(y_test,y_pred)"
      ],
      "execution_count": null,
      "outputs": [
        {
          "output_type": "execute_result",
          "data": {
            "application/vnd.google.colaboratory.intrinsic+json": {
              "type": "string"
            },
            "text/plain": [
              "'              precision    recall  f1-score   support\\n\\n           0       1.00      1.00      1.00     35326\\n           1       1.00      1.00      1.00     35453\\n\\n    accuracy                           1.00     70779\\n   macro avg       1.00      1.00      1.00     70779\\nweighted avg       1.00      1.00      1.00     70779\\n'"
            ]
          },
          "metadata": {
            "tags": []
          },
          "execution_count": 25
        }
      ]
    },
    {
      "cell_type": "code",
      "metadata": {
        "colab": {
          "base_uri": "https://localhost:8080/"
        },
        "id": "bQdaUv-xI9s6",
        "outputId": "c823caba-d5f3-4783-f49a-0feece068c7b"
      },
      "source": [
        "RFC.score(x_train,y_train)\r\n"
      ],
      "execution_count": null,
      "outputs": [
        {
          "output_type": "execute_result",
          "data": {
            "text/plain": [
              "1.0"
            ]
          },
          "metadata": {
            "tags": []
          },
          "execution_count": 26
        }
      ]
    },
    {
      "cell_type": "code",
      "metadata": {
        "colab": {
          "base_uri": "https://localhost:8080/"
        },
        "id": "zvvqYPAZKaIX",
        "outputId": "905d6e8d-0d76-42c3-b995-99cc8c3849e1"
      },
      "source": [
        "RFC.score(x_test,y_test)"
      ],
      "execution_count": null,
      "outputs": [
        {
          "output_type": "execute_result",
          "data": {
            "text/plain": [
              "1.0"
            ]
          },
          "metadata": {
            "tags": []
          },
          "execution_count": 27
        }
      ]
    },
    {
      "cell_type": "code",
      "metadata": {
        "id": "aUFF9K8yTma0"
      },
      "source": [
        "train_accuracy_score = []\r\n",
        "test_accuracy = []\r\n",
        "for depth in range(1,10):\r\n",
        "  model  =  RandomForestClassifier(max_depth=depth,random_state= 42)\r\n",
        "  model.fit(x_train,y_train)\r\n",
        "  train_accuracy_score.append(model.score(x_train,y_train))\r\n",
        "  test_accuracy.append(model.score(x_test,y_test))"
      ],
      "execution_count": null,
      "outputs": []
    },
    {
      "cell_type": "code",
      "metadata": {
        "colab": {
          "base_uri": "https://localhost:8080/",
          "height": 328
        },
        "id": "_0Tu6PaOUWIh",
        "outputId": "f5976fbf-c30e-4e21-9d38-7aac21c92e73"
      },
      "source": [
        "frame  = pd.DataFrame({'max_depth': range(1,10),\"train_accuracy\":train_accuracy_score,\"test_accuracy\": test_accuracy})\r\n",
        "frame"
      ],
      "execution_count": null,
      "outputs": [
        {
          "output_type": "execute_result",
          "data": {
            "text/html": [
              "<div>\n",
              "<style scoped>\n",
              "    .dataframe tbody tr th:only-of-type {\n",
              "        vertical-align: middle;\n",
              "    }\n",
              "\n",
              "    .dataframe tbody tr th {\n",
              "        vertical-align: top;\n",
              "    }\n",
              "\n",
              "    .dataframe thead th {\n",
              "        text-align: right;\n",
              "    }\n",
              "</style>\n",
              "<table border=\"1\" class=\"dataframe\">\n",
              "  <thead>\n",
              "    <tr style=\"text-align: right;\">\n",
              "      <th></th>\n",
              "      <th>max_depth</th>\n",
              "      <th>train_accuracy</th>\n",
              "      <th>test_accuracy</th>\n",
              "    </tr>\n",
              "  </thead>\n",
              "  <tbody>\n",
              "    <tr>\n",
              "      <th>0</th>\n",
              "      <td>1</td>\n",
              "      <td>0.992256</td>\n",
              "      <td>0.992371</td>\n",
              "    </tr>\n",
              "    <tr>\n",
              "      <th>1</th>\n",
              "      <td>2</td>\n",
              "      <td>0.999164</td>\n",
              "      <td>0.998969</td>\n",
              "    </tr>\n",
              "    <tr>\n",
              "      <th>2</th>\n",
              "      <td>3</td>\n",
              "      <td>1.000000</td>\n",
              "      <td>1.000000</td>\n",
              "    </tr>\n",
              "    <tr>\n",
              "      <th>3</th>\n",
              "      <td>4</td>\n",
              "      <td>1.000000</td>\n",
              "      <td>1.000000</td>\n",
              "    </tr>\n",
              "    <tr>\n",
              "      <th>4</th>\n",
              "      <td>5</td>\n",
              "      <td>1.000000</td>\n",
              "      <td>1.000000</td>\n",
              "    </tr>\n",
              "    <tr>\n",
              "      <th>5</th>\n",
              "      <td>6</td>\n",
              "      <td>1.000000</td>\n",
              "      <td>1.000000</td>\n",
              "    </tr>\n",
              "    <tr>\n",
              "      <th>6</th>\n",
              "      <td>7</td>\n",
              "      <td>1.000000</td>\n",
              "      <td>1.000000</td>\n",
              "    </tr>\n",
              "    <tr>\n",
              "      <th>7</th>\n",
              "      <td>8</td>\n",
              "      <td>1.000000</td>\n",
              "      <td>1.000000</td>\n",
              "    </tr>\n",
              "    <tr>\n",
              "      <th>8</th>\n",
              "      <td>9</td>\n",
              "      <td>1.000000</td>\n",
              "      <td>1.000000</td>\n",
              "    </tr>\n",
              "  </tbody>\n",
              "</table>\n",
              "</div>"
            ],
            "text/plain": [
              "   max_depth  train_accuracy  test_accuracy\n",
              "0          1        0.992256       0.992371\n",
              "1          2        0.999164       0.998969\n",
              "2          3        1.000000       1.000000\n",
              "3          4        1.000000       1.000000\n",
              "4          5        1.000000       1.000000\n",
              "5          6        1.000000       1.000000\n",
              "6          7        1.000000       1.000000\n",
              "7          8        1.000000       1.000000\n",
              "8          9        1.000000       1.000000"
            ]
          },
          "metadata": {
            "tags": []
          },
          "execution_count": 29
        }
      ]
    },
    {
      "cell_type": "code",
      "metadata": {
        "colab": {
          "base_uri": "https://localhost:8080/",
          "height": 640
        },
        "id": "ss_nE0jJUh9w",
        "outputId": "dcfd386b-4cde-49c3-aeac-c58431620184"
      },
      "source": [
        "plt.figure(figsize=(12,10))\r\n",
        "plt.plot(frame['max_depth'],frame[\"train_accuracy\"],marker = \"o\")\r\n",
        "plt.plot(frame['max_depth'],frame['test_accuracy'],marker = \"o\")\r\n",
        "plt.xlabel(\"depth of the tree\")\r\n",
        "plt.ylabel(\"Perfomance\")\r\n",
        "plt.legend()\r\n"
      ],
      "execution_count": null,
      "outputs": [
        {
          "output_type": "stream",
          "text": [
            "No handles with labels found to put in legend.\n"
          ],
          "name": "stderr"
        },
        {
          "output_type": "execute_result",
          "data": {
            "text/plain": [
              "<matplotlib.legend.Legend at 0x7f665bd8c7f0>"
            ]
          },
          "metadata": {
            "tags": []
          },
          "execution_count": 30
        },
        {
          "output_type": "display_data",
          "data": {
            "image/png": "[encoded data removed]",
            "text/plain": [
              "<Figure size 864x720 with 1 Axes>"
            ]
          },
          "metadata": {
            "tags": [],
            "needs_background": "light"
          }
        }
      ]
    }
  ]
}