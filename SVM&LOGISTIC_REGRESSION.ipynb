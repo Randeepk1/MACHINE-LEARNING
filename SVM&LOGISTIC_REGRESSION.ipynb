{
  "nbformat": 4,
  "nbformat_minor": 0,
  "metadata": {
    "colab": {
      "name": "SVM&LOGISTIC_REGRESSION.ipynb",
      "provenance": []
    },
    "kernelspec": {
      "name": "python3",
      "display_name": "Python 3"
    },
    "accelerator": "GPU"
  },
  "cells": [
    {
      "cell_type": "code",
      "metadata": {
        "id": "ODYSQB27NZ4V"
      },
      "source": [
        "import pandas as pd\r\n",
        "import numpy as np\r\n",
        "import matplotlib.pyplot as plt\r\n",
        "import seaborn as sns\r\n",
        "from sklearn.model_selection import train_test_split,GridSearchCV\r\n",
        "from sklearn.svm import SVC\r\n",
        "from sklearn.linear_model import LogisticRegression\r\n",
        "from sklearn.metrics import confusion_matrix,accuracy_score,classification_report"
      ],
      "execution_count": null,
      "outputs": []
    },
    {
      "cell_type": "code",
      "metadata": {
        "colab": {
          "base_uri": "https://localhost:8080/",
          "height": 401
        },
        "id": "iLbhDrXrNuBZ",
        "outputId": "f9157a42-21db-4b8c-d2f3-97d69c6fd89e"
      },
      "source": [
        "data = pd.read_csv(\"/content/LS_2.0.csv\")\r\n",
        "data.head()"
      ],
      "execution_count": null,
      "outputs": [
        {
          "output_type": "execute_result",
          "data": {
            "text/html": [
              "<div>\n",
              "<style scoped>\n",
              "    .dataframe tbody tr th:only-of-type {\n",
              "        vertical-align: middle;\n",
              "    }\n",
              "\n",
              "    .dataframe tbody tr th {\n",
              "        vertical-align: top;\n",
              "    }\n",
              "\n",
              "    .dataframe thead th {\n",
              "        text-align: right;\n",
              "    }\n",
              "</style>\n",
              "<table border=\"1\" class=\"dataframe\">\n",
              "  <thead>\n",
              "    <tr style=\"text-align: right;\">\n",
              "      <th></th>\n",
              "      <th>STATE</th>\n",
              "      <th>CONSTITUENCY</th>\n",
              "      <th>NAME</th>\n",
              "      <th>WINNER</th>\n",
              "      <th>PARTY</th>\n",
              "      <th>SYMBOL</th>\n",
              "      <th>GENDER</th>\n",
              "      <th>CRIMINAL\\nCASES</th>\n",
              "      <th>AGE</th>\n",
              "      <th>CATEGORY</th>\n",
              "      <th>EDUCATION</th>\n",
              "      <th>ASSETS</th>\n",
              "      <th>LIABILITIES</th>\n",
              "      <th>GENERAL\\nVOTES</th>\n",
              "      <th>POSTAL\\nVOTES</th>\n",
              "      <th>TOTAL\\nVOTES</th>\n",
              "      <th>OVER TOTAL ELECTORS \\nIN CONSTITUENCY</th>\n",
              "      <th>OVER TOTAL VOTES POLLED \\nIN CONSTITUENCY</th>\n",
              "      <th>TOTAL ELECTORS</th>\n",
              "    </tr>\n",
              "  </thead>\n",
              "  <tbody>\n",
              "    <tr>\n",
              "      <th>0</th>\n",
              "      <td>Telangana</td>\n",
              "      <td>ADILABAD</td>\n",
              "      <td>SOYAM BAPU RAO</td>\n",
              "      <td>1</td>\n",
              "      <td>BJP</td>\n",
              "      <td>Lotus</td>\n",
              "      <td>MALE</td>\n",
              "      <td>52</td>\n",
              "      <td>52.0</td>\n",
              "      <td>ST</td>\n",
              "      <td>12th Pass</td>\n",
              "      <td>Rs 30,99,414\\n ~ 30 Lacs+</td>\n",
              "      <td>Rs 2,31,450\\n ~ 2 Lacs+</td>\n",
              "      <td>376892</td>\n",
              "      <td>482</td>\n",
              "      <td>377374</td>\n",
              "      <td>25.330684</td>\n",
              "      <td>35.468248</td>\n",
              "      <td>1489790</td>\n",
              "    </tr>\n",
              "    <tr>\n",
              "      <th>1</th>\n",
              "      <td>Telangana</td>\n",
              "      <td>ADILABAD</td>\n",
              "      <td>Godam Nagesh</td>\n",
              "      <td>0</td>\n",
              "      <td>TRS</td>\n",
              "      <td>Car</td>\n",
              "      <td>MALE</td>\n",
              "      <td>0</td>\n",
              "      <td>54.0</td>\n",
              "      <td>ST</td>\n",
              "      <td>Post Graduate</td>\n",
              "      <td>Rs 1,84,77,888\\n ~ 1 Crore+</td>\n",
              "      <td>Rs 8,47,000\\n ~ 8 Lacs+</td>\n",
              "      <td>318665</td>\n",
              "      <td>149</td>\n",
              "      <td>318814</td>\n",
              "      <td>21.399929</td>\n",
              "      <td>29.964370</td>\n",
              "      <td>1489790</td>\n",
              "    </tr>\n",
              "    <tr>\n",
              "      <th>2</th>\n",
              "      <td>Telangana</td>\n",
              "      <td>ADILABAD</td>\n",
              "      <td>RATHOD RAMESH</td>\n",
              "      <td>0</td>\n",
              "      <td>INC</td>\n",
              "      <td>Hand</td>\n",
              "      <td>MALE</td>\n",
              "      <td>3</td>\n",
              "      <td>52.0</td>\n",
              "      <td>ST</td>\n",
              "      <td>12th Pass</td>\n",
              "      <td>Rs 3,64,91,000\\n ~ 3 Crore+</td>\n",
              "      <td>Rs 1,53,00,000\\n ~ 1 Crore+</td>\n",
              "      <td>314057</td>\n",
              "      <td>181</td>\n",
              "      <td>314238</td>\n",
              "      <td>21.092771</td>\n",
              "      <td>29.534285</td>\n",
              "      <td>1489790</td>\n",
              "    </tr>\n",
              "    <tr>\n",
              "      <th>3</th>\n",
              "      <td>Telangana</td>\n",
              "      <td>ADILABAD</td>\n",
              "      <td>NOTA</td>\n",
              "      <td>0</td>\n",
              "      <td>NOTA</td>\n",
              "      <td>NaN</td>\n",
              "      <td>NaN</td>\n",
              "      <td>NaN</td>\n",
              "      <td>NaN</td>\n",
              "      <td>NaN</td>\n",
              "      <td>NaN</td>\n",
              "      <td>NaN</td>\n",
              "      <td>NaN</td>\n",
              "      <td>13030</td>\n",
              "      <td>6</td>\n",
              "      <td>13036</td>\n",
              "      <td>0.875023</td>\n",
              "      <td>1.225214</td>\n",
              "      <td>1489790</td>\n",
              "    </tr>\n",
              "    <tr>\n",
              "      <th>4</th>\n",
              "      <td>Uttar Pradesh</td>\n",
              "      <td>AGRA</td>\n",
              "      <td>Satyapal Singh Baghel</td>\n",
              "      <td>1</td>\n",
              "      <td>BJP</td>\n",
              "      <td>Lotus</td>\n",
              "      <td>MALE</td>\n",
              "      <td>5</td>\n",
              "      <td>58.0</td>\n",
              "      <td>SC</td>\n",
              "      <td>Doctorate</td>\n",
              "      <td>Rs 7,42,74,036\\n ~ 7 Crore+</td>\n",
              "      <td>Rs 86,06,522\\n ~ 86 Lacs+</td>\n",
              "      <td>644459</td>\n",
              "      <td>2416</td>\n",
              "      <td>646875</td>\n",
              "      <td>33.383823</td>\n",
              "      <td>56.464615</td>\n",
              "      <td>1937690</td>\n",
              "    </tr>\n",
              "  </tbody>\n",
              "</table>\n",
              "</div>"
            ],
            "text/plain": [
              "           STATE  ... TOTAL ELECTORS\n",
              "0      Telangana  ...        1489790\n",
              "1      Telangana  ...        1489790\n",
              "2      Telangana  ...        1489790\n",
              "3      Telangana  ...        1489790\n",
              "4  Uttar Pradesh  ...        1937690\n",
              "\n",
              "[5 rows x 19 columns]"
            ]
          },
          "metadata": {
            "tags": []
          },
          "execution_count": 2
        }
      ]
    },
    {
      "cell_type": "code",
      "metadata": {
        "colab": {
          "base_uri": "https://localhost:8080/"
        },
        "id": "JOf2UtgLRWhk",
        "outputId": "cb6fd012-9caf-4e6d-dcc1-49fe92d0124e"
      },
      "source": [
        "def correlation(data, threshold):\r\n",
        "  col_corr = set()\r\n",
        "  corr_matrix = data.corr()\r\n",
        "  for i in range(len(corr_matrix.columns)):\r\n",
        "    for j in range(i):\r\n",
        "      if abs(corr_matrix.iloc[i,j]>threshold):\r\n",
        "        col_name = corr_matrix.columns[i]\r\n",
        "        col_corr.add(col_name)\r\n",
        "  return col_corr\r\n",
        "\r\n",
        "corr_features = correlation(data,0.80)\r\n",
        "len(set(corr_features))\r\n",
        "corr_features "
      ],
      "execution_count": null,
      "outputs": [
        {
          "output_type": "execute_result",
          "data": {
            "text/plain": [
              "{'OVER TOTAL ELECTORS \\nIN CONSTITUENCY',\n",
              " 'OVER TOTAL VOTES POLLED \\nIN CONSTITUENCY',\n",
              " 'TOTAL\\nVOTES'}"
            ]
          },
          "metadata": {
            "tags": []
          },
          "execution_count": 3
        }
      ]
    },
    {
      "cell_type": "code",
      "metadata": {
        "colab": {
          "base_uri": "https://localhost:8080/"
        },
        "id": "vRhbmBYmPP04",
        "outputId": "80eba88d-9f28-4514-fdd5-bcf0aed7a73f"
      },
      "source": [
        "data.isnull().sum().sum()"
      ],
      "execution_count": null,
      "outputs": [
        {
          "output_type": "execute_result",
          "data": {
            "text/plain": [
              "1960"
            ]
          },
          "metadata": {
            "tags": []
          },
          "execution_count": 4
        }
      ]
    },
    {
      "cell_type": "code",
      "metadata": {
        "colab": {
          "base_uri": "https://localhost:8080/"
        },
        "id": "4ti20pN0PVoj",
        "outputId": "db5d8812-ed85-4ad1-f0fc-11c2888eaeec"
      },
      "source": [
        "data.isnull().sum()"
      ],
      "execution_count": null,
      "outputs": [
        {
          "output_type": "execute_result",
          "data": {
            "text/plain": [
              "STATE                                          0\n",
              "CONSTITUENCY                                   0\n",
              "NAME                                           0\n",
              "WINNER                                         0\n",
              "PARTY                                          0\n",
              "SYMBOL                                       245\n",
              "GENDER                                       245\n",
              "CRIMINAL\\nCASES                              245\n",
              "AGE                                          245\n",
              "CATEGORY                                     245\n",
              "EDUCATION                                    245\n",
              "ASSETS                                       245\n",
              "LIABILITIES                                  245\n",
              "GENERAL\\nVOTES                                 0\n",
              "POSTAL\\nVOTES                                  0\n",
              "TOTAL\\nVOTES                                   0\n",
              "OVER TOTAL ELECTORS \\nIN CONSTITUENCY          0\n",
              "OVER TOTAL VOTES POLLED \\nIN CONSTITUENCY      0\n",
              "TOTAL ELECTORS                                 0\n",
              "dtype: int64"
            ]
          },
          "metadata": {
            "tags": []
          },
          "execution_count": 5
        }
      ]
    },
    {
      "cell_type": "code",
      "metadata": {
        "colab": {
          "base_uri": "https://localhost:8080/"
        },
        "id": "txvOK39TP__O",
        "outputId": "432fa0ab-8884-4700-a107-71481d41b989"
      },
      "source": [
        "data.columns"
      ],
      "execution_count": null,
      "outputs": [
        {
          "output_type": "execute_result",
          "data": {
            "text/plain": [
              "Index(['STATE', 'CONSTITUENCY', 'NAME', 'WINNER', 'PARTY', 'SYMBOL', 'GENDER',\n",
              "       'CRIMINAL\\nCASES', 'AGE', 'CATEGORY', 'EDUCATION', 'ASSETS',\n",
              "       'LIABILITIES', 'GENERAL\\nVOTES', 'POSTAL\\nVOTES', 'TOTAL\\nVOTES',\n",
              "       'OVER TOTAL ELECTORS \\nIN CONSTITUENCY',\n",
              "       'OVER TOTAL VOTES POLLED \\nIN CONSTITUENCY', 'TOTAL ELECTORS'],\n",
              "      dtype='object')"
            ]
          },
          "metadata": {
            "tags": []
          },
          "execution_count": 6
        }
      ]
    },
    {
      "cell_type": "code",
      "metadata": {
        "colab": {
          "base_uri": "https://localhost:8080/"
        },
        "id": "Pqc9t-asQg54",
        "outputId": "2c43e790-846a-440c-af33-ffd12a9010d7"
      },
      "source": [
        "data.shape"
      ],
      "execution_count": null,
      "outputs": [
        {
          "output_type": "execute_result",
          "data": {
            "text/plain": [
              "(2263, 19)"
            ]
          },
          "metadata": {
            "tags": []
          },
          "execution_count": 7
        }
      ]
    },
    {
      "cell_type": "code",
      "metadata": {
        "id": "xZZP3CcmPuf1"
      },
      "source": [
        "data.drop(['GENERAL\\nVOTES','POSTAL\\nVOTES','TOTAL\\nVOTES','OVER TOTAL ELECTORS \\nIN CONSTITUENCY','OVER TOTAL VOTES POLLED \\nIN CONSTITUENCY'],axis=1,inplace=True)"
      ],
      "execution_count": null,
      "outputs": []
    },
    {
      "cell_type": "code",
      "metadata": {
        "colab": {
          "base_uri": "https://localhost:8080/"
        },
        "id": "i92PmKBAQmLR",
        "outputId": "f124cebe-a49b-4ad2-b525-94282b5b387f"
      },
      "source": [
        "data.shape"
      ],
      "execution_count": null,
      "outputs": [
        {
          "output_type": "execute_result",
          "data": {
            "text/plain": [
              "(2263, 14)"
            ]
          },
          "metadata": {
            "tags": []
          },
          "execution_count": 9
        }
      ]
    },
    {
      "cell_type": "code",
      "metadata": {
        "id": "Ohfo0LLORxnC"
      },
      "source": [
        "data.drop(['SYMBOL','NAME'],axis=1,inplace=True)"
      ],
      "execution_count": null,
      "outputs": []
    },
    {
      "cell_type": "code",
      "metadata": {
        "colab": {
          "base_uri": "https://localhost:8080/"
        },
        "id": "njomm8-MSaMr",
        "outputId": "d7738c0d-2b16-482d-a5a5-6abdb4248a2d"
      },
      "source": [
        "data.shape"
      ],
      "execution_count": null,
      "outputs": [
        {
          "output_type": "execute_result",
          "data": {
            "text/plain": [
              "(2263, 12)"
            ]
          },
          "metadata": {
            "tags": []
          },
          "execution_count": 11
        }
      ]
    },
    {
      "cell_type": "code",
      "metadata": {
        "colab": {
          "base_uri": "https://localhost:8080/"
        },
        "id": "uWlqkOU3Tpm1",
        "outputId": "ee677d81-46fe-4262-d3ce-f11e80fb8df9"
      },
      "source": [
        "data.isnull().sum()"
      ],
      "execution_count": null,
      "outputs": [
        {
          "output_type": "execute_result",
          "data": {
            "text/plain": [
              "STATE                0\n",
              "CONSTITUENCY         0\n",
              "WINNER               0\n",
              "PARTY                0\n",
              "GENDER             245\n",
              "CRIMINAL\\nCASES    245\n",
              "AGE                245\n",
              "CATEGORY           245\n",
              "EDUCATION          245\n",
              "ASSETS             245\n",
              "LIABILITIES        245\n",
              "TOTAL ELECTORS       0\n",
              "dtype: int64"
            ]
          },
          "metadata": {
            "tags": []
          },
          "execution_count": 12
        }
      ]
    },
    {
      "cell_type": "code",
      "metadata": {
        "id": "Bzwle1R0T5LT"
      },
      "source": [
        "data.drop(data[data['PARTY']=='NOTA'].index,axis=0,inplace=True)"
      ],
      "execution_count": null,
      "outputs": []
    },
    {
      "cell_type": "code",
      "metadata": {
        "colab": {
          "base_uri": "https://localhost:8080/"
        },
        "id": "11tmrRseUqXA",
        "outputId": "9a3a5f93-633a-4f46-b849-f5e54848bf06"
      },
      "source": [
        "data.shape"
      ],
      "execution_count": null,
      "outputs": [
        {
          "output_type": "execute_result",
          "data": {
            "text/plain": [
              "(2018, 12)"
            ]
          },
          "metadata": {
            "tags": []
          },
          "execution_count": 14
        }
      ]
    },
    {
      "cell_type": "code",
      "metadata": {
        "colab": {
          "base_uri": "https://localhost:8080/"
        },
        "id": "pmkvYX5IUs1w",
        "outputId": "9697e090-9791-4362-8292-de514fe38aab"
      },
      "source": [
        "data.isnull().sum().sum()"
      ],
      "execution_count": null,
      "outputs": [
        {
          "output_type": "execute_result",
          "data": {
            "text/plain": [
              "0"
            ]
          },
          "metadata": {
            "tags": []
          },
          "execution_count": 15
        }
      ]
    },
    {
      "cell_type": "code",
      "metadata": {
        "colab": {
          "base_uri": "https://localhost:8080/"
        },
        "id": "HDsDsc3GVIjm",
        "outputId": "d303d8ad-fb06-4b4c-f721-5473d08e01f2"
      },
      "source": [
        "data.info()"
      ],
      "execution_count": null,
      "outputs": [
        {
          "output_type": "stream",
          "text": [
            "<class 'pandas.core.frame.DataFrame'>\n",
            "Int64Index: 2018 entries, 0 to 2261\n",
            "Data columns (total 12 columns):\n",
            " #   Column          Non-Null Count  Dtype  \n",
            "---  ------          --------------  -----  \n",
            " 0   STATE           2018 non-null   object \n",
            " 1   CONSTITUENCY    2018 non-null   object \n",
            " 2   WINNER          2018 non-null   int64  \n",
            " 3   PARTY           2018 non-null   object \n",
            " 4   GENDER          2018 non-null   object \n",
            " 5   CRIMINAL\n",
            "CASES  2018 non-null   object \n",
            " 6   AGE             2018 non-null   float64\n",
            " 7   CATEGORY        2018 non-null   object \n",
            " 8   EDUCATION       2018 non-null   object \n",
            " 9   ASSETS          2018 non-null   object \n",
            " 10  LIABILITIES     2018 non-null   object \n",
            " 11  TOTAL ELECTORS  2018 non-null   int64  \n",
            "dtypes: float64(1), int64(2), object(9)\n",
            "memory usage: 205.0+ KB\n"
          ],
          "name": "stdout"
        }
      ]
    },
    {
      "cell_type": "code",
      "metadata": {
        "colab": {
          "base_uri": "https://localhost:8080/",
          "height": 197
        },
        "id": "rwIIxee3hb-9",
        "outputId": "3869f882-6049-4434-cc01-1bd741d0f665"
      },
      "source": [
        "data.head()"
      ],
      "execution_count": null,
      "outputs": [
        {
          "output_type": "execute_result",
          "data": {
            "text/html": [
              "<div>\n",
              "<style scoped>\n",
              "    .dataframe tbody tr th:only-of-type {\n",
              "        vertical-align: middle;\n",
              "    }\n",
              "\n",
              "    .dataframe tbody tr th {\n",
              "        vertical-align: top;\n",
              "    }\n",
              "\n",
              "    .dataframe thead th {\n",
              "        text-align: right;\n",
              "    }\n",
              "</style>\n",
              "<table border=\"1\" class=\"dataframe\">\n",
              "  <thead>\n",
              "    <tr style=\"text-align: right;\">\n",
              "      <th></th>\n",
              "      <th>STATE</th>\n",
              "      <th>CONSTITUENCY</th>\n",
              "      <th>WINNER</th>\n",
              "      <th>PARTY</th>\n",
              "      <th>GENDER</th>\n",
              "      <th>CRIMINAL\\nCASES</th>\n",
              "      <th>AGE</th>\n",
              "      <th>CATEGORY</th>\n",
              "      <th>EDUCATION</th>\n",
              "      <th>ASSETS</th>\n",
              "      <th>LIABILITIES</th>\n",
              "      <th>TOTAL ELECTORS</th>\n",
              "    </tr>\n",
              "  </thead>\n",
              "  <tbody>\n",
              "    <tr>\n",
              "      <th>0</th>\n",
              "      <td>Telangana</td>\n",
              "      <td>ADILABAD</td>\n",
              "      <td>1</td>\n",
              "      <td>BJP</td>\n",
              "      <td>MALE</td>\n",
              "      <td>52</td>\n",
              "      <td>52.0</td>\n",
              "      <td>ST</td>\n",
              "      <td>12th Pass</td>\n",
              "      <td>Rs 30,99,414\\n ~ 30 Lacs+</td>\n",
              "      <td>Rs 2,31,450\\n ~ 2 Lacs+</td>\n",
              "      <td>1489790</td>\n",
              "    </tr>\n",
              "    <tr>\n",
              "      <th>1</th>\n",
              "      <td>Telangana</td>\n",
              "      <td>ADILABAD</td>\n",
              "      <td>0</td>\n",
              "      <td>TRS</td>\n",
              "      <td>MALE</td>\n",
              "      <td>0</td>\n",
              "      <td>54.0</td>\n",
              "      <td>ST</td>\n",
              "      <td>Post Graduate</td>\n",
              "      <td>Rs 1,84,77,888\\n ~ 1 Crore+</td>\n",
              "      <td>Rs 8,47,000\\n ~ 8 Lacs+</td>\n",
              "      <td>1489790</td>\n",
              "    </tr>\n",
              "    <tr>\n",
              "      <th>2</th>\n",
              "      <td>Telangana</td>\n",
              "      <td>ADILABAD</td>\n",
              "      <td>0</td>\n",
              "      <td>INC</td>\n",
              "      <td>MALE</td>\n",
              "      <td>3</td>\n",
              "      <td>52.0</td>\n",
              "      <td>ST</td>\n",
              "      <td>12th Pass</td>\n",
              "      <td>Rs 3,64,91,000\\n ~ 3 Crore+</td>\n",
              "      <td>Rs 1,53,00,000\\n ~ 1 Crore+</td>\n",
              "      <td>1489790</td>\n",
              "    </tr>\n",
              "    <tr>\n",
              "      <th>4</th>\n",
              "      <td>Uttar Pradesh</td>\n",
              "      <td>AGRA</td>\n",
              "      <td>1</td>\n",
              "      <td>BJP</td>\n",
              "      <td>MALE</td>\n",
              "      <td>5</td>\n",
              "      <td>58.0</td>\n",
              "      <td>SC</td>\n",
              "      <td>Doctorate</td>\n",
              "      <td>Rs 7,42,74,036\\n ~ 7 Crore+</td>\n",
              "      <td>Rs 86,06,522\\n ~ 86 Lacs+</td>\n",
              "      <td>1937690</td>\n",
              "    </tr>\n",
              "    <tr>\n",
              "      <th>5</th>\n",
              "      <td>Uttar Pradesh</td>\n",
              "      <td>AGRA</td>\n",
              "      <td>0</td>\n",
              "      <td>BSP</td>\n",
              "      <td>MALE</td>\n",
              "      <td>0</td>\n",
              "      <td>47.0</td>\n",
              "      <td>SC</td>\n",
              "      <td>Post Graduate</td>\n",
              "      <td>Rs 13,37,84,385\\n ~ 13 Crore+</td>\n",
              "      <td>Rs 2,22,51,891\\n ~ 2 Crore+</td>\n",
              "      <td>1937690</td>\n",
              "    </tr>\n",
              "  </tbody>\n",
              "</table>\n",
              "</div>"
            ],
            "text/plain": [
              "           STATE CONSTITUENCY  ...                  LIABILITIES TOTAL ELECTORS\n",
              "0      Telangana     ADILABAD  ...      Rs 2,31,450\\n ~ 2 Lacs+        1489790\n",
              "1      Telangana     ADILABAD  ...      Rs 8,47,000\\n ~ 8 Lacs+        1489790\n",
              "2      Telangana     ADILABAD  ...  Rs 1,53,00,000\\n ~ 1 Crore+        1489790\n",
              "4  Uttar Pradesh         AGRA  ...    Rs 86,06,522\\n ~ 86 Lacs+        1937690\n",
              "5  Uttar Pradesh         AGRA  ...  Rs 2,22,51,891\\n ~ 2 Crore+        1937690\n",
              "\n",
              "[5 rows x 12 columns]"
            ]
          },
          "metadata": {
            "tags": []
          },
          "execution_count": 17
        }
      ]
    },
    {
      "cell_type": "code",
      "metadata": {
        "id": "QHnTk2cpp9RI"
      },
      "source": [
        "def converter (x):\r\n",
        "  try:\r\n",
        "\r\n",
        "    x=x.split('\\n')[0]\r\n",
        "    x=x.split()[1]\r\n",
        "    x=x.replace(\",\",\"\")\r\n",
        "    x=float(x)\r\n",
        "  except:\r\n",
        "   x=0\r\n",
        "  return x   "
      ],
      "execution_count": null,
      "outputs": []
    },
    {
      "cell_type": "code",
      "metadata": {
        "id": "xsvyw_rjq2eT"
      },
      "source": [
        "data['ASSETS']= data['ASSETS'].apply(lambda x : converter(x))"
      ],
      "execution_count": null,
      "outputs": []
    },
    {
      "cell_type": "code",
      "metadata": {
        "id": "0lvhMb_Vrg4J"
      },
      "source": [
        "data['LIABILITIES']= data['LIABILITIES'].apply(lambda x : converter(x))"
      ],
      "execution_count": null,
      "outputs": []
    },
    {
      "cell_type": "code",
      "metadata": {
        "colab": {
          "base_uri": "https://localhost:8080/"
        },
        "id": "m8IEXdmvrniM",
        "outputId": "209f28c3-04aa-4568-93e3-5e74efc930ae"
      },
      "source": [
        "data['ASSETS']"
      ],
      "execution_count": null,
      "outputs": [
        {
          "output_type": "execute_result",
          "data": {
            "text/plain": [
              "0       3.099414e+06\n",
              "1       1.847789e+07\n",
              "2       3.649100e+07\n",
              "4       7.427404e+07\n",
              "5       1.337844e+08\n",
              "            ...     \n",
              "2257    1.168500e+06\n",
              "2258    4.890000e+06\n",
              "2259    1.287852e+09\n",
              "2260    9.036630e+08\n",
              "2261    5.857733e+07\n",
              "Name: ASSETS, Length: 2018, dtype: float64"
            ]
          },
          "metadata": {
            "tags": []
          },
          "execution_count": 21
        }
      ]
    },
    {
      "cell_type": "code",
      "metadata": {
        "colab": {
          "base_uri": "https://localhost:8080/",
          "height": 197
        },
        "id": "f9KxR0a2sk0Q",
        "outputId": "6c0da053-7845-4015-ff54-bc290c404bed"
      },
      "source": [
        "data.head()"
      ],
      "execution_count": null,
      "outputs": [
        {
          "output_type": "execute_result",
          "data": {
            "text/html": [
              "<div>\n",
              "<style scoped>\n",
              "    .dataframe tbody tr th:only-of-type {\n",
              "        vertical-align: middle;\n",
              "    }\n",
              "\n",
              "    .dataframe tbody tr th {\n",
              "        vertical-align: top;\n",
              "    }\n",
              "\n",
              "    .dataframe thead th {\n",
              "        text-align: right;\n",
              "    }\n",
              "</style>\n",
              "<table border=\"1\" class=\"dataframe\">\n",
              "  <thead>\n",
              "    <tr style=\"text-align: right;\">\n",
              "      <th></th>\n",
              "      <th>STATE</th>\n",
              "      <th>CONSTITUENCY</th>\n",
              "      <th>WINNER</th>\n",
              "      <th>PARTY</th>\n",
              "      <th>GENDER</th>\n",
              "      <th>CRIMINAL\\nCASES</th>\n",
              "      <th>AGE</th>\n",
              "      <th>CATEGORY</th>\n",
              "      <th>EDUCATION</th>\n",
              "      <th>ASSETS</th>\n",
              "      <th>LIABILITIES</th>\n",
              "      <th>TOTAL ELECTORS</th>\n",
              "    </tr>\n",
              "  </thead>\n",
              "  <tbody>\n",
              "    <tr>\n",
              "      <th>0</th>\n",
              "      <td>Telangana</td>\n",
              "      <td>ADILABAD</td>\n",
              "      <td>1</td>\n",
              "      <td>BJP</td>\n",
              "      <td>MALE</td>\n",
              "      <td>52</td>\n",
              "      <td>52.0</td>\n",
              "      <td>ST</td>\n",
              "      <td>12th Pass</td>\n",
              "      <td>3099414.0</td>\n",
              "      <td>231450.0</td>\n",
              "      <td>1489790</td>\n",
              "    </tr>\n",
              "    <tr>\n",
              "      <th>1</th>\n",
              "      <td>Telangana</td>\n",
              "      <td>ADILABAD</td>\n",
              "      <td>0</td>\n",
              "      <td>TRS</td>\n",
              "      <td>MALE</td>\n",
              "      <td>0</td>\n",
              "      <td>54.0</td>\n",
              "      <td>ST</td>\n",
              "      <td>Post Graduate</td>\n",
              "      <td>18477888.0</td>\n",
              "      <td>847000.0</td>\n",
              "      <td>1489790</td>\n",
              "    </tr>\n",
              "    <tr>\n",
              "      <th>2</th>\n",
              "      <td>Telangana</td>\n",
              "      <td>ADILABAD</td>\n",
              "      <td>0</td>\n",
              "      <td>INC</td>\n",
              "      <td>MALE</td>\n",
              "      <td>3</td>\n",
              "      <td>52.0</td>\n",
              "      <td>ST</td>\n",
              "      <td>12th Pass</td>\n",
              "      <td>36491000.0</td>\n",
              "      <td>15300000.0</td>\n",
              "      <td>1489790</td>\n",
              "    </tr>\n",
              "    <tr>\n",
              "      <th>4</th>\n",
              "      <td>Uttar Pradesh</td>\n",
              "      <td>AGRA</td>\n",
              "      <td>1</td>\n",
              "      <td>BJP</td>\n",
              "      <td>MALE</td>\n",
              "      <td>5</td>\n",
              "      <td>58.0</td>\n",
              "      <td>SC</td>\n",
              "      <td>Doctorate</td>\n",
              "      <td>74274036.0</td>\n",
              "      <td>8606522.0</td>\n",
              "      <td>1937690</td>\n",
              "    </tr>\n",
              "    <tr>\n",
              "      <th>5</th>\n",
              "      <td>Uttar Pradesh</td>\n",
              "      <td>AGRA</td>\n",
              "      <td>0</td>\n",
              "      <td>BSP</td>\n",
              "      <td>MALE</td>\n",
              "      <td>0</td>\n",
              "      <td>47.0</td>\n",
              "      <td>SC</td>\n",
              "      <td>Post Graduate</td>\n",
              "      <td>133784385.0</td>\n",
              "      <td>22251891.0</td>\n",
              "      <td>1937690</td>\n",
              "    </tr>\n",
              "  </tbody>\n",
              "</table>\n",
              "</div>"
            ],
            "text/plain": [
              "           STATE CONSTITUENCY  WINNER  ...       ASSETS LIABILITIES TOTAL ELECTORS\n",
              "0      Telangana     ADILABAD       1  ...    3099414.0    231450.0        1489790\n",
              "1      Telangana     ADILABAD       0  ...   18477888.0    847000.0        1489790\n",
              "2      Telangana     ADILABAD       0  ...   36491000.0  15300000.0        1489790\n",
              "4  Uttar Pradesh         AGRA       1  ...   74274036.0   8606522.0        1937690\n",
              "5  Uttar Pradesh         AGRA       0  ...  133784385.0  22251891.0        1937690\n",
              "\n",
              "[5 rows x 12 columns]"
            ]
          },
          "metadata": {
            "tags": []
          },
          "execution_count": 22
        }
      ]
    },
    {
      "cell_type": "code",
      "metadata": {
        "colab": {
          "base_uri": "https://localhost:8080/"
        },
        "id": "TS0ZRxStsoVY",
        "outputId": "f1052467-d992-406d-9719-b95ec5c7bb98"
      },
      "source": [
        "data.shape"
      ],
      "execution_count": null,
      "outputs": [
        {
          "output_type": "execute_result",
          "data": {
            "text/plain": [
              "(2018, 12)"
            ]
          },
          "metadata": {
            "tags": []
          },
          "execution_count": 23
        }
      ]
    },
    {
      "cell_type": "code",
      "metadata": {
        "colab": {
          "base_uri": "https://localhost:8080/"
        },
        "id": "AH9uVjMKtXfb",
        "outputId": "23bd57db-acef-4c9e-85c7-7538b1d6da27"
      },
      "source": [
        "data.isnull().sum()"
      ],
      "execution_count": null,
      "outputs": [
        {
          "output_type": "execute_result",
          "data": {
            "text/plain": [
              "STATE              0\n",
              "CONSTITUENCY       0\n",
              "WINNER             0\n",
              "PARTY              0\n",
              "GENDER             0\n",
              "CRIMINAL\\nCASES    0\n",
              "AGE                0\n",
              "CATEGORY           0\n",
              "EDUCATION          0\n",
              "ASSETS             0\n",
              "LIABILITIES        0\n",
              "TOTAL ELECTORS     0\n",
              "dtype: int64"
            ]
          },
          "metadata": {
            "tags": []
          },
          "execution_count": 24
        }
      ]
    },
    {
      "cell_type": "code",
      "metadata": {
        "colab": {
          "base_uri": "https://localhost:8080/"
        },
        "id": "PSVgW7JUtcn9",
        "outputId": "801d860c-10bb-4b64-cdaf-3c338c066add"
      },
      "source": [
        "data.dtypes"
      ],
      "execution_count": null,
      "outputs": [
        {
          "output_type": "execute_result",
          "data": {
            "text/plain": [
              "STATE               object\n",
              "CONSTITUENCY        object\n",
              "WINNER               int64\n",
              "PARTY               object\n",
              "GENDER              object\n",
              "CRIMINAL\\nCASES     object\n",
              "AGE                float64\n",
              "CATEGORY            object\n",
              "EDUCATION           object\n",
              "ASSETS             float64\n",
              "LIABILITIES        float64\n",
              "TOTAL ELECTORS       int64\n",
              "dtype: object"
            ]
          },
          "metadata": {
            "tags": []
          },
          "execution_count": 25
        }
      ]
    },
    {
      "cell_type": "code",
      "metadata": {
        "id": "hVlHKOJptozH"
      },
      "source": [
        "x = data.drop('WINNER',axis=1)"
      ],
      "execution_count": null,
      "outputs": []
    },
    {
      "cell_type": "code",
      "metadata": {
        "id": "__vqWVEYt0UE"
      },
      "source": [
        "y=data['WINNER']"
      ],
      "execution_count": null,
      "outputs": []
    },
    {
      "cell_type": "code",
      "metadata": {
        "id": "AfiNL1sbt-Ga"
      },
      "source": [
        "x = pd.get_dummies(x)"
      ],
      "execution_count": null,
      "outputs": []
    },
    {
      "cell_type": "code",
      "metadata": {
        "colab": {
          "base_uri": "https://localhost:8080/"
        },
        "id": "xHRzX2HcuDkR",
        "outputId": "d24225ff-6d6c-42f6-99b0-976e1d82facf"
      },
      "source": [
        "x.shape"
      ],
      "execution_count": null,
      "outputs": [
        {
          "output_type": "execute_result",
          "data": {
            "text/plain": [
              "(2018, 758)"
            ]
          },
          "metadata": {
            "tags": []
          },
          "execution_count": 29
        }
      ]
    },
    {
      "cell_type": "code",
      "metadata": {
        "id": "UGbuNtPcuHaZ"
      },
      "source": [
        "x_train,x_test,y_train,y_test = train_test_split(x,y,test_size=0.30,random_state=42)"
      ],
      "execution_count": null,
      "outputs": []
    },
    {
      "cell_type": "code",
      "metadata": {
        "id": "Co4K1WUryQQ6"
      },
      "source": [
        "model = SVC()"
      ],
      "execution_count": null,
      "outputs": []
    },
    {
      "cell_type": "code",
      "metadata": {
        "id": "9BDklFZO2X-p"
      },
      "source": [
        "# parameterssvc = {'kernal':['linear']}"
      ],
      "execution_count": null,
      "outputs": []
    },
    {
      "cell_type": "code",
      "metadata": {
        "id": "GqjFc3Tl4k1d"
      },
      "source": [
        "# Parameters = [{'kernel': ['rbf'], 'gamma': [1e-3, 1e-4],\r\n",
        "#                      'C': [1, 10, 20]},\r\n",
        "#                     {'kernel': ['linear'], 'C': [1, 10, 20]}]"
      ],
      "execution_count": null,
      "outputs": []
    },
    {
      "cell_type": "code",
      "metadata": {
        "id": "pdRCxggyUDf0"
      },
      "source": [
        "# parameters_new = [{'C':[0.001,0.1],'gamma':[0.1],'kernal':['rbf']}]"
      ],
      "execution_count": null,
      "outputs": []
    },
    {
      "cell_type": "code",
      "metadata": {
        "id": "vWLJ4skLV2By"
      },
      "source": [
        "Parameters = [{'kernel': ['rbf'], 'gamma': [0.1,0.2,0.5,0.75,1,2,3,4,5,6,7,8,9,10,15],\r\n",
        "                     'C': [0.1,0.2,0.5,0.75,1,2,3,4,5,6,7,8,9,10,15]},\r\n",
        "                    {'kernel': ['linear'], 'C': [1,10]}]"
      ],
      "execution_count": null,
      "outputs": []
    },
    {
      "cell_type": "code",
      "metadata": {
        "id": "O_-oYN1v2q0a"
      },
      "source": [
        "grid_svc = GridSearchCV(model,Parameters,cv=5,n_jobs=-1)"
      ],
      "execution_count": null,
      "outputs": []
    },
    {
      "cell_type": "code",
      "metadata": {
        "id": "OO1gezJY28sT"
      },
      "source": [
        "grid_svc.fit(x_train,y_train)"
      ],
      "execution_count": null,
      "outputs": []
    },
    {
      "cell_type": "code",
      "metadata": {
        "id": "yHlnKQkTEp2V"
      },
      "source": [
        "model_LR = LogisticRegression()"
      ],
      "execution_count": null,
      "outputs": []
    },
    {
      "cell_type": "code",
      "metadata": {
        "id": "TWnVJT2QExQ5"
      },
      "source": [
        "penalty = ['l1', 'l2', 'elasticnet']"
      ],
      "execution_count": null,
      "outputs": []
    },
    {
      "cell_type": "code",
      "metadata": {
        "id": "RacEbJB7FTKR"
      },
      "source": [
        "solver =  ['sag', 'saga']"
      ],
      "execution_count": null,
      "outputs": []
    },
    {
      "cell_type": "code",
      "metadata": {
        "id": "xd4b3ClYFcga"
      },
      "source": [
        "parameter_LR = {'solver':solver,'penalty':penalty} "
      ],
      "execution_count": null,
      "outputs": []
    },
    {
      "cell_type": "code",
      "metadata": {
        "id": "ZFM79k90F4v4"
      },
      "source": [
        "grid_search = GridSearchCV(model_LR,parameter_LR,cv=5)"
      ],
      "execution_count": null,
      "outputs": []
    },
    {
      "cell_type": "code",
      "metadata": {
        "id": "F71Bt6eAGI7a"
      },
      "source": [
        "grid_search.fit(x_train,y_train)"
      ],
      "execution_count": null,
      "outputs": []
    },
    {
      "cell_type": "code",
      "metadata": {
        "id": "LGdxoX5hIPDV"
      },
      "source": [
        "grid_search.best_params_"
      ],
      "execution_count": null,
      "outputs": []
    },
    {
      "cell_type": "code",
      "metadata": {
        "id": "AfJdiSr0IqDZ"
      },
      "source": [
        "final_model = LogisticRegression(penalty = 'l2',solver='sag')"
      ],
      "execution_count": null,
      "outputs": []
    },
    {
      "cell_type": "code",
      "metadata": {
        "id": "xkiD3F5pJAz0"
      },
      "source": [
        "final_model.fit(x_train,y_train)"
      ],
      "execution_count": null,
      "outputs": []
    },
    {
      "cell_type": "code",
      "metadata": {
        "id": "lvzZbBQLJd7l"
      },
      "source": [
        "y_pred = final_model.predict(x_test)"
      ],
      "execution_count": null,
      "outputs": []
    },
    {
      "cell_type": "code",
      "metadata": {
        "id": "xYOhxXzkJi94"
      },
      "source": [
        "accuracy_score(y_test,y_pred)"
      ],
      "execution_count": null,
      "outputs": []
    },
    {
      "cell_type": "code",
      "metadata": {
        "id": "fo91dZEnJo68"
      },
      "source": [
        "confusion_matrix(y_test,y_pred)"
      ],
      "execution_count": null,
      "outputs": []
    },
    {
      "cell_type": "code",
      "metadata": {
        "id": "_nFfwP_4JulN"
      },
      "source": [
        "classification_report(y_test,y_pred)"
      ],
      "execution_count": null,
      "outputs": []
    }
  ]
}